{
 "cells": [
  {
   "cell_type": "code",
   "execution_count": 1,
   "id": "israeli-shopper",
   "metadata": {},
   "outputs": [],
   "source": [
    "# Imports\n",
    "import numpy as np\n",
    "from IPython.display import clear_output\n",
    "from tqdm import tqdm\n",
    "import matplotlib.pyplot as plt"
   ]
  },
  {
   "cell_type": "code",
   "execution_count": 2,
   "id": "egyptian-danish",
   "metadata": {},
   "outputs": [],
   "source": [
    "# Four rooms environment class copied and pasted from my ex0 submission\n",
    "class Environment:\n",
    "    \n",
    "    def __init__(self, rows, cols, walls):\n",
    "        \n",
    "        self.rows = rows\n",
    "        self.cols = cols\n",
    "        self.walls = walls\n",
    "        self.x = 0\n",
    "        self.y = 0\n",
    "        self.x_prev = 0\n",
    "        self.y_prev = 0\n",
    "        self.bank = 0\n",
    "        \n",
    "    def draw(self):\n",
    "        for row in range(self.rows):\n",
    "            for col in range(self.cols):\n",
    "                if ((self.rows-row-1, col)) in self.walls:\n",
    "                    print(\"{}   \".format(\"1\"), end=\"\")\n",
    "                elif ((self.rows-row-1, col)) == (self.rows-1, self.cols-1):\n",
    "                    print(\"{}   \".format(\"F\"), end=\"\")\n",
    "                elif ((self.rows-row-1, col)) == (self.x, self.y):\n",
    "                    print(\"{}   \".format(\"P\"), end=\"\")\n",
    "                else:\n",
    "                    print(\"{}   \".format(\"0\"), end=\"\")\n",
    "            print(\"\\n\")\n",
    "                        \n",
    "    def step(self, action):\n",
    "        slips = np.random.choice([True, False], p=[0.2, 0.8])\n",
    "        self.x_prev=self.x\n",
    "        self.y_prev=self.y\n",
    "        if action == \"LEFT\":\n",
    "            if slips:\n",
    "                self.x=self.x+np.random.choice([1, -1], p=[0.5, 0.5])\n",
    "            else:\n",
    "                self.y=self.y-1\n",
    "            self.correct()\n",
    "            return self.reward()\n",
    "        elif action == \"RIGHT\":\n",
    "            if slips:\n",
    "                self.x=self.x+np.random.choice([1, -1], p=[0.5, 0.5])\n",
    "            else:\n",
    "                self.y=self.y+1\n",
    "            self.correct()\n",
    "            return self.reward()\n",
    "        elif action == \"UP\":\n",
    "            if slips:\n",
    "                self.y=self.y+np.random.choice([1, -1], p=[0.5, 0.5])\n",
    "            else:\n",
    "                self.x=self.x+1\n",
    "            self.correct()\n",
    "            return self.reward()\n",
    "        elif action == \"DOWN\":\n",
    "            if slips:\n",
    "                self.y=self.y+np.random.choice([1, -1], p=[0.5, 0.5])\n",
    "            else:\n",
    "                self.x=self.x-1\n",
    "            self.correct()\n",
    "            return self.reward()\n",
    "        \n",
    "    def reward(self):\n",
    "        if ((self.rows-self.x-1, self.y)) == (self.rows-1, self.cols-1):\n",
    "            self.bank+=1\n",
    "            self.restart()\n",
    "            return (1, True)\n",
    "        else:\n",
    "            return (0, False)\n",
    "        \n",
    "    def correct(self):\n",
    "        if self.x<0:\n",
    "            self.x=self.x_prev\n",
    "        elif self.x==self.rows:\n",
    "            self.x=self.x_prev\n",
    "        elif self.y<0:\n",
    "            self.y=self.y_prev\n",
    "        elif self.y==self.cols:\n",
    "            self.y=self.y_prev\n",
    "        elif ((self.x, self.y)) in self.walls:\n",
    "            self.x=self.x_prev\n",
    "            self.y=self.y_prev\n",
    "            \n",
    "    def restart(self):\n",
    "        self.x = 0\n",
    "        self.y = 0\n",
    "        self.x_prev = 0\n",
    "        self.y_prev = 0\n",
    "        \n",
    "    def reset(self):\n",
    "        self.restart()\n",
    "        self.bank = 0\n",
    "        \n",
    "    def loc(self):\n",
    "        return (self.x, self.y)"
   ]
  },
  {
   "cell_type": "code",
   "execution_count": 15,
   "id": "stopped-fundamental",
   "metadata": {},
   "outputs": [],
   "source": [
    "# Function to initialize policy, qfunction, and return dictionaries\n",
    "def initialize():\n",
    "    policy = {}\n",
    "    for row in range(ROWS):\n",
    "        for col in range(COLS):\n",
    "            policy[row,col] = np.random.choice(action_space)\n",
    "\n",
    "    qfunction = {}\n",
    "    returns = {}\n",
    "    for row in range(ROWS):\n",
    "        for col in range(COLS):\n",
    "            for action in action_space:\n",
    "                qfunction[(row, col), (action)] = np.random.rand()\n",
    "                returns[(row, col), (action)] = []\n",
    "                \n",
    "    return policy, qfunction, returns"
   ]
  },
  {
   "cell_type": "code",
   "execution_count": 20,
   "id": "informal-alfred",
   "metadata": {},
   "outputs": [],
   "source": [
    "# Function to generate an episode following policy\n",
    "def play():\n",
    "    environment.reset()\n",
    "    moves = 0\n",
    "    episode = []\n",
    "    while True:\n",
    "        state = environment.loc()\n",
    "        action = policy[environment.loc()]\n",
    "        reward, done  = environment.step(policy[environment.loc()])\n",
    "        episode.append(tuple((state, action, reward)))\n",
    "        moves +=1\n",
    "        if moves > 459 or done:\n",
    "            break\n",
    "    return (episode, 1*gamma**len(episode))"
   ]
  },
  {
   "cell_type": "code",
   "execution_count": 29,
   "id": "leading-transcription",
   "metadata": {},
   "outputs": [],
   "source": [
    "# Hyperparameters\n",
    "environment = Environment(rows=ROWS, cols=COLS, walls=WALLS)\n",
    "epsilon = 0.1\n",
    "action_space = [\"UP\", \"DOWN\", \"LEFT\", \"RIGHT\"]\n",
    "epochs = 1000\n",
    "gamma = 0.9\n",
    "ROWS = 11\n",
    "COLS = 11\n",
    "WALLS = [\n",
    "    (5, 0),\n",
    "    (5, 2),\n",
    "    (5, 3),\n",
    "    (5, 4),\n",
    "    (5, 5),\n",
    "    (4, 5),\n",
    "    (4, 6),\n",
    "    (4, 7),\n",
    "    (4, 9),\n",
    "    (4, 10),\n",
    "    (0, 5),\n",
    "    (2, 5),\n",
    "    (3, 5),\n",
    "    (6, 5),\n",
    "    (7, 5),\n",
    "    (9, 5),\n",
    "    (10, 5),\n",
    "]"
   ]
  },
  {
   "cell_type": "code",
   "execution_count": 36,
   "id": "competitive-oliver",
   "metadata": {},
   "outputs": [
    {
     "name": "stderr",
     "output_type": "stream",
     "text": [
      "100%|██████████| 1000/1000 [00:31<00:00, 32.12it/s]\n",
      "100%|██████████| 1000/1000 [00:31<00:00, 32.05it/s]\n",
      "100%|██████████| 1000/1000 [00:26<00:00, 37.15it/s]\n",
      "100%|██████████| 1000/1000 [00:31<00:00, 32.16it/s]\n",
      "100%|██████████| 1000/1000 [00:31<00:00, 31.67it/s]\n",
      "100%|██████████| 1000/1000 [00:05<00:00, 183.31it/s]\n",
      "100%|██████████| 1000/1000 [00:18<00:00, 55.16it/s]\n",
      "100%|██████████| 1000/1000 [00:31<00:00, 32.01it/s]\n",
      "100%|██████████| 1000/1000 [00:31<00:00, 31.86it/s]\n",
      "100%|██████████| 1000/1000 [00:09<00:00, 110.62it/s]\n",
      "100%|██████████| 1000/1000 [00:31<00:00, 31.72it/s]\n",
      "100%|██████████| 1000/1000 [00:06<00:00, 145.19it/s]\n",
      "100%|██████████| 1000/1000 [00:07<00:00, 133.42it/s]\n",
      "100%|██████████| 1000/1000 [00:31<00:00, 31.55it/s]\n",
      "100%|██████████| 1000/1000 [00:31<00:00, 32.16it/s]\n",
      "100%|██████████| 1000/1000 [00:31<00:00, 32.25it/s]\n",
      "100%|██████████| 1000/1000 [00:31<00:00, 31.95it/s]\n",
      "100%|██████████| 1000/1000 [00:06<00:00, 156.55it/s]\n",
      "100%|██████████| 1000/1000 [00:30<00:00, 32.32it/s]\n",
      "100%|██████████| 1000/1000 [00:07<00:00, 141.99it/s]\n"
     ]
    }
   ],
   "source": [
    "data = []\n",
    "\n",
    "for trial in range(20):\n",
    "    \n",
    "    policy, qfunction, returns = initialize()\n",
    "    rewards = []\n",
    "\n",
    "    for epoch in tqdm(range(epochs)):\n",
    "\n",
    "        episode, reward = play()\n",
    "        rewards.append(reward)\n",
    "        G = 0\n",
    "\n",
    "        for T, step in enumerate(reversed(episode)):\n",
    "            state, action, reward = step\n",
    "            G = gamma * G + int(reward)\n",
    "            if [state, action] not in [[step[0], step[1]] for step in episode[:-T-1]]:\n",
    "                returns[state, action].append(G)\n",
    "                qfunction[state, action] = np.average(returns[state, action])\n",
    "                argmax = max(action_space, key= lambda a: qfunction[state, a])\n",
    "                policy[state] = np.random.choice([argmax, np.random.choice(action_space)], p=[1-epsilon, epsilon])\n",
    "                \n",
    "    data.append(rewards)\n",
    "    \n",
    "data = np.array(data)"
   ]
  },
  {
   "cell_type": "code",
   "execution_count": 37,
   "id": "known-webcam",
   "metadata": {},
   "outputs": [
    {
     "data": {
      "text/plain": [
       "[<matplotlib.lines.Line2D at 0x7f99d4369c50>]"
      ]
     },
     "execution_count": 37,
     "metadata": {},
     "output_type": "execute_result"
    },
    {
     "data": {
      "image/png": "[encoded data removed]",
      "text/plain": [
       "<Figure size 432x288 with 1 Axes>"
      ]
     },
     "metadata": {
      "needs_background": "light"
     },
     "output_type": "display_data"
    }
   ],
   "source": [
    "plt.plot(np.mean(data, axis=0))"
   ]
  },
  {
   "cell_type": "code",
   "execution_count": 31,
   "id": "silver-bouquet",
   "metadata": {},
   "outputs": [],
   "source": [
    "prime = dict(item for item in qfunction.items() if policy[item[0][0]] == item[0][1])\n",
    "for wall in WALLS:\n",
    "    prime[wall, policy[wall]] = 0"
   ]
  },
  {
   "cell_type": "code",
   "execution_count": 32,
   "id": "selected-agent",
   "metadata": {},
   "outputs": [
    {
     "data": {
      "text/plain": [
       "<matplotlib.colorbar.Colorbar at 0x7f99d3583e10>"
      ]
     },
     "execution_count": 32,
     "metadata": {},
     "output_type": "execute_result"
    },
    {
     "data": {
      "image/png": "[encoded data removed]",
      "text/plain": [
       "<Figure size 432x288 with 2 Axes>"
      ]
     },
     "metadata": {
      "needs_background": "light"
     },
     "output_type": "display_data"
    }
   ],
   "source": [
    "plt.imshow(np.array(list(prime.values())).reshape(ROWS, COLS))\n",
    "plt.axis('off')\n",
    "plt.colorbar()"
   ]
  },
  {
   "cell_type": "code",
   "execution_count": 35,
   "id": "ordered-machine",
   "metadata": {},
   "outputs": [
    {
     "data": {
      "text/plain": [
       "[<matplotlib.lines.Line2D at 0x7f99d40ed1d0>]"
      ]
     },
     "execution_count": 35,
     "metadata": {},
     "output_type": "execute_result"
    },
    {
     "data": {
      "image/png": "[encoded data removed]",
      "text/plain": [
       "<Figure size 432x288 with 1 Axes>"
      ]
     },
     "metadata": {
      "needs_background": "light"
     },
     "output_type": "display_data"
    }
   ],
   "source": [
    "plt.plot(data[0])"
   ]
  },
  {
   "cell_type": "code",
   "execution_count": null,
   "id": "sound-insurance",
   "metadata": {},
   "outputs": [],
   "source": []
  }
 ],
 "metadata": {
  "kernelspec": {
   "display_name": "Python 3",
   "language": "python",
   "name": "python3"
  },
  "language_info": {
   "codemirror_mode": {
    "name": "ipython",
    "version": 3
   },
   "file_extension": ".py",
   "mimetype": "text/x-python",
   "name": "python",
   "nbconvert_exporter": "python",
   "pygments_lexer": "ipython3",
   "version": "3.7.4"
  }
 },
 "nbformat": 4,
 "nbformat_minor": 5
}
