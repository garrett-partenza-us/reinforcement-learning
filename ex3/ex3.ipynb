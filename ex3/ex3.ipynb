{
 "cells": [
  {
   "cell_type": "code",
   "execution_count": 13,
   "id": "burning-wallpaper",
   "metadata": {},
   "outputs": [],
   "source": [
    "import numpy as np\n",
    "import matplotlib.pyplot as plt\n",
    "import time\n",
    "from tqdm import tqdm"
   ]
  },
  {
   "cell_type": "code",
   "execution_count": 14,
   "id": "korean-outreach",
   "metadata": {},
   "outputs": [],
   "source": [
    "class Location():\n",
    "    \n",
    "    def __init__(self, name, cars, exp_out, exp_in):\n",
    "        self.name = name\n",
    "        self.cars = cars\n",
    "        self.exp_out = exp_out\n",
    "        self.exp_in = exp_in\n",
    "        \n",
    "    def move(self, location, cars):\n",
    "        self.cars = self.cars-cars\n",
    "        location.cars = np.clip(location.cars+cars, 1, 20)\n",
    "        \n",
    "    def rent(self, cars):\n",
    "        self.cars = self.cars-min(self.cars, cars)\n",
    "        return 10 * min(self.cars, cars)\n",
    "    \n",
    "    def restore(self, cars):\n",
    "        self.cars = np.clip(self.cars+cars, 1, 20)\n",
    "        \n",
    "    def episode(self):\n",
    "        return np.random.poisson(self.exp_in), np.random.poisson(self.exp_out)\n",
    "    \n",
    "    def rental_likelihood(self, x):\n",
    "        return np.exp(-self.exp_out) * pow(self.exp_out, x) / np.math.factorial(x)\n",
    "    \n",
    "    def restore_likelihood(self, x):\n",
    "        return np.exp(-self.exp_in) * pow(self.exp_in, x) / np.math.factorial(x)"
   ]
  },
  {
   "cell_type": "code",
   "execution_count": 22,
   "id": "plain-formation",
   "metadata": {},
   "outputs": [],
   "source": [
    "# map (s,a) to (s')\n",
    "def next_state(state, action):\n",
    "    \n",
    "    if action > 0:\n",
    "        s1 = min(state[0] - min(np.abs(action), state[0]), max_cars)\n",
    "        s2 = min(state[1] + min(np.abs(action), state[0]), max_cars)\n",
    "        return tuple((s1,s2)), min(np.abs(action), state[0])\n",
    "    elif action < 0:\n",
    "        s1 = min(state[0] + min(np.abs(action), state[1]), max_cars)\n",
    "        s2 = min(state[1] - min(np.abs(action), state[1]), max_cars)\n",
    "        return tuple((s1,s2)), min(np.abs(action), state[1])\n",
    "    else:\n",
    "        return state, 0\n",
    "    \n",
    "def policy_evaluation():\n",
    "    while True:\n",
    "        delta = 0\n",
    "        for state in tqdm(state_value.keys()):\n",
    "            old = state_value[state]\n",
    "            state_value[state] = expected_reward(state, policy[state])\n",
    "            delta = max(delta, np.abs(old-state_value[state]))\n",
    "        print(delta)\n",
    "        if delta < theta:\n",
    "            break\n",
    "            \n",
    "def policy_improvement():\n",
    "    policy_stable = True\n",
    "    for state in tqdm(state_value.keys()):\n",
    "        old = policy[state]\n",
    "        policy[state] = max(A, key=lambda x: expected_reward(state, x))\n",
    "        if old != policy[state]:\n",
    "            policy_stable = False\n",
    "    return policy_stable\n",
    "            \n",
    "def expected_reward(state, action):\n",
    "    newstate, moved = next_state(state, action)\n",
    "    reward = 0\n",
    "    sum_prob = 0\n",
    "    for loc1_rentals in range(6):\n",
    "        for loc2_rentals in range(6):\n",
    "            for loc1_returns in range(6):\n",
    "                for loc2_returns in range(6):\n",
    "                    probability = (\n",
    "                        loc1.rental_likelihood(loc1_rentals) *\n",
    "                        loc2.rental_likelihood(loc2_rentals) *\n",
    "                        loc1.restore_likelihood(loc1_returns) *\n",
    "                        loc2.restore_likelihood(loc2_returns)\n",
    "                    )                \n",
    "                    loc1_cars = np.clip(newstate[0] - loc1_rentals + loc1_returns, 0, 20)\n",
    "                    loc2_cars = np.clip(newstate[1] - loc2_rentals + loc2_returns, 0, 20)\n",
    "                    reward += probability * (\n",
    "                        -2 * np.abs(moved) + # moving penalty\n",
    "                        10 * (min(loc1_rentals, newstate[0]) + min(loc2_rentals, newstate[1])) # rental reward\n",
    "                        + state_value[(loc1_cars, loc2_cars)] # state-value of s'\n",
    "                    )\n",
    "    return reward"
   ]
  },
  {
   "cell_type": "code",
   "execution_count": 23,
   "id": "unique-missile",
   "metadata": {},
   "outputs": [
    {
     "data": {
      "image/png": "[encoded data removed]",
      "text/plain": [
       "<Figure size 432x288 with 2 Axes>"
      ]
     },
     "metadata": {
      "needs_background": "light"
     },
     "output_type": "display_data"
    },
    {
     "name": "stderr",
     "output_type": "stream",
     "text": [
      "100%|██████████| 441/441 [00:31<00:00, 13.99it/s]\n",
      "  0%|          | 2/441 [00:00<00:32, 13.67it/s]"
     ]
    },
    {
     "name": "stdout",
     "output_type": "stream",
     "text": [
      "72.25654933305496\n"
     ]
    },
    {
     "name": "stderr",
     "output_type": "stream",
     "text": [
      "100%|██████████| 441/441 [00:31<00:00, 14.00it/s]\n",
      "  0%|          | 2/441 [00:00<00:32, 13.68it/s]"
     ]
    },
    {
     "name": "stdout",
     "output_type": "stream",
     "text": [
      "38.89054909923177\n"
     ]
    },
    {
     "name": "stderr",
     "output_type": "stream",
     "text": [
      "100%|██████████| 441/441 [00:31<00:00, 13.91it/s]\n",
      "  0%|          | 2/441 [00:00<00:31, 13.76it/s]"
     ]
    },
    {
     "name": "stdout",
     "output_type": "stream",
     "text": [
      "16.574740790341593\n"
     ]
    },
    {
     "name": "stderr",
     "output_type": "stream",
     "text": [
      "100%|██████████| 441/441 [00:31<00:00, 13.98it/s]\n",
      "  0%|          | 2/441 [00:00<00:31, 14.10it/s]"
     ]
    },
    {
     "name": "stdout",
     "output_type": "stream",
     "text": [
      "7.024469410726454\n"
     ]
    },
    {
     "name": "stderr",
     "output_type": "stream",
     "text": [
      "100%|██████████| 441/441 [00:31<00:00, 13.96it/s]\n",
      "  0%|          | 2/441 [00:00<00:31, 13.93it/s]"
     ]
    },
    {
     "name": "stdout",
     "output_type": "stream",
     "text": [
      "3.325048437938321\n"
     ]
    },
    {
     "name": "stderr",
     "output_type": "stream",
     "text": [
      "100%|██████████| 441/441 [00:31<00:00, 13.94it/s]\n",
      "  0%|          | 2/441 [00:00<00:32, 13.71it/s]"
     ]
    },
    {
     "name": "stdout",
     "output_type": "stream",
     "text": [
      "1.505237131570766\n"
     ]
    },
    {
     "name": "stderr",
     "output_type": "stream",
     "text": [
      "100%|██████████| 441/441 [00:31<00:00, 13.94it/s]\n",
      "  0%|          | 2/441 [00:00<00:32, 13.56it/s]"
     ]
    },
    {
     "name": "stdout",
     "output_type": "stream",
     "text": [
      "0.6727562587810922\n"
     ]
    },
    {
     "name": "stderr",
     "output_type": "stream",
     "text": [
      "100%|██████████| 441/441 [00:31<00:00, 13.94it/s]\n",
      "  0%|          | 2/441 [00:00<00:31, 13.90it/s]"
     ]
    },
    {
     "name": "stdout",
     "output_type": "stream",
     "text": [
      "0.3020944903491376\n"
     ]
    },
    {
     "name": "stderr",
     "output_type": "stream",
     "text": [
      "100%|██████████| 441/441 [00:31<00:00, 13.96it/s]\n",
      "  0%|          | 2/441 [00:00<00:31, 13.88it/s]"
     ]
    },
    {
     "name": "stdout",
     "output_type": "stream",
     "text": [
      "0.16148935750794102\n"
     ]
    },
    {
     "name": "stderr",
     "output_type": "stream",
     "text": [
      "100%|██████████| 441/441 [00:31<00:00, 13.92it/s]\n",
      "  0%|          | 0/441 [00:00<?, ?it/s]"
     ]
    },
    {
     "name": "stdout",
     "output_type": "stream",
     "text": [
      "0.08490370042190776\n"
     ]
    },
    {
     "name": "stderr",
     "output_type": "stream",
     "text": [
      "100%|██████████| 441/441 [05:37<00:00,  1.31it/s]\n"
     ]
    },
    {
     "data": {
      "image/png": "[encoded data removed]",
      "text/plain": [
       "<Figure size 432x288 with 2 Axes>"
      ]
     },
     "metadata": {
      "needs_background": "light"
     },
     "output_type": "display_data"
    },
    {
     "name": "stderr",
     "output_type": "stream",
     "text": [
      "100%|██████████| 441/441 [00:32<00:00, 13.73it/s]\n",
      "  0%|          | 2/441 [00:00<00:31, 13.78it/s]"
     ]
    },
    {
     "name": "stdout",
     "output_type": "stream",
     "text": [
      "41.288213226272674\n"
     ]
    },
    {
     "name": "stderr",
     "output_type": "stream",
     "text": [
      "100%|██████████| 441/441 [00:31<00:00, 13.92it/s]\n",
      "  0%|          | 2/441 [00:00<00:32, 13.59it/s]"
     ]
    },
    {
     "name": "stdout",
     "output_type": "stream",
     "text": [
      "6.423325809566137\n"
     ]
    },
    {
     "name": "stderr",
     "output_type": "stream",
     "text": [
      "100%|██████████| 441/441 [00:32<00:00, 13.66it/s]\n",
      "  0%|          | 2/441 [00:00<00:34, 12.87it/s]"
     ]
    },
    {
     "name": "stdout",
     "output_type": "stream",
     "text": [
      "3.412614571083054\n"
     ]
    },
    {
     "name": "stderr",
     "output_type": "stream",
     "text": [
      "100%|██████████| 441/441 [00:31<00:00, 13.91it/s]\n",
      "  0%|          | 2/441 [00:00<00:31, 14.04it/s]"
     ]
    },
    {
     "name": "stdout",
     "output_type": "stream",
     "text": [
      "1.647246131499756\n"
     ]
    },
    {
     "name": "stderr",
     "output_type": "stream",
     "text": [
      "100%|██████████| 441/441 [00:31<00:00, 13.92it/s]\n",
      "  0%|          | 2/441 [00:00<00:31, 13.75it/s]"
     ]
    },
    {
     "name": "stdout",
     "output_type": "stream",
     "text": [
      "0.7360173381881339\n"
     ]
    },
    {
     "name": "stderr",
     "output_type": "stream",
     "text": [
      "100%|██████████| 441/441 [00:32<00:00, 13.77it/s]\n",
      "  0%|          | 2/441 [00:00<00:31, 13.89it/s]"
     ]
    },
    {
     "name": "stdout",
     "output_type": "stream",
     "text": [
      "0.31949092501936605\n"
     ]
    },
    {
     "name": "stderr",
     "output_type": "stream",
     "text": [
      "100%|██████████| 441/441 [00:32<00:00, 13.73it/s]\n",
      "  0%|          | 2/441 [00:00<00:32, 13.46it/s]"
     ]
    },
    {
     "name": "stdout",
     "output_type": "stream",
     "text": [
      "0.13483091393058544\n"
     ]
    },
    {
     "name": "stderr",
     "output_type": "stream",
     "text": [
      "100%|██████████| 441/441 [00:32<00:00, 13.59it/s]\n",
      "  0%|          | 0/441 [00:00<?, ?it/s]"
     ]
    },
    {
     "name": "stdout",
     "output_type": "stream",
     "text": [
      "0.06670888495594696\n"
     ]
    },
    {
     "name": "stderr",
     "output_type": "stream",
     "text": [
      "100%|██████████| 441/441 [05:37<00:00,  1.31it/s]\n"
     ]
    },
    {
     "data": {
      "image/png": "[encoded data removed]",
      "text/plain": [
       "<Figure size 432x288 with 2 Axes>"
      ]
     },
     "metadata": {
      "needs_background": "light"
     },
     "output_type": "display_data"
    },
    {
     "name": "stderr",
     "output_type": "stream",
     "text": [
      "100%|██████████| 441/441 [00:31<00:00, 13.94it/s]\n",
      "  0%|          | 2/441 [00:00<00:34, 12.83it/s]"
     ]
    },
    {
     "name": "stdout",
     "output_type": "stream",
     "text": [
      "3.637320878145104\n"
     ]
    },
    {
     "name": "stderr",
     "output_type": "stream",
     "text": [
      "100%|██████████| 441/441 [00:31<00:00, 14.06it/s]\n",
      "  0%|          | 2/441 [00:00<00:31, 13.88it/s]"
     ]
    },
    {
     "name": "stdout",
     "output_type": "stream",
     "text": [
      "1.007339447711388\n"
     ]
    },
    {
     "name": "stderr",
     "output_type": "stream",
     "text": [
      "100%|██████████| 441/441 [00:31<00:00, 14.00it/s]\n",
      "  0%|          | 2/441 [00:00<00:32, 13.62it/s]"
     ]
    },
    {
     "name": "stdout",
     "output_type": "stream",
     "text": [
      "0.3396814408291817\n"
     ]
    },
    {
     "name": "stderr",
     "output_type": "stream",
     "text": [
      "100%|██████████| 441/441 [00:31<00:00, 14.01it/s]\n",
      "  0%|          | 2/441 [00:00<00:34, 12.80it/s]"
     ]
    },
    {
     "name": "stdout",
     "output_type": "stream",
     "text": [
      "0.12817320901223184\n"
     ]
    },
    {
     "name": "stderr",
     "output_type": "stream",
     "text": [
      "100%|██████████| 441/441 [00:31<00:00, 14.05it/s]\n",
      "  0%|          | 0/441 [00:00<?, ?it/s]"
     ]
    },
    {
     "name": "stdout",
     "output_type": "stream",
     "text": [
      "0.049913138835520954\n"
     ]
    },
    {
     "name": "stderr",
     "output_type": "stream",
     "text": [
      "100%|██████████| 441/441 [05:59<00:00,  1.23it/s]\n"
     ]
    },
    {
     "data": {
      "image/png": "[encoded data removed]",
      "text/plain": [
       "<Figure size 432x288 with 2 Axes>"
      ]
     },
     "metadata": {
      "needs_background": "light"
     },
     "output_type": "display_data"
    },
    {
     "name": "stderr",
     "output_type": "stream",
     "text": [
      "100%|██████████| 441/441 [00:33<00:00, 13.26it/s]\n",
      "  0%|          | 0/441 [00:00<?, ?it/s]"
     ]
    },
    {
     "name": "stdout",
     "output_type": "stream",
     "text": [
      "0.029651071872550006\n"
     ]
    },
    {
     "name": "stderr",
     "output_type": "stream",
     "text": [
      "100%|██████████| 441/441 [05:52<00:00,  1.25it/s]\n"
     ]
    },
    {
     "data": {
      "image/png": "[encoded data removed]",
      "text/plain": [
       "<Figure size 432x288 with 2 Axes>"
      ]
     },
     "metadata": {
      "needs_background": "light"
     },
     "output_type": "display_data"
    },
    {
     "data": {
      "text/plain": [
       "<Figure size 432x288 with 0 Axes>"
      ]
     },
     "metadata": {},
     "output_type": "display_data"
    }
   ],
   "source": [
    "# actions (- is loc2 --> loc1 and + is loc1 --> loc2)\n",
    "A = [-5, -4, -3, -2, -1, 0, 1, 2, 3, 4, 5]\n",
    "\n",
    "# state-value function\n",
    "state_value = {\n",
    "    k:v for k,v in zip(\n",
    "        ((first, second) for first in range(21) for second in range(21)), \n",
    "        np.random.rand(441)\n",
    "    )\n",
    "}\n",
    "\n",
    "# policy\n",
    "policy = {\n",
    "    k:v for k,v in zip(\n",
    "        ((first, second) for first in range(21) for second in range(21)), \n",
    "        (np.random.choice(A) for choice in range(441))\n",
    "    )\n",
    "}\n",
    "\n",
    "loc1 = Location(\"San Diego\", 20, 3, 3)\n",
    "loc2 = Location(\"New York\", 20, 4, 2)\n",
    "days = 365\n",
    "gamma = 0.9\n",
    "bank = 0\n",
    "reward_rent = 10\n",
    "reward_empty = 0\n",
    "transfer_cost = 2\n",
    "theta = 0.1\n",
    "max_cars = 20\n",
    "\n",
    "plt.imshow(np.array(list(policy.values())).reshape(21,21))\n",
    "plt.colorbar()\n",
    "plt.show()\n",
    "plt.clf()\n",
    "\n",
    "for day in range(days):\n",
    "    policy_evaluation()\n",
    "    stable = policy_improvement()\n",
    "    plt.imshow(np.array(list(policy.values())).reshape(21,21))\n",
    "    plt.colorbar()\n",
    "    plt.show()\n",
    "    plt.clf()\n",
    "    if stable:\n",
    "        break"
   ]
  },
  {
   "cell_type": "code",
   "execution_count": null,
   "id": "assisted-enhancement",
   "metadata": {},
   "outputs": [],
   "source": []
  },
  {
   "cell_type": "code",
   "execution_count": null,
   "id": "difficult-revelation",
   "metadata": {},
   "outputs": [],
   "source": []
  }
 ],
 "metadata": {
  "kernelspec": {
   "display_name": "Python 3",
   "language": "python",
   "name": "python3"
  },
  "language_info": {
   "codemirror_mode": {
    "name": "ipython",
    "version": 3
   },
   "file_extension": ".py",
   "mimetype": "text/x-python",
   "name": "python",
   "nbconvert_exporter": "python",
   "pygments_lexer": "ipython3",
   "version": "3.7.4"
  }
 },
 "nbformat": 4,
 "nbformat_minor": 5
}
