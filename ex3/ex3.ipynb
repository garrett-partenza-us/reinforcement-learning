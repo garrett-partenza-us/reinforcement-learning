{
 "cells": [
  {
   "cell_type": "code",
   "execution_count": 142,
   "id": "married-designer",
   "metadata": {},
   "outputs": [],
   "source": [
    "import numpy as np\n",
    "import matplotlib.pyplot as plt\n",
    "import time"
   ]
  },
  {
   "cell_type": "code",
   "execution_count": 143,
   "id": "sweet-grill",
   "metadata": {},
   "outputs": [],
   "source": [
    "class Location():\n",
    "    \n",
    "    def __init__(self, name, cars, exp_out, exp_in):\n",
    "        self.name = name\n",
    "        self.cars = cars\n",
    "        self.exp_out = exp_out\n",
    "        self.exp_in = exp_in\n",
    "        \n",
    "    def move(self, location, cars):\n",
    "        self.cars = self.cars-cars\n",
    "        location.cars = np.clip(location.cars+cars, 1, 20)\n",
    "        \n",
    "    def rent(self, cars):\n",
    "        self.cars = self.cars-min(self.cars, cars)\n",
    "        return 10 * min(self.cars, cars)\n",
    "    \n",
    "    def restore(self, cars):\n",
    "        self.cars = np.clip(self.cars+cars, 1, 20)\n",
    "        \n",
    "    def episode(self):\n",
    "        return np.random.poisson(self.exp_in), np.random.poisson(self.exp_out)"
   ]
  },
  {
   "cell_type": "code",
   "execution_count": 144,
   "id": "supported-cowboy",
   "metadata": {},
   "outputs": [],
   "source": [
    "# actions (- is loc2 --> loc1 and + is loc1 --> loc2)\n",
    "A = [-5, -4, -3, -2, -1, 0, 1, 2, 3, 4, 5]\n",
    "\n",
    "# state-value function\n",
    "state_value = {\n",
    "    k:v for k,v in zip(\n",
    "        ((first, second) for first in range(21) for second in range(21)), \n",
    "        np.random.rand(420)\n",
    "    )\n",
    "}\n",
    "\n",
    "# policy\n",
    "policy = {\n",
    "    k:v for k,v in zip(\n",
    "        ((first, second) for first in range(21) for second in range(21)), \n",
    "        (np.random.choice(A) for choice in range(420))\n",
    "    )\n",
    "}"
   ]
  },
  {
   "cell_type": "code",
   "execution_count": 145,
   "id": "innovative-haven",
   "metadata": {},
   "outputs": [],
   "source": [
    "# map (s,a) to (s')\n",
    "def next_state(state, action):\n",
    "    \n",
    "    if policy[state]<0:\n",
    "        loc1 = max(0, state[1]+policy[state])\n",
    "        loc2 = np.clip(state[0] + min(np.abs(policy[state]), state[1]), 0, 20)\n",
    "        return tuple((loc1, loc2))\n",
    "    if policy[state]>0:\n",
    "        loc1 = max(0, state[0]-policy[state])\n",
    "        loc2 = np.clip(state[1] + min(policy[state], state[0]), 0, 20)\n",
    "        return tuple((loc1, loc2))\n",
    "    return state"
   ]
  },
  {
   "cell_type": "code",
   "execution_count": 146,
   "id": "atomic-engineer",
   "metadata": {},
   "outputs": [],
   "source": [
    "def policy_evaluation():\n",
    "    while True:\n",
    "        delta = 0\n",
    "        for state in state_value.keys():\n",
    "            old = state_value[state]\n",
    "            state_value[state] = 1 * ( np.abs(policy[state]) * -2 + gamma * state_value[next_state(state, policy[state])])\n",
    "            delta = max(delta, np.abs(old-state_value[state]))\n",
    "        if delta < theta:\n",
    "            break"
   ]
  },
  {
   "cell_type": "code",
   "execution_count": 147,
   "id": "willing-diary",
   "metadata": {},
   "outputs": [],
   "source": [
    "def policy_improvement():\n",
    "    policy_stable = True\n",
    "    for state in state_value.keys():\n",
    "        old = policy[state]\n",
    "        expected_reward = lambda x: -2 * np.abs(x) + gamma * state_value[next_state(state, x)]\n",
    "        policy[state] = max(A, key=expected_reward)\n",
    "        if old != policy[state]:\n",
    "            policy_stable = False"
   ]
  },
  {
   "cell_type": "code",
   "execution_count": 149,
   "id": "amino-diamond",
   "metadata": {},
   "outputs": [],
   "source": [
    "loc1 = Location(\"San Diego\", 20, 3, 3)\n",
    "loc2 = Location(\"New York\", 20, 4, 2)\n",
    "days = 365\n",
    "gamma = 0.9\n",
    "bank = 0\n",
    "reward_rent = 10\n",
    "reward_empty = 0\n",
    "transfer_cost = 2\n",
    "theta = 0.1"
   ]
  },
  {
   "cell_type": "code",
   "execution_count": 152,
   "id": "german-confidence",
   "metadata": {},
   "outputs": [
    {
     "ename": "KeyboardInterrupt",
     "evalue": "",
     "output_type": "error",
     "traceback": [
      "\u001b[0;31m---------------------------------------------------------------------------\u001b[0m",
      "\u001b[0;31mKeyboardInterrupt\u001b[0m                         Traceback (most recent call last)",
      "\u001b[0;32m<ipython-input-152-261af37d8bd6>\u001b[0m in \u001b[0;36m<module>\u001b[0;34m\u001b[0m\n\u001b[1;32m      3\u001b[0m \u001b[0;34m\u001b[0m\u001b[0m\n\u001b[1;32m      4\u001b[0m     \u001b[0mpolicy_evaluation\u001b[0m\u001b[0;34m(\u001b[0m\u001b[0;34m)\u001b[0m\u001b[0;34m\u001b[0m\u001b[0;34m\u001b[0m\u001b[0m\n\u001b[0;32m----> 5\u001b[0;31m     \u001b[0mpolicy_improvement\u001b[0m\u001b[0;34m(\u001b[0m\u001b[0;34m)\u001b[0m\u001b[0;34m\u001b[0m\u001b[0;34m\u001b[0m\u001b[0m\n\u001b[0m",
      "\u001b[0;32m<ipython-input-147-adae2b20d8b4>\u001b[0m in \u001b[0;36mpolicy_improvement\u001b[0;34m()\u001b[0m\n\u001b[1;32m      4\u001b[0m         \u001b[0mold\u001b[0m \u001b[0;34m=\u001b[0m \u001b[0mpolicy\u001b[0m\u001b[0;34m[\u001b[0m\u001b[0mstate\u001b[0m\u001b[0;34m]\u001b[0m\u001b[0;34m\u001b[0m\u001b[0;34m\u001b[0m\u001b[0m\n\u001b[1;32m      5\u001b[0m         \u001b[0mexpected_reward\u001b[0m \u001b[0;34m=\u001b[0m \u001b[0;32mlambda\u001b[0m \u001b[0mx\u001b[0m\u001b[0;34m:\u001b[0m \u001b[0;34m-\u001b[0m\u001b[0;36m2\u001b[0m \u001b[0;34m*\u001b[0m \u001b[0mnp\u001b[0m\u001b[0;34m.\u001b[0m\u001b[0mabs\u001b[0m\u001b[0;34m(\u001b[0m\u001b[0mx\u001b[0m\u001b[0;34m)\u001b[0m \u001b[0;34m+\u001b[0m \u001b[0mgamma\u001b[0m \u001b[0;34m*\u001b[0m \u001b[0mstate_value\u001b[0m\u001b[0;34m[\u001b[0m\u001b[0mnext_state\u001b[0m\u001b[0;34m(\u001b[0m\u001b[0mstate\u001b[0m\u001b[0;34m,\u001b[0m \u001b[0mx\u001b[0m\u001b[0;34m)\u001b[0m\u001b[0;34m]\u001b[0m\u001b[0;34m\u001b[0m\u001b[0;34m\u001b[0m\u001b[0m\n\u001b[0;32m----> 6\u001b[0;31m         \u001b[0mpolicy\u001b[0m\u001b[0;34m[\u001b[0m\u001b[0mstate\u001b[0m\u001b[0;34m]\u001b[0m \u001b[0;34m=\u001b[0m \u001b[0mmax\u001b[0m\u001b[0;34m(\u001b[0m\u001b[0mA\u001b[0m\u001b[0;34m,\u001b[0m \u001b[0mkey\u001b[0m\u001b[0;34m=\u001b[0m\u001b[0mexpected_reward\u001b[0m\u001b[0;34m)\u001b[0m\u001b[0;34m\u001b[0m\u001b[0;34m\u001b[0m\u001b[0m\n\u001b[0m\u001b[1;32m      7\u001b[0m         \u001b[0;32mif\u001b[0m \u001b[0mold\u001b[0m \u001b[0;34m!=\u001b[0m \u001b[0mpolicy\u001b[0m\u001b[0;34m[\u001b[0m\u001b[0mstate\u001b[0m\u001b[0;34m]\u001b[0m\u001b[0;34m:\u001b[0m\u001b[0;34m\u001b[0m\u001b[0;34m\u001b[0m\u001b[0m\n\u001b[1;32m      8\u001b[0m             \u001b[0mpolicy_stable\u001b[0m \u001b[0;34m=\u001b[0m \u001b[0;32mFalse\u001b[0m\u001b[0;34m\u001b[0m\u001b[0;34m\u001b[0m\u001b[0m\n",
      "\u001b[0;32m<ipython-input-147-adae2b20d8b4>\u001b[0m in \u001b[0;36m<lambda>\u001b[0;34m(x)\u001b[0m\n\u001b[1;32m      3\u001b[0m     \u001b[0;32mfor\u001b[0m \u001b[0mstate\u001b[0m \u001b[0;32min\u001b[0m \u001b[0mstate_value\u001b[0m\u001b[0;34m.\u001b[0m\u001b[0mkeys\u001b[0m\u001b[0;34m(\u001b[0m\u001b[0;34m)\u001b[0m\u001b[0;34m:\u001b[0m\u001b[0;34m\u001b[0m\u001b[0;34m\u001b[0m\u001b[0m\n\u001b[1;32m      4\u001b[0m         \u001b[0mold\u001b[0m \u001b[0;34m=\u001b[0m \u001b[0mpolicy\u001b[0m\u001b[0;34m[\u001b[0m\u001b[0mstate\u001b[0m\u001b[0;34m]\u001b[0m\u001b[0;34m\u001b[0m\u001b[0;34m\u001b[0m\u001b[0m\n\u001b[0;32m----> 5\u001b[0;31m         \u001b[0mexpected_reward\u001b[0m \u001b[0;34m=\u001b[0m \u001b[0;32mlambda\u001b[0m \u001b[0mx\u001b[0m\u001b[0;34m:\u001b[0m \u001b[0;34m-\u001b[0m\u001b[0;36m2\u001b[0m \u001b[0;34m*\u001b[0m \u001b[0mnp\u001b[0m\u001b[0;34m.\u001b[0m\u001b[0mabs\u001b[0m\u001b[0;34m(\u001b[0m\u001b[0mx\u001b[0m\u001b[0;34m)\u001b[0m \u001b[0;34m+\u001b[0m \u001b[0mgamma\u001b[0m \u001b[0;34m*\u001b[0m \u001b[0mstate_value\u001b[0m\u001b[0;34m[\u001b[0m\u001b[0mnext_state\u001b[0m\u001b[0;34m(\u001b[0m\u001b[0mstate\u001b[0m\u001b[0;34m,\u001b[0m \u001b[0mx\u001b[0m\u001b[0;34m)\u001b[0m\u001b[0;34m]\u001b[0m\u001b[0;34m\u001b[0m\u001b[0;34m\u001b[0m\u001b[0m\n\u001b[0m\u001b[1;32m      6\u001b[0m         \u001b[0mpolicy\u001b[0m\u001b[0;34m[\u001b[0m\u001b[0mstate\u001b[0m\u001b[0;34m]\u001b[0m \u001b[0;34m=\u001b[0m \u001b[0mmax\u001b[0m\u001b[0;34m(\u001b[0m\u001b[0mA\u001b[0m\u001b[0;34m,\u001b[0m \u001b[0mkey\u001b[0m\u001b[0;34m=\u001b[0m\u001b[0mexpected_reward\u001b[0m\u001b[0;34m)\u001b[0m\u001b[0;34m\u001b[0m\u001b[0;34m\u001b[0m\u001b[0m\n\u001b[1;32m      7\u001b[0m         \u001b[0;32mif\u001b[0m \u001b[0mold\u001b[0m \u001b[0;34m!=\u001b[0m \u001b[0mpolicy\u001b[0m\u001b[0;34m[\u001b[0m\u001b[0mstate\u001b[0m\u001b[0;34m]\u001b[0m\u001b[0;34m:\u001b[0m\u001b[0;34m\u001b[0m\u001b[0;34m\u001b[0m\u001b[0m\n",
      "\u001b[0;31mKeyboardInterrupt\u001b[0m: "
     ]
    }
   ],
   "source": [
    "# You are not taking into account the reward from renting a car\n",
    "for day in range(days):\n",
    "    \n",
    "    policy_evaluation()\n",
    "    policy_improvement()"
   ]
  },
  {
   "cell_type": "code",
   "execution_count": null,
   "id": "bizarre-freight",
   "metadata": {},
   "outputs": [],
   "source": []
  },
  {
   "cell_type": "code",
   "execution_count": null,
   "id": "developing-clothing",
   "metadata": {},
   "outputs": [],
   "source": []
  }
 ],
 "metadata": {
  "kernelspec": {
   "display_name": "Python 3",
   "language": "python",
   "name": "python3"
  },
  "language_info": {
   "codemirror_mode": {
    "name": "ipython",
    "version": 3
   },
   "file_extension": ".py",
   "mimetype": "text/x-python",
   "name": "python",
   "nbconvert_exporter": "python",
   "pygments_lexer": "ipython3",
   "version": "3.7.4"
  }
 },
 "nbformat": 4,
 "nbformat_minor": 5
}
