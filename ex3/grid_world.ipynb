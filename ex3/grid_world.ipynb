{
 "cells": [
  {
   "cell_type": "code",
   "execution_count": 224,
   "id": "internal-endorsement",
   "metadata": {},
   "outputs": [],
   "source": [
    "import numpy as np"
   ]
  },
  {
   "cell_type": "code",
   "execution_count": 315,
   "id": "outer-pollution",
   "metadata": {},
   "outputs": [],
   "source": [
    "class GridWorld:\n",
    "    \n",
    "    def __init__(self, shape=(5,5), A=(0,1), B=(0,3)):\n",
    "        self.height=shape[0]\n",
    "        self.width=shape[1]\n",
    "        self.x=0\n",
    "        self.y=0\n",
    "        self.x_prev=0\n",
    "        self.y_prev=0\n",
    "        self.A = A\n",
    "        self.B = B\n",
    "    \n",
    "    def move(self, action):\n",
    "        self.x_prev=self.x\n",
    "        self.y_prev=self.y\n",
    "        if action==\"right\":\n",
    "            self.y+=1\n",
    "        elif action==\"left\":\n",
    "            self.y-=1\n",
    "        elif action==\"up\":\n",
    "            self.x-=1\n",
    "        elif action==\"down\":\n",
    "            self.x+=1\n",
    "        return self.reward()\n",
    "    \n",
    "    def reward(self):\n",
    "        if (self.x_prev, self.y_prev) == self.A:\n",
    "            self.x=4\n",
    "            self.y=1\n",
    "            return 10\n",
    "        elif not (self.x in range(self.height) and self.y in range(self.width)):\n",
    "            self.x=self.x_prev\n",
    "            self.y=self.y_prev\n",
    "            return -1\n",
    "        elif (self.x_prev, self.y_prev) == self.B:\n",
    "            self.x=2\n",
    "            self.y=3\n",
    "            return 5\n",
    "        else:\n",
    "            return 0\n",
    "        \n",
    "    def location(self):\n",
    "        return (self.x, self.y)"
   ]
  },
  {
   "cell_type": "code",
   "execution_count": 316,
   "id": "inner-joshua",
   "metadata": {},
   "outputs": [],
   "source": [
    "world = GridWorld()"
   ]
  },
  {
   "cell_type": "code",
   "execution_count": 317,
   "id": "hindu-surname",
   "metadata": {},
   "outputs": [],
   "source": [
    "def random_policy_evaluation():\n",
    "    while True:\n",
    "        delta = 0\n",
    "        for state in state_value.keys():\n",
    "            old = state_value[state]\n",
    "            state_value[state] = random_expected_reward(state)\n",
    "            delta = max(delta, np.abs(old-state_value[state]))\n",
    "        if delta < theta:\n",
    "            break"
   ]
  },
  {
   "cell_type": "code",
   "execution_count": 318,
   "id": "similar-delivery",
   "metadata": {},
   "outputs": [],
   "source": [
    "def random_expected_reward(state):\n",
    "    world.x=state[0]\n",
    "    world.y=state[1]\n",
    "    reward = 0\n",
    "    for action in A:\n",
    "        imediate_reward = world.move(action)\n",
    "        next_state_value = state_value[world.location()]\n",
    "        reward += 0.25 * (imediate_reward + gamma * next_state_value)\n",
    "        world.x=world.x_prev\n",
    "        world.y=world.y_prev\n",
    "    return reward"
   ]
  },
  {
   "cell_type": "code",
   "execution_count": 323,
   "id": "desperate-compilation",
   "metadata": {},
   "outputs": [],
   "source": [
    "def value_iteration():\n",
    "    while True:\n",
    "        delta = 0\n",
    "        for state in state_value.keys():\n",
    "            world.x=state[0]\n",
    "            world.y=state[1]\n",
    "            reward = 0\n",
    "            old = state_value[state]\n",
    "            options = []\n",
    "            for a in A:\n",
    "                options.append(world.move(a) + gamma * state_value[world.location()])\n",
    "                world.x=world.x_prev\n",
    "                world.y=world.y_prev\n",
    "            state_value[state] = max(options)\n",
    "            delta = max(delta, np.abs(old-state_value[state]))\n",
    "        if delta < theta:\n",
    "            break"
   ]
  },
  {
   "cell_type": "code",
   "execution_count": 335,
   "id": "serious-chosen",
   "metadata": {},
   "outputs": [],
   "source": [
    "def expected_reward(state, action):\n",
    "    world.x=state[0]\n",
    "    world.y=state[1]\n",
    "    imediate_reward = world.move(action)\n",
    "    next_state_value = state_value[world.location()]\n",
    "    reward = 1 * (imediate_reward + gamma * next_state_value)\n",
    "    return reward\n",
    "\n",
    "def policy_evaluation():\n",
    "    while True:\n",
    "        delta = 0\n",
    "        for state in state_value.keys():\n",
    "            world.x=state[0]\n",
    "            world.y=state[1]\n",
    "            reward = 0\n",
    "            old = state_value[state]\n",
    "            state_value[state] = expected_reward(state, policy[state])\n",
    "            delta = max(delta, np.abs(old-state_value[state]))\n",
    "        if delta < theta:\n",
    "            break\n",
    "            \n",
    "def policy_improvement():\n",
    "    policy_stable = True\n",
    "    for state in state_value.keys():\n",
    "        old = policy[state]\n",
    "        policy[state] = max(A, key=lambda x: expected_reward(state, x))\n",
    "        if old != policy[state]:\n",
    "            policy_stable = False\n",
    "    return policy_stable"
   ]
  },
  {
   "cell_type": "code",
   "execution_count": 338,
   "id": "bridal-voltage",
   "metadata": {},
   "outputs": [],
   "source": [
    "theta = 10e-5\n",
    "gamma = 0.9\n",
    "\n",
    "# actions (- is loc2 --> loc1 and + is loc1 --> loc2)\n",
    "A = [\"up\", \"down\", \"left\", \"right\"]\n",
    "\n",
    "# state-value function\n",
    "state_value = {\n",
    "    k:v for k,v in zip(\n",
    "        ((first, second) for first in range(world.height) for second in range(world.width)), \n",
    "        np.random.rand(world.height*world.width)\n",
    "    )\n",
    "}\n",
    "\n",
    "# policy\n",
    "policy = {\n",
    "    k:v for k,v in zip(\n",
    "        ((first, second) for first in range(world.height) for second in range(world.width)), \n",
    "        np.random.choice(A, world.height*world.width)\n",
    "    )\n",
    "}\n",
    "\n",
    "while True:\n",
    "    policy_evaluation()\n",
    "    if policy_improvement():\n",
    "        break"
   ]
  },
  {
   "cell_type": "code",
   "execution_count": 339,
   "id": "digital-european",
   "metadata": {},
   "outputs": [
    {
     "data": {
      "text/plain": [
       "<matplotlib.colorbar.Colorbar at 0x7f9e5c78d810>"
      ]
     },
     "execution_count": 339,
     "metadata": {},
     "output_type": "execute_result"
    },
    {
     "data": {
      "image/png": "[encoded data removed]",
      "text/plain": [
       "<Figure size 432x288 with 2 Axes>"
      ]
     },
     "metadata": {
      "needs_background": "light"
     },
     "output_type": "display_data"
    }
   ],
   "source": [
    "import matplotlib.pyplot as plt\n",
    "plt.imshow(np.array(list(state_value.values())).reshape(5,5))\n",
    "plt.colorbar()"
   ]
  },
  {
   "cell_type": "code",
   "execution_count": 340,
   "id": "prostate-chuck",
   "metadata": {},
   "outputs": [
    {
     "data": {
      "text/plain": [
       "{(0, 0): 'right',\n",
       " (0, 1): 'up',\n",
       " (0, 2): 'left',\n",
       " (0, 3): 'down',\n",
       " (0, 4): 'left',\n",
       " (1, 0): 'right',\n",
       " (1, 1): 'up',\n",
       " (1, 2): 'up',\n",
       " (1, 3): 'left',\n",
       " (1, 4): 'left',\n",
       " (2, 0): 'right',\n",
       " (2, 1): 'up',\n",
       " (2, 2): 'up',\n",
       " (2, 3): 'up',\n",
       " (2, 4): 'up',\n",
       " (3, 0): 'right',\n",
       " (3, 1): 'up',\n",
       " (3, 2): 'up',\n",
       " (3, 3): 'up',\n",
       " (3, 4): 'up',\n",
       " (4, 0): 'right',\n",
       " (4, 1): 'up',\n",
       " (4, 2): 'up',\n",
       " (4, 3): 'up',\n",
       " (4, 4): 'up'}"
      ]
     },
     "execution_count": 340,
     "metadata": {},
     "output_type": "execute_result"
    }
   ],
   "source": [
    "policy"
   ]
  },
  {
   "cell_type": "code",
   "execution_count": null,
   "id": "absolute-raising",
   "metadata": {},
   "outputs": [],
   "source": []
  }
 ],
 "metadata": {
  "kernelspec": {
   "display_name": "Python 3",
   "language": "python",
   "name": "python3"
  },
  "language_info": {
   "codemirror_mode": {
    "name": "ipython",
    "version": 3
   },
   "file_extension": ".py",
   "mimetype": "text/x-python",
   "name": "python",
   "nbconvert_exporter": "python",
   "pygments_lexer": "ipython3",
   "version": "3.7.4"
  }
 },
 "nbformat": 4,
 "nbformat_minor": 5
}
