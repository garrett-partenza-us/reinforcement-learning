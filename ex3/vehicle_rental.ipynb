{
 "cells": [
  {
   "cell_type": "code",
   "execution_count": 1,
   "id": "judicial-limitation",
   "metadata": {},
   "outputs": [],
   "source": [
    "import numpy as np\n",
    "import matplotlib.pyplot as plt\n",
    "import time\n",
    "from tqdm import tqdm"
   ]
  },
  {
   "cell_type": "code",
   "execution_count": 2,
   "id": "covered-seven",
   "metadata": {},
   "outputs": [],
   "source": [
    "days = 365\n",
    "gamma = 0.9\n",
    "bank = 0\n",
    "reward_rent = 10\n",
    "reward_empty = 0\n",
    "transfer_cost = 2\n",
    "theta = 0.1\n",
    "max_cars = 20"
   ]
  },
  {
   "cell_type": "code",
   "execution_count": 3,
   "id": "greek-tissue",
   "metadata": {},
   "outputs": [],
   "source": [
    "class Location():\n",
    "    \n",
    "    def __init__(self, name, cars, exp_out, exp_in):\n",
    "        self.name = name\n",
    "        self.cars = cars\n",
    "        self.exp_out = exp_out\n",
    "        self.exp_in = exp_in\n",
    "        \n",
    "    def move(self, location, cars):\n",
    "        self.cars = self.cars-cars\n",
    "        location.cars = np.clip(location.cars+cars, 1, 20)\n",
    "        \n",
    "    def rent(self, cars):\n",
    "        self.cars = self.cars-min(self.cars, cars)\n",
    "        return 10 * min(self.cars, cars)\n",
    "    \n",
    "    def restore(self, cars):\n",
    "        self.cars = np.clip(self.cars+cars, 1, 20)\n",
    "        \n",
    "    def episode(self):\n",
    "        return np.random.poisson(self.exp_in), np.random.poisson(self.exp_out)\n",
    "    \n",
    "    def rental_likelihood(self, x):\n",
    "        return np.exp(-self.exp_out) * pow(self.exp_out, x) / np.math.factorial(x)\n",
    "    \n",
    "    def restore_likelihood(self, x):\n",
    "        return np.exp(-self.exp_in) * pow(self.exp_in, x) / np.math.factorial(x)"
   ]
  },
  {
   "cell_type": "code",
   "execution_count": 4,
   "id": "norman-swedish",
   "metadata": {},
   "outputs": [],
   "source": [
    "# map (s,a) to (s')\n",
    "def next_state(state, action):\n",
    "    \n",
    "    if action > 0:\n",
    "        s1 = min(state[0] - min(np.abs(action), state[0]), max_cars+5)\n",
    "        s2 = min(state[1] + min(np.abs(action), state[0]), max_cars+5)\n",
    "        return tuple((s1,s2)), min(np.abs(action), state[0])\n",
    "    elif action < 0:\n",
    "        s1 = min(state[0] + min(np.abs(action), state[1]), max_cars+5)\n",
    "        s2 = min(state[1] - min(np.abs(action), state[1]), max_cars+5)\n",
    "        return tuple((s1,s2)), min(np.abs(action), state[1])\n",
    "    else:\n",
    "        return state, 0\n",
    "    \n",
    "def policy_evaluation():\n",
    "    while True:\n",
    "        delta = 0\n",
    "        for state in tqdm(state_value.keys()):\n",
    "            old = state_value[state]\n",
    "            state_value[state] = expected_reward(state, policy[state])\n",
    "            delta = max(delta, np.abs(old-state_value[state]))\n",
    "        print(delta)\n",
    "        if delta < theta:\n",
    "            break\n",
    "            \n",
    "def policy_improvement():\n",
    "    policy_stable = True\n",
    "    for state in tqdm(state_value.keys()):\n",
    "        old = policy[state]\n",
    "        policy[state] = max(A, key=lambda x: expected_reward(state, x))\n",
    "        if old != policy[state]:\n",
    "            policy_stable = False\n",
    "    return policy_stable\n",
    "            \n",
    "def expected_reward(state, action):\n",
    "    newstate, moved = next_state(state, action)\n",
    "    reward = 0\n",
    "    sum_prob = 0\n",
    "    for loc1_rentals in range(6):\n",
    "        for loc2_rentals in range(6):\n",
    "            for loc1_returns in range(6):\n",
    "                for loc2_returns in range(6):\n",
    "                    probability = (\n",
    "                        loc1.rental_likelihood(loc1_rentals) *\n",
    "                        loc2.rental_likelihood(loc2_rentals) *\n",
    "                        loc1.restore_likelihood(loc1_returns) *\n",
    "                        loc2.restore_likelihood(loc2_returns)\n",
    "                    )                \n",
    "                    loc1_cars = np.clip(newstate[0] - loc1_rentals + loc1_returns, 0, max_cars)\n",
    "                    loc2_cars = np.clip(newstate[1] - loc2_rentals + loc2_returns, 0, max_cars)\n",
    "                    reward += probability * (\n",
    "                        -2 * np.abs(moved) + # moving penalty\n",
    "                        10 * (min(loc1_rentals, newstate[0]) + min(loc2_rentals, newstate[1])) # rental reward\n",
    "                        + state_value[(loc1_cars, loc2_cars)] # state-value of s'\n",
    "                    )\n",
    "                    \n",
    "#                     part b first change\n",
    "                    if action < 0:\n",
    "                        reward += probability*2\n",
    "                        \n",
    "                    for cars in state:\n",
    "                        if cars > 10:\n",
    "                            reward += probability * -4\n",
    "                            break\n",
    "    return reward"
   ]
  },
  {
   "cell_type": "code",
   "execution_count": 5,
   "id": "shaped-cartridge",
   "metadata": {},
   "outputs": [
    {
     "data": {
      "image/png": "[encoded data removed]",
      "text/plain": [
       "<Figure size 432x288 with 2 Axes>"
      ]
     },
     "metadata": {
      "needs_background": "light"
     },
     "output_type": "display_data"
    },
    {
     "name": "stderr",
     "output_type": "stream",
     "text": [
      "100%|██████████| 441/441 [00:33<00:00, 13.14it/s]\n",
      "  0%|          | 2/441 [00:00<00:32, 13.33it/s]"
     ]
    },
    {
     "name": "stdout",
     "output_type": "stream",
     "text": [
      "69.73804535818273\n"
     ]
    },
    {
     "name": "stderr",
     "output_type": "stream",
     "text": [
      "100%|██████████| 441/441 [00:33<00:00, 13.23it/s]\n",
      "  0%|          | 2/441 [00:00<00:32, 13.46it/s]"
     ]
    },
    {
     "name": "stdout",
     "output_type": "stream",
     "text": [
      "38.712433043887444\n"
     ]
    },
    {
     "name": "stderr",
     "output_type": "stream",
     "text": [
      "100%|██████████| 441/441 [00:33<00:00, 13.21it/s]\n",
      "  0%|          | 2/441 [00:00<00:34, 12.78it/s]"
     ]
    },
    {
     "name": "stdout",
     "output_type": "stream",
     "text": [
      "15.332406485875119\n"
     ]
    },
    {
     "name": "stderr",
     "output_type": "stream",
     "text": [
      "100%|██████████| 441/441 [00:33<00:00, 13.18it/s]\n",
      "  0%|          | 2/441 [00:00<00:33, 13.25it/s]"
     ]
    },
    {
     "name": "stdout",
     "output_type": "stream",
     "text": [
      "6.475325388722766\n"
     ]
    },
    {
     "name": "stderr",
     "output_type": "stream",
     "text": [
      "100%|██████████| 441/441 [00:32<00:00, 13.37it/s]\n",
      "  0%|          | 2/441 [00:00<00:32, 13.36it/s]"
     ]
    },
    {
     "name": "stdout",
     "output_type": "stream",
     "text": [
      "2.7788871830133246\n"
     ]
    },
    {
     "name": "stderr",
     "output_type": "stream",
     "text": [
      "100%|██████████| 441/441 [00:33<00:00, 13.26it/s]\n",
      "  0%|          | 2/441 [00:00<00:33, 12.92it/s]"
     ]
    },
    {
     "name": "stdout",
     "output_type": "stream",
     "text": [
      "1.241786846055163\n"
     ]
    },
    {
     "name": "stderr",
     "output_type": "stream",
     "text": [
      "100%|██████████| 441/441 [00:33<00:00, 13.03it/s]\n",
      "  0%|          | 2/441 [00:00<00:35, 12.45it/s]"
     ]
    },
    {
     "name": "stdout",
     "output_type": "stream",
     "text": [
      "0.5805499773580038\n"
     ]
    },
    {
     "name": "stderr",
     "output_type": "stream",
     "text": [
      "100%|██████████| 441/441 [00:34<00:00, 12.96it/s]\n",
      "  0%|          | 2/441 [00:00<00:33, 13.25it/s]"
     ]
    },
    {
     "name": "stdout",
     "output_type": "stream",
     "text": [
      "0.3104882594257532\n"
     ]
    },
    {
     "name": "stderr",
     "output_type": "stream",
     "text": [
      "100%|██████████| 441/441 [00:33<00:00, 13.05it/s]\n",
      "  0%|          | 2/441 [00:00<00:32, 13.44it/s]"
     ]
    },
    {
     "name": "stdout",
     "output_type": "stream",
     "text": [
      "0.1635098747670476\n"
     ]
    },
    {
     "name": "stderr",
     "output_type": "stream",
     "text": [
      "100%|██████████| 441/441 [00:33<00:00, 13.13it/s]\n",
      "  0%|          | 0/441 [00:00<?, ?it/s]"
     ]
    },
    {
     "name": "stdout",
     "output_type": "stream",
     "text": [
      "0.08518431891559075\n"
     ]
    },
    {
     "name": "stderr",
     "output_type": "stream",
     "text": [
      "100%|██████████| 441/441 [06:04<00:00,  1.21it/s]\n"
     ]
    },
    {
     "data": {
      "image/png": "[encoded data removed]",
      "text/plain": [
       "<Figure size 432x288 with 2 Axes>"
      ]
     },
     "metadata": {
      "needs_background": "light"
     },
     "output_type": "display_data"
    },
    {
     "name": "stderr",
     "output_type": "stream",
     "text": [
      "100%|██████████| 441/441 [00:33<00:00, 13.11it/s]\n",
      "  0%|          | 2/441 [00:00<00:39, 11.08it/s]"
     ]
    },
    {
     "name": "stdout",
     "output_type": "stream",
     "text": [
      "42.64546006380527\n"
     ]
    },
    {
     "name": "stderr",
     "output_type": "stream",
     "text": [
      "100%|██████████| 441/441 [00:33<00:00, 13.16it/s]\n",
      "  0%|          | 2/441 [00:00<00:33, 13.15it/s]"
     ]
    },
    {
     "name": "stdout",
     "output_type": "stream",
     "text": [
      "7.656711278435466\n"
     ]
    },
    {
     "name": "stderr",
     "output_type": "stream",
     "text": [
      "100%|██████████| 441/441 [00:33<00:00, 13.05it/s]\n",
      "  0%|          | 2/441 [00:00<00:33, 13.04it/s]"
     ]
    },
    {
     "name": "stdout",
     "output_type": "stream",
     "text": [
      "3.7614747827674933\n"
     ]
    },
    {
     "name": "stderr",
     "output_type": "stream",
     "text": [
      "100%|██████████| 441/441 [00:33<00:00, 12.97it/s]\n",
      "  0%|          | 2/441 [00:00<00:37, 11.62it/s]"
     ]
    },
    {
     "name": "stdout",
     "output_type": "stream",
     "text": [
      "1.7815731819055856\n"
     ]
    },
    {
     "name": "stderr",
     "output_type": "stream",
     "text": [
      "100%|██████████| 441/441 [00:34<00:00, 12.93it/s]\n",
      "  0%|          | 2/441 [00:00<00:34, 12.60it/s]"
     ]
    },
    {
     "name": "stdout",
     "output_type": "stream",
     "text": [
      "0.8240000817101958\n"
     ]
    },
    {
     "name": "stderr",
     "output_type": "stream",
     "text": [
      "100%|██████████| 441/441 [00:34<00:00, 12.96it/s]\n",
      "  0%|          | 2/441 [00:00<00:34, 12.67it/s]"
     ]
    },
    {
     "name": "stdout",
     "output_type": "stream",
     "text": [
      "0.3592290665032891\n"
     ]
    },
    {
     "name": "stderr",
     "output_type": "stream",
     "text": [
      "100%|██████████| 441/441 [00:33<00:00, 13.04it/s]\n",
      "  0%|          | 2/441 [00:00<00:33, 13.29it/s]"
     ]
    },
    {
     "name": "stdout",
     "output_type": "stream",
     "text": [
      "0.14964288369154133\n"
     ]
    },
    {
     "name": "stderr",
     "output_type": "stream",
     "text": [
      "100%|██████████| 441/441 [00:33<00:00, 12.99it/s]\n",
      "  0%|          | 0/441 [00:00<?, ?it/s]"
     ]
    },
    {
     "name": "stdout",
     "output_type": "stream",
     "text": [
      "0.06179612787328281\n"
     ]
    },
    {
     "name": "stderr",
     "output_type": "stream",
     "text": [
      "100%|██████████| 441/441 [06:11<00:00,  1.19it/s]\n"
     ]
    },
    {
     "data": {
      "image/png": "[encoded data removed]",
      "text/plain": [
       "<Figure size 432x288 with 2 Axes>"
      ]
     },
     "metadata": {
      "needs_background": "light"
     },
     "output_type": "display_data"
    },
    {
     "name": "stderr",
     "output_type": "stream",
     "text": [
      "100%|██████████| 441/441 [00:34<00:00, 12.95it/s]\n",
      "  0%|          | 2/441 [00:00<00:34, 12.89it/s]"
     ]
    },
    {
     "name": "stdout",
     "output_type": "stream",
     "text": [
      "3.334255940724134\n"
     ]
    },
    {
     "name": "stderr",
     "output_type": "stream",
     "text": [
      "100%|██████████| 441/441 [00:33<00:00, 13.04it/s]\n",
      "  0%|          | 2/441 [00:00<00:32, 13.59it/s]"
     ]
    },
    {
     "name": "stdout",
     "output_type": "stream",
     "text": [
      "1.0070008620065636\n"
     ]
    },
    {
     "name": "stderr",
     "output_type": "stream",
     "text": [
      "100%|██████████| 441/441 [00:33<00:00, 13.04it/s]\n",
      "  0%|          | 2/441 [00:00<00:35, 12.35it/s]"
     ]
    },
    {
     "name": "stdout",
     "output_type": "stream",
     "text": [
      "0.3090729544176867\n"
     ]
    },
    {
     "name": "stderr",
     "output_type": "stream",
     "text": [
      "100%|██████████| 441/441 [00:33<00:00, 13.08it/s]\n",
      "  0%|          | 2/441 [00:00<00:34, 12.87it/s]"
     ]
    },
    {
     "name": "stdout",
     "output_type": "stream",
     "text": [
      "0.1116428868598831\n"
     ]
    },
    {
     "name": "stderr",
     "output_type": "stream",
     "text": [
      "100%|██████████| 441/441 [00:33<00:00, 13.02it/s]\n",
      "  0%|          | 0/441 [00:00<?, ?it/s]"
     ]
    },
    {
     "name": "stdout",
     "output_type": "stream",
     "text": [
      "0.04221929230236299\n"
     ]
    },
    {
     "name": "stderr",
     "output_type": "stream",
     "text": [
      "100%|██████████| 441/441 [06:09<00:00,  1.19it/s]\n"
     ]
    },
    {
     "data": {
      "image/png": "[encoded data removed]",
      "text/plain": [
       "<Figure size 432x288 with 2 Axes>"
      ]
     },
     "metadata": {
      "needs_background": "light"
     },
     "output_type": "display_data"
    },
    {
     "name": "stderr",
     "output_type": "stream",
     "text": [
      "100%|██████████| 441/441 [00:33<00:00, 13.13it/s]\n",
      "  0%|          | 0/441 [00:00<?, ?it/s]"
     ]
    },
    {
     "name": "stdout",
     "output_type": "stream",
     "text": [
      "0.038435089309075465\n"
     ]
    },
    {
     "name": "stderr",
     "output_type": "stream",
     "text": [
      "100%|██████████| 441/441 [06:09<00:00,  1.19it/s]\n"
     ]
    },
    {
     "data": {
      "image/png": "[encoded data removed]",
      "text/plain": [
       "<Figure size 432x288 with 2 Axes>"
      ]
     },
     "metadata": {
      "needs_background": "light"
     },
     "output_type": "display_data"
    },
    {
     "data": {
      "text/plain": [
       "<Figure size 432x288 with 0 Axes>"
      ]
     },
     "metadata": {},
     "output_type": "display_data"
    }
   ],
   "source": [
    "# actions (- is loc2 --> loc1 and + is loc1 --> loc2)\n",
    "A = [-5, -4, -3, -2, -1, 0, 1, 2, 3, 4, 5]\n",
    "\n",
    "# state-value function\n",
    "state_value = {\n",
    "    k:v for k,v in zip(\n",
    "        ((first, second) for first in range(max_cars+1) for second in range(max_cars+1)), \n",
    "        np.random.rand((max_cars+1)**2)\n",
    "    )\n",
    "}\n",
    "\n",
    "# policy\n",
    "policy = {\n",
    "    k:v for k,v in zip(\n",
    "        ((first, second) for first in range(max_cars+1) for second in range(max_cars+1)), \n",
    "        (np.random.choice(A) for choice in range((max_cars+1)**2))\n",
    "    )\n",
    "}\n",
    "\n",
    "loc1 = Location(\"San Diego\", 20, 3, 3)\n",
    "loc2 = Location(\"New York\", 20, 4, 2)\n",
    "\n",
    "plt.imshow(np.array(list(policy.values())).reshape(max_cars+1,max_cars+1))\n",
    "plt.colorbar()\n",
    "plt.show()\n",
    "plt.clf()\n",
    "\n",
    "for day in range(days):\n",
    "    policy_evaluation()\n",
    "    stable = policy_improvement()\n",
    "    plt.imshow(np.array(list(policy.values())).reshape(max_cars+1,max_cars+1))\n",
    "    plt.colorbar()\n",
    "    plt.show()\n",
    "    plt.clf()\n",
    "    if stable:\n",
    "        break"
   ]
  },
  {
   "cell_type": "code",
   "execution_count": 7,
   "id": "ongoing-happening",
   "metadata": {},
   "outputs": [
    {
     "data": {
      "image/png": "[encoded data removed]",
      "text/plain": [
       "<Figure size 432x288 with 2 Axes>"
      ]
     },
     "metadata": {
      "needs_background": "light"
     },
     "output_type": "display_data"
    }
   ],
   "source": [
    "import matplotlib.pyplot as plt\n",
    "from matplotlib import cm\n",
    "from matplotlib.ticker import LinearLocator\n",
    "import numpy as np\n",
    "from mpl_toolkits.mplot3d import Axes3D # <--- This is important for 3d plotting \n",
    "\n",
    "fig, ax = plt.subplots(subplot_kw={\"projection\": \"3d\"})\n",
    "\n",
    "# Make data.\n",
    "X = np.arange(0, 21, 1)\n",
    "Y = np.arange(0, 21, 1)\n",
    "X, Y = np.meshgrid(X, Y)\n",
    "Z = np.array(list(policy.values())).reshape(max_cars+1,max_cars+1)\n",
    "\n",
    "# Plot the surface.\n",
    "surf = ax.plot_surface(X, Y, Z, cmap=cm.coolwarm,\n",
    "                       linewidth=0, antialiased=False)\n",
    "\n",
    "# Customize the z axis.\n",
    "ax.set_zlim(-5, 5)\n",
    "ax.zaxis.set_major_locator(LinearLocator(10))\n",
    "# A StrMethodFormatter is used automatically\n",
    "\n",
    "# Add a color bar which maps values to colors.\n",
    "fig.colorbar(surf, shrink=0.5, aspect=5)\n",
    "\n",
    "plt.show()"
   ]
  },
  {
   "cell_type": "code",
   "execution_count": null,
   "id": "academic-declaration",
   "metadata": {},
   "outputs": [],
   "source": []
  }
 ],
 "metadata": {
  "kernelspec": {
   "display_name": "Python 3",
   "language": "python",
   "name": "python3"
  },
  "language_info": {
   "codemirror_mode": {
    "name": "ipython",
    "version": 3
   },
   "file_extension": ".py",
   "mimetype": "text/x-python",
   "name": "python",
   "nbconvert_exporter": "python",
   "pygments_lexer": "ipython3",
   "version": "3.7.4"
  }
 },
 "nbformat": 4,
 "nbformat_minor": 5
}
