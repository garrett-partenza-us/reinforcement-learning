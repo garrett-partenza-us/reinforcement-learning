{
 "cells": [
  {
   "cell_type": "code",
   "execution_count": 11,
   "id": "chicken-fabric",
   "metadata": {},
   "outputs": [],
   "source": [
    "# Imports\n",
    "import numpy as np\n",
    "import random\n",
    "from tqdm import tqdm\n",
    "import matplotlib.pyplot as plt\n",
    "import plotly.graph_objects as go"
   ]
  },
  {
   "cell_type": "code",
   "execution_count": 12,
   "id": "earned-jordan",
   "metadata": {},
   "outputs": [],
   "source": [
    "# Maps numeric actions to semantic actions\n",
    "action_map = {\n",
    "    1: \"UP\",\n",
    "    2: \"DOWN\",\n",
    "    3: \"LEFT\",\n",
    "    4: \"RIGHT\"\n",
    "}"
   ]
  },
  {
   "cell_type": "code",
   "execution_count": 13,
   "id": "lined-basketball",
   "metadata": {},
   "outputs": [],
   "source": [
    "# Input q-function --> Output value function\n",
    "# Used for plotting value grids with imshow\n",
    "def plot_valuemap(q):\n",
    "    v = {}\n",
    "    for row in range(7):\n",
    "        for col in range(10):\n",
    "            v[tuple((row,col))] = max([\n",
    "                q[tuple((row,col,1))],\n",
    "                q[tuple((row,col,2))], \n",
    "                q[tuple((row,col,3))], \n",
    "                q[tuple((row,col,4))], \n",
    "            ])\n",
    "    plt.imshow(np.array([*v.values()]).reshape(7,10))\n",
    "    plt.colorbar()\n",
    "    plt.show()"
   ]
  },
  {
   "cell_type": "code",
   "execution_count": 14,
   "id": "accepted-first",
   "metadata": {},
   "outputs": [],
   "source": [
    "# GridWorld Class\n",
    "class GridWorld:\n",
    "    \n",
    "    # Constructor\n",
    "    def __init__(self):\n",
    "        # Rewards\n",
    "        self.world = np.array([\n",
    "            [-1, -1, -1, -1, -1, -1, -1, -1, -1, -1],\n",
    "            [-1, -1, -1, -1, -1, -1, -1, -1, -1, -1],\n",
    "            [-1, -1, -1, -1, -1, -1, -1, -1, -1, -1],\n",
    "            [-1, -1, -1, -1, -1, -1, -1, +1, -1, -1],\n",
    "            [-1, -1, -1, -1, -1, -1, -1, -1, -1, -1],\n",
    "            [-1, -1, -1, -1, -1, -1, -1, -1, -1, -1],\n",
    "            [-1, -1, -1, -1, -1, -1, -1, -1, -1, -1],\n",
    "        ])\n",
    "        # Wind\n",
    "        self.wind = np.array([\n",
    "            [0, 0, 0, 1, 1, 1, 2, 2, 1, 0],\n",
    "            [0, 0, 0, 1, 1, 1, 2, 2, 1, 0],\n",
    "            [0, 0, 0, 1, 1, 1, 2, 2, 1, 0],\n",
    "            [0, 0, 0, 1, 1, 1, 2, 2, 1, 0],\n",
    "            [0, 0, 0, 1, 1, 1, 2, 2, 1, 0],\n",
    "            [0, 0, 0, 1, 1, 1, 2, 2, 1, 0],\n",
    "            [0, 0, 0, 1, 1, 1, 2, 2, 1, 0],\n",
    "        ])\n",
    "\n",
    "    # Input x, y, and numeric action --> Output new unclipped x, y\n",
    "    def step(self, x, y, action):\n",
    "        wind = self.wind[x][y]\n",
    "        if action == 1:\n",
    "            return x-1, y, wind\n",
    "        elif action == 2:\n",
    "            return x+1, y, wind\n",
    "        elif action == 3:\n",
    "            return x, y-1, wind\n",
    "        elif action == 4:\n",
    "            return x, y+1, wind\n",
    "        \n",
    "    # Input x, y --> Output reward\n",
    "    def reward(self, x, y, wind):\n",
    "        if x not in range(0,7) or y not in range(0,10):\n",
    "            return -1\n",
    "        else:\n",
    "            return self.world[np.clip(x-wind, 0, 6)][y]\n",
    "        \n",
    "    # Input x, y --> Output True if position is terminal state else False\n",
    "    def terminated(self, x, y):\n",
    "        return True if (x==3 and y==7) else False"
   ]
  },
  {
   "cell_type": "code",
   "execution_count": 15,
   "id": "polyphonic-semiconductor",
   "metadata": {},
   "outputs": [],
   "source": [
    "# Agent class\n",
    "class Agent:\n",
    "    \n",
    "    # Constructor\n",
    "    def __init__(self):\n",
    "        self.gridworld = GridWorld()\n",
    "        self.x = 3\n",
    "        self.y = 0\n",
    "        self.x_prev = None\n",
    "        self.y_prev = None\n",
    "        self.gamma = 0.9\n",
    "        self.epsilon = 0.1\n",
    "        self.S = []\n",
    "        self.q = {tuple([row, col, action]): np.random.normal(-1, 1) for row in range(self.gridworld.world.shape[0]) for col in range(self.gridworld.world.shape[1]) for action in action_map.keys()}\n",
    "        self.p = {tuple([row, col]): max(action_map.keys(), key = lambda a: self.q[tuple([row, col, a])]) for row in range(self.gridworld.world.shape[0]) for col in range(self.gridworld.world.shape[1])}\n",
    "        self.r = {tuple([row, col, action]): [] for row in range(self.gridworld.world.shape[0]) for col in range(self.gridworld.world.shape[1]) for action in action_map.keys()}\n",
    "    \n",
    "    # Wrapper function for GridWorld.step()\n",
    "    def step(self, action):\n",
    "        self.x_prev = self.x\n",
    "        self.y_prev = self.y\n",
    "        self.x, self.y, wind = self.gridworld.step(self.x, self.y, action)\n",
    "        reward = self.gridworld.reward(self.x, self.y, wind)\n",
    "        self.x = np.clip(self.x-wind, 0, 6)\n",
    "        self.y = np.clip(self.y, 0, 9)\n",
    "        return reward\n",
    "    \n",
    "    def reset(self):\n",
    "        self.x = 3\n",
    "        self.y = 0\n",
    "    \n",
    "    # Wrapper function for GridWorld.reward()\n",
    "    def reward(self):\n",
    "        return self.gridworld.reward(self.x, self.y)\n",
    "    \n",
    "    # Wrapper function for GridWorld.terminated()\n",
    "    def terminated(self):\n",
    "        return self.gridworld.terminated(self.x, self.y)\n",
    "    \n",
    "    # Wrapper function for GridWorld.terminated()\n",
    "    def empty_s(self):\n",
    "        self.S = []\n",
    "    \n",
    "    # Monte Carlo control on-policy policy evaluation (for e-soft policies)\n",
    "    def MC(self, max_steps=np.inf, max_moves=100, epsilon=0.1, N=300):\n",
    "        axis_timesteps, axis_episodic = [], []\n",
    "        episode_count = 0\n",
    "        steps_count = 0\n",
    "        finished = False\n",
    "        while episode_count < N:\n",
    "            last_g = None\n",
    "            self.reset()\n",
    "            episode = []\n",
    "            for move in range(max_moves):\n",
    "                if np.random.choice([True, False], p=[epsilon, 1-epsilon]):\n",
    "                    action = random.choice(list(action_map.keys()))\n",
    "                else:\n",
    "                    action = self.p[tuple([self.x, self.y])]\n",
    "                reward = self.step(action)\n",
    "                steps_count+=1\n",
    "                episode.append(tuple([tuple([self.x_prev, self.y_prev]), action, reward]))\n",
    "                if self.terminated():\n",
    "                    axis_timesteps.append(steps_count)\n",
    "                    axis_episodic.append(episode_count)\n",
    "                    break\n",
    "                else:\n",
    "                    axis_timesteps.append(steps_count)\n",
    "                    axis_episodic.append(episode_count)\n",
    "                    \n",
    "            episode_count+=1\n",
    "            G = 0\n",
    "            for T, step in enumerate(reversed(episode)):\n",
    "                state, action, reward = step\n",
    "                G = self.gamma * G + reward\n",
    "                if not any([(state, action) == row for row in [(x[0], x[1]) for x in episode[:-T-1]]]):\n",
    "                    if state == tuple([3,0]):\n",
    "                        last_g = G\n",
    "#                     sa = tuple([state[0], state[1], action])\n",
    "#                     self.r[sa].append(G)\n",
    "#                     self.q[sa] = np.mean(self.r[sa])\n",
    "#                     self.p[state] = max(action_map.keys(), key = lambda a: self.q[tuple([state[0], state[1], a])])\n",
    "            self.S.append(last_g)\n",
    "                    \n",
    "    # SARSA on-policy (TD control)\n",
    "    def SARSA(self, N=100):\n",
    "        axis_timesteps, axis_episodic = [], []\n",
    "        episode_count = 0\n",
    "        step_count = 0\n",
    "        alpha = 0.5\n",
    "        epsilon = 0.1\n",
    "        self.q[tuple([3,7,1])] = 0\n",
    "        self.q[tuple([3,7,2])] = 0\n",
    "        self.q[tuple([3,7,3])] = 0\n",
    "        self.q[tuple([3,7,4])] = 0\n",
    "        while episode_count < N:\n",
    "            self.reset()\n",
    "            while True:\n",
    "                if np.random.choice([True, False], p=[epsilon, 1-epsilon]):\n",
    "                    A1 = random.choice(list(action_map.keys()))\n",
    "                else:\n",
    "                    A1 = max(action_map.keys(), key = lambda a: self.q[tuple([self.x, self.y, a])])\n",
    "                reward = self.step(A1)\n",
    "                if np.random.choice([True, False], p=[epsilon, 1-epsilon]):\n",
    "                    A2 = random.choice(list(action_map.keys()))\n",
    "                else:\n",
    "                    A2 = max(action_map.keys(), key = lambda a: self.q[tuple([self.x, self.y, a])])\n",
    "                step_count+=1\n",
    "                sa1 = tuple([self.x_prev, self.y_prev, A1])\n",
    "                sa2 = tuple([self.x, self.y, A2])\n",
    "                self.q[sa1] = self.q[sa1] + alpha * ( reward + self.gamma * self.q[sa2] - self.q[sa1])\n",
    "                if self.terminated():\n",
    "                    episode_count+=1\n",
    "                    axis_timesteps.append(step_count)\n",
    "                    axis_episodic.append(episode_count)\n",
    "                    break\n",
    "                else:\n",
    "                    axis_timesteps.append(step_count)\n",
    "                    axis_episodic.append(episode_count)\n",
    "        for row in range(7):\n",
    "            for col in range(10):\n",
    "                agent.p[tuple([row,col])] = max(action_map.keys(), key = lambda a: agent.q[tuple([row, col, a])])\n",
    "    \n",
    "    # n-step SARSA with n = 4\n",
    "    def nstepSARSA(self, n=4, N=100, max_moves=100):\n",
    "        axis_timesteps, axis_episodic = [], []\n",
    "        episode_count = 0\n",
    "        step_count = 0\n",
    "        lr = 0.5\n",
    "        epsilon = 0.1\n",
    "        finished = False\n",
    "        while episode_count < N:\n",
    "            self.reset()\n",
    "            t = 0\n",
    "            T = np.inf\n",
    "            action = self.p[tuple([self.x, self.y])]\n",
    "            actions = [action]\n",
    "            states = [tuple([self.x, self.y])]\n",
    "            rewards = [0]\n",
    "            for move in range(max_moves):\n",
    "                if t < T:\n",
    "                    reward = self.step(action)\n",
    "                    state = tuple([self.x, self.y])\n",
    "\n",
    "                    states.append(state)\n",
    "                    rewards.append(reward)\n",
    "\n",
    "                    if self.terminated():\n",
    "                        T = t + 1\n",
    "                    else:\n",
    "                        if np.random.choice([True, False], p=[epsilon, 1-epsilon]):\n",
    "                            action = random.choice(list(action_map.keys()))\n",
    "                        else:\n",
    "                            action = max(action_map.keys(), key = lambda a: self.q[tuple([self.x, self.y, a])])\n",
    "                        actions.append(action)  \n",
    "                tau = t - n + 1\n",
    "                step_count+=1\n",
    "                axis_timesteps.append(step_count)\n",
    "                axis_episodic.append(episode_count)\n",
    "                if tau >= 0:\n",
    "                    G = 0\n",
    "                    for i in range(tau + 1, min(tau + n + 1, T + 1)):\n",
    "                        G += np.power(self.gamma, i - tau - 1) * rewards[i]\n",
    "                    if tau + n < T:\n",
    "                        state_action = (states[tau + n], actions[tau + n])\n",
    "                        state_action = [*state_action[0]] + [state_action[1]]\n",
    "                        G += np.power(self.gamma, n) * self.q[tuple(state_action)]\n",
    "                    if tau == 0:\n",
    "                        self.S.append(G)\n",
    "#                     state_action = (states[tau], actions[tau])\n",
    "#                     state_action = [*state_action[0]] + [state_action[1]]\n",
    "#                     self.q[tuple(state_action)] += lr * (\n",
    "#                                 G - self.q[tuple(state_action)])\n",
    "                if tau == T - 1:\n",
    "                    break\n",
    "\n",
    "                t += 1\n",
    "            episode_count+=1"
   ]
  },
  {
   "cell_type": "code",
   "execution_count": 20,
   "id": "federal-referral",
   "metadata": {},
   "outputs": [
    {
     "data": {
      "image/png": "[encoded data removed]",
      "text/plain": [
       "<Figure size 432x288 with 2 Axes>"
      ]
     },
     "metadata": {
      "needs_background": "light"
     },
     "output_type": "display_data"
    },
    {
     "data": {
      "application/vnd.plotly.v1+json": {
       "config": {
        "plotlyServerURL": "https://plot.ly"
       },
       "data": [
        {
         "name": "MC",
         "opacity": 0.75,
         "type": "histogram",
         "x": [
          -9.999734386011127,
          -9.999734386011127,
          -9.999734386011127,
          -9.999450220461421,
          -9.999734386011127,
          -9.999734386011127,
          -9.868302332991819,
          -8.91675200759803,
          -9.799271960054593,
          -9.998850547560354,
          -9.424317603669905,
          -9.8536692588798,
          -9.999734386011127,
          -9.999734386011127,
          -9.999734386011127,
          -9.868302332991819,
          -9.999734386011127,
          -9.999734386011127,
          -9.999734386011127,
          -9.997033062338506,
          -9.993796870392645,
          -9.122569126154405,
          -9.998965492804318,
          -9.999734386011127,
          -9.999734386011127,
          -9.999734386011127,
          -9.999734386011127,
          -9.999734386011127,
          -9.122569126154405,
          -9.580327533075362,
          -9.999734386011127,
          -9.999734386011127,
          -9.999734386011127,
          -9.999734386011127,
          -9.999734386011127,
          -9.999734386011127,
          -9.999734386011127,
          -9.999734386011127,
          -9.999734386011127,
          -9.999734386011127,
          -9.990545450987113,
          -7.961677792262976,
          -9.999734386011127,
          -9.999734386011127,
          -9.999675360680266,
          -9.999734386011127,
          -9.999734386011127,
          -9.99759678049419,
          -9.999734386011127,
          -9.999734386011127,
          -8.348959011733012,
          -9.999734386011127,
          -9.999734386011127,
          -9.989494945541237,
          -9.913593160675934,
          -9.999450220461421,
          -9.948977625447533,
          -9.999734386011127,
          -9.999734386011127,
          -9.819344764049134,
          -9.999734386011127,
          -9.999734386011127,
          -9.999734386011127,
          -9.99441718335338,
          -9.819344764049134,
          -9.999734386011127,
          -9.975596156420918,
          -9.999734386011127,
          -9.999734386011127,
          -9.999734386011127,
          -9.776968844505104,
          -9.991490905888403,
          -9.776968844505104,
          -9.999734386011127,
          -9.999734386011127,
          -9.694058771611939,
          -9.999734386011127,
          -8.91675200759803,
          -9.997033062338506,
          -9.999734386011127,
          -9.999734386011127,
          -9.999734386011127,
          -9.95407986290278,
          -9.999734386011127,
          -9.481885843302916,
          -9.958671876612502,
          -9.999734386011127,
          -9.999734386011127,
          -9.999734386011127,
          -9.999734386011127,
          -9.999734386011127,
          -9.999734386011127,
          -9.999734386011127,
          -9.999734386011127,
          -9.999734386011127,
          -9.999734386011127,
          -9.999734386011127,
          -9.999734386011127,
          -9.922233844608341,
          -9.999734386011127,
          -9.999734386011127,
          -9.999734386011127,
          -9.580327533075362,
          -9.999734386011127,
          -9.622294779767826,
          -9.999734386011127,
          -9.999734386011127,
          -9.972884618245464,
          -9.999734386011127,
          -9.999734386011127,
          -9.999734386011127,
          -9.999734386011127,
          -9.999734386011127,
          -9.999734386011127,
          -9.999734386011127,
          -9.999734386011127,
          -9.997033062338506,
          -9.999321259828914,
          -9.999734386011127,
          -9.998722830622615,
          -9.122569126154405,
          -9.980232886700945,
          -9.999734386011127,
          -9.999734386011127,
          -9.999734386011127,
          -9.724652894450745,
          -9.999734386011127,
          -9.837410287644222,
          -9.999734386011127,
          -9.999734386011127,
          -9.999734386011127,
          -9.999734386011127,
          -9.999734386011127,
          -9.999734386011127,
          -9.999734386011127,
          -9.999734386011127,
          -9.999321259828914,
          -9.975596156420918,
          -9.998850547560354,
          -9.999734386011127,
          -9.98832771726804,
          -9.958671876612502,
          -9.999734386011127,
          -9.998580922914016,
          -9.999734386011127,
          -9.819344764049134,
          -9.999734386011127,
          -9.999734386011127,
          -9.98832771726804,
          -9.995930126664616,
          -9.993107633769606,
          -9.999734386011127,
          -9.999734386011127,
          -9.997837102444771,
          -9.999734386011127,
          -9.999734386011127,
          -9.999734386011127,
          -9.998053392200294,
          -9.752187605005672,
          -9.913593160675934,
          -9.99963928964474,
          -9.99547791851624,
          -9.978036540778827,
          -9.999675360680266,
          -9.922233844608341,
          -9.999734386011127,
          -9.999734386011127,
          -9.999734386011127,
          -9.694058771611939,
          -9.999734386011127,
          -9.999068943523886,
          -7.961677792262976,
          -9.991490905888403,
          -9.999734386011127,
          -9.999734386011127,
          -9.999734386011127,
          -8.348959011733012,
          -9.999734386011127,
          -9.98832771726804,
          -9.999734386011127,
          -9.999450220461421,
          -9.694058771611939,
          -9.998850547560354,
          -9.999734386011127,
          -8.91675200759803,
          -9.999245844254348,
          -9.999734386011127,
          -9.999734386011127,
          -9.999734386011127,
          -9.913593160675934,
          -9.837410287644222,
          -9.983988638227766,
          -9.99759678049419,
          -9.999734386011127,
          -9.999734386011127,
          -9.943308472719481,
          -9.999734386011127,
          -9.999734386011127,
          -9.837410287644222,
          -9.999734386011127,
          -9.622294779767826,
          -9.999734386011127,
          -9.837410287644222,
          -9.999734386011127,
          -9.999734386011127,
          -9.999734386011127,
          -8.165510013036679,
          -9.999734386011127,
          -9.999734386011127,
          -9.122569126154405,
          -9.893324889723374,
          -9.999734386011127,
          -9.799271960054593,
          -9.999734386011127,
          -9.999734386011127,
          -9.999734386011127,
          -9.999734386011127,
          -9.913593160675934,
          -9.958671876612502,
          -9.998850547560354,
          -8.348959011733012,
          -9.990545450987113,
          -9.999734386011127,
          -9.996337113998155,
          -9.999734386011127,
          -9.999734386011127,
          -9.999734386011127,
          -9.999734386011127,
          -9.999734386011127,
          -9.999734386011127,
          -9.975596156420918,
          -9.999734386011127,
          -9.999734386011127,
          -9.122569126154405,
          -9.999734386011127,
          -9.999734386011127,
          -9.999734386011127,
          -9.694058771611939,
          -9.975596156420918,
          -9.999734386011127,
          -9.999734386011127,
          -9.999734386011127,
          -9.999734386011127,
          -9.999734386011127,
          -9.999734386011127,
          -9.999734386011127,
          -9.580327533075362,
          -9.995930126664616,
          -9.999734386011127,
          -9.998850547560354,
          -9.999734386011127,
          -9.999675360680266,
          -9.999734386011127,
          -9.999734386011127,
          -9.999734386011127,
          -9.999734386011127,
          -9.999734386011127,
          -9.999734386011127,
          -9.998053392200294,
          -9.999734386011127,
          -9.999734386011127,
          -9.999734386011127,
          -9.996337113998155,
          -9.98832771726804,
          -9.999734386011127,
          -9.999734386011127,
          -9.999734386011127,
          -9.999734386011127,
          -9.962804688951252,
          -9.999734386011127,
          -9.999734386011127,
          -9.999734386011127,
          -8.91675200759803,
          -9.999734386011127,
          -9.881472099692637,
          -9.799271960054593,
          -9.694058771611939,
          -9.837410287644222,
          -9.999734386011127,
          -9.98703079696449,
          -9.999734386011127,
          -9.943308472719481,
          -9.025076806838227,
          -9.991490905888403,
          -9.989494945541237,
          -8.348959011733012,
          -9.999734386011127,
          -9.999734386011127,
          -9.994975465018044,
          -9.999734386011127,
          -9.999734386011127,
          -9.930010460147507,
          -9.903992400751036,
          -9.799271960054593,
          -9.999734386011127,
          -9.999734386011127,
          -9.999734386011127,
          -9.999734386011127,
          -8.66265679950374,
          -9.993796870392645
         ]
        },
        {
         "name": "TD(0)",
         "opacity": 0.75,
         "type": "histogram",
         "x": [
          -4.377015159901131,
          -4.377015159901131,
          -4.377015159901131,
          -4.377015159901131,
          -4.377015159901131,
          -4.377015159901131,
          -4.377015159901131,
          -4.377015159901131,
          -4.377015159901131,
          -4.377015159901131,
          -4.377015159901131,
          -4.377015159901131,
          -4.377015159901131,
          -4.377015159901131,
          -4.377015159901131,
          -4.377015159901131,
          -4.377015159901131,
          -4.638382179284132,
          -4.377015159901131,
          -4.377015159901131,
          -4.377015159901131,
          -4.377015159901131,
          -4.377015159901131,
          -4.377015159901131,
          -4.377015159901131,
          -4.377015159901131,
          -4.377015159901131,
          -4.377015159901131,
          -4.377015159901131,
          -4.377015159901131,
          -4.377015159901131,
          -4.377015159901131,
          -4.377015159901131,
          -4.377015159901131,
          -4.377015159901131,
          -4.377015159901131,
          -4.377015159901131,
          -4.377015159901131,
          -4.377015159901131,
          -4.377015159901131,
          -4.377015159901131,
          -4.377015159901131,
          -4.377015159901131,
          -4.377015159901131,
          -4.377015159901131,
          -4.377015159901131,
          -4.377015159901131,
          -4.377015159901131,
          -4.377015159901131,
          -4.377015159901131,
          -4.377015159901131,
          -4.377015159901131,
          -4.377015159901131,
          -4.377015159901131,
          -4.377015159901131,
          -4.377015159901131,
          -4.377015159901131,
          -4.377015159901131,
          -4.377015159901131,
          -4.377015159901131,
          -4.377015159901131,
          -4.377015159901131,
          -4.377015159901131,
          -4.377015159901131,
          -4.377015159901131,
          -4.377015159901131,
          -4.377015159901131,
          -4.377015159901131,
          -4.377015159901131,
          -4.377015159901131,
          -4.377015159901131,
          -4.377015159901131,
          -4.377015159901131,
          -4.638382179284132,
          -4.377015159901131,
          -4.598624271598771,
          -4.377015159901131,
          -4.377015159901131,
          -4.377015159901131,
          -4.377015159901131,
          -4.377015159901131,
          -4.598624271598771,
          -4.377015159901131,
          -4.377015159901131,
          -4.377015159901131,
          -4.377015159901131,
          -4.377015159901131,
          -4.377015159901131,
          -4.377015159901131,
          -4.377015159901131,
          -4.377015159901131,
          -4.377015159901131,
          -4.377015159901131,
          -4.377015159901131,
          -4.377015159901131,
          -4.377015159901131,
          -4.598624271598771,
          -4.377015159901131,
          -4.377015159901131,
          -4.377015159901131
         ]
        },
        {
         "name": "N-step 4",
         "opacity": 0.75,
         "type": "histogram",
         "x": [
          -5.611620269291991,
          -5.729838361865001,
          -5.611620269291991,
          -5.611620269291991,
          -5.611620269291991,
          -5.611620269291991,
          -5.611620269291991,
          -5.611620269291991,
          -5.611620269291991,
          -5.611620269291991,
          -5.729838361865001,
          -5.611620269291991,
          -5.611620269291991,
          -5.611620269291991,
          -5.611620269291991,
          -5.611620269291991,
          -5.674918329138509,
          -5.611620269291991,
          -5.611620269291991,
          -5.611620269291991,
          -5.611620269291991,
          -5.611620269291991,
          -5.611620269291991,
          -5.736060427815659,
          -5.783243146892959,
          -5.611620269291991,
          -5.611620269291991,
          -5.199884670219199,
          -5.611620269291991,
          -5.611620269291991,
          -5.611620269291991,
          -5.611620269291991,
          -5.611620269291991,
          -5.611620269291991,
          -5.611620269291991,
          -5.611620269291991,
          -5.729838361865001,
          -5.611620269291991,
          -5.611620269291991,
          -5.611620269291991,
          -5.611620269291991,
          -5.611620269291991,
          -5.674918329138509,
          -5.611620269291991,
          -5.9677187478852485,
          -5.611620269291991,
          -5.611620269291991,
          -5.611620269291991,
          -5.729838361865001,
          -5.611620269291991,
          -5.611620269291991,
          -5.611620269291991,
          -5.783243146892959,
          -5.729838361865001,
          -5.611620269291991,
          -5.611620269291991,
          -5.611620269291991,
          -5.611620269291991,
          -5.611620269291991,
          -5.611620269291991,
          -5.611620269291991,
          -5.611620269291991,
          -5.611620269291991,
          -5.611620269291991,
          -5.611620269291991,
          -5.611620269291991,
          -5.611620269291991,
          -5.611620269291991,
          -5.611620269291991,
          -5.611620269291991,
          -5.611620269291991,
          -5.611620269291991,
          -5.611620269291991,
          -5.611620269291991,
          -5.611620269291991,
          -5.674918329138509,
          -5.611620269291991,
          -5.611620269291991,
          -5.9677187478852485,
          -5.611620269291991,
          -5.611620269291991,
          -5.611620269291991,
          -5.611620269291991,
          -5.611620269291991,
          -5.736060427815659,
          -5.611620269291991,
          -5.9677187478852485,
          -5.611620269291991,
          -5.611620269291991,
          -5.729838361865001,
          -5.611620269291991,
          -5.611620269291991,
          -5.611620269291991,
          -5.611620269291991,
          -5.611620269291991,
          -5.611620269291991,
          -5.611620269291991,
          -5.783243146892959,
          -5.611620269291991,
          -5.729838361865001
         ]
        }
       ],
       "layout": {
        "autosize": true,
        "bargap": 0.2,
        "bargroupgap": 0.1,
        "barmode": "overlay",
        "showlegend": true,
        "template": {
         "data": {
          "bar": [
           {
            "error_x": {
             "color": "#2a3f5f"
            },
            "error_y": {
             "color": "#2a3f5f"
            },
            "marker": {
             "line": {
              "color": "#E5ECF6",
              "width": 0.5
             },
             "pattern": {
              "fillmode": "overlay",
              "size": 10,
              "solidity": 0.2
             }
            },
            "type": "bar"
           }
          ],
          "barpolar": [
           {
            "marker": {
             "line": {
              "color": "#E5ECF6",
              "width": 0.5
             },
             "pattern": {
              "fillmode": "overlay",
              "size": 10,
              "solidity": 0.2
             }
            },
            "type": "barpolar"
           }
          ],
          "carpet": [
           {
            "aaxis": {
             "endlinecolor": "#2a3f5f",
             "gridcolor": "white",
             "linecolor": "white",
             "minorgridcolor": "white",
             "startlinecolor": "#2a3f5f"
            },
            "baxis": {
             "endlinecolor": "#2a3f5f",
             "gridcolor": "white",
             "linecolor": "white",
             "minorgridcolor": "white",
             "startlinecolor": "#2a3f5f"
            },
            "type": "carpet"
           }
          ],
          "choropleth": [
           {
            "colorbar": {
             "outlinewidth": 0,
             "ticks": ""
            },
            "type": "choropleth"
           }
          ],
          "contour": [
           {
            "colorbar": {
             "outlinewidth": 0,
             "ticks": ""
            },
            "colorscale": [
             [
              0,
              "#0d0887"
             ],
             [
              0.1111111111111111,
              "#46039f"
             ],
             [
              0.2222222222222222,
              "#7201a8"
             ],
             [
              0.3333333333333333,
              "#9c179e"
             ],
             [
              0.4444444444444444,
              "#bd3786"
             ],
             [
              0.5555555555555556,
              "#d8576b"
             ],
             [
              0.6666666666666666,
              "#ed7953"
             ],
             [
              0.7777777777777778,
              "#fb9f3a"
             ],
             [
              0.8888888888888888,
              "#fdca26"
             ],
             [
              1,
              "#f0f921"
             ]
            ],
            "type": "contour"
           }
          ],
          "contourcarpet": [
           {
            "colorbar": {
             "outlinewidth": 0,
             "ticks": ""
            },
            "type": "contourcarpet"
           }
          ],
          "heatmap": [
           {
            "colorbar": {
             "outlinewidth": 0,
             "ticks": ""
            },
            "colorscale": [
             [
              0,
              "#0d0887"
             ],
             [
              0.1111111111111111,
              "#46039f"
             ],
             [
              0.2222222222222222,
              "#7201a8"
             ],
             [
              0.3333333333333333,
              "#9c179e"
             ],
             [
              0.4444444444444444,
              "#bd3786"
             ],
             [
              0.5555555555555556,
              "#d8576b"
             ],
             [
              0.6666666666666666,
              "#ed7953"
             ],
             [
              0.7777777777777778,
              "#fb9f3a"
             ],
             [
              0.8888888888888888,
              "#fdca26"
             ],
             [
              1,
              "#f0f921"
             ]
            ],
            "type": "heatmap"
           }
          ],
          "heatmapgl": [
           {
            "colorbar": {
             "outlinewidth": 0,
             "ticks": ""
            },
            "colorscale": [
             [
              0,
              "#0d0887"
             ],
             [
              0.1111111111111111,
              "#46039f"
             ],
             [
              0.2222222222222222,
              "#7201a8"
             ],
             [
              0.3333333333333333,
              "#9c179e"
             ],
             [
              0.4444444444444444,
              "#bd3786"
             ],
             [
              0.5555555555555556,
              "#d8576b"
             ],
             [
              0.6666666666666666,
              "#ed7953"
             ],
             [
              0.7777777777777778,
              "#fb9f3a"
             ],
             [
              0.8888888888888888,
              "#fdca26"
             ],
             [
              1,
              "#f0f921"
             ]
            ],
            "type": "heatmapgl"
           }
          ],
          "histogram": [
           {
            "marker": {
             "pattern": {
              "fillmode": "overlay",
              "size": 10,
              "solidity": 0.2
             }
            },
            "type": "histogram"
           }
          ],
          "histogram2d": [
           {
            "colorbar": {
             "outlinewidth": 0,
             "ticks": ""
            },
            "colorscale": [
             [
              0,
              "#0d0887"
             ],
             [
              0.1111111111111111,
              "#46039f"
             ],
             [
              0.2222222222222222,
              "#7201a8"
             ],
             [
              0.3333333333333333,
              "#9c179e"
             ],
             [
              0.4444444444444444,
              "#bd3786"
             ],
             [
              0.5555555555555556,
              "#d8576b"
             ],
             [
              0.6666666666666666,
              "#ed7953"
             ],
             [
              0.7777777777777778,
              "#fb9f3a"
             ],
             [
              0.8888888888888888,
              "#fdca26"
             ],
             [
              1,
              "#f0f921"
             ]
            ],
            "type": "histogram2d"
           }
          ],
          "histogram2dcontour": [
           {
            "colorbar": {
             "outlinewidth": 0,
             "ticks": ""
            },
            "colorscale": [
             [
              0,
              "#0d0887"
             ],
             [
              0.1111111111111111,
              "#46039f"
             ],
             [
              0.2222222222222222,
              "#7201a8"
             ],
             [
              0.3333333333333333,
              "#9c179e"
             ],
             [
              0.4444444444444444,
              "#bd3786"
             ],
             [
              0.5555555555555556,
              "#d8576b"
             ],
             [
              0.6666666666666666,
              "#ed7953"
             ],
             [
              0.7777777777777778,
              "#fb9f3a"
             ],
             [
              0.8888888888888888,
              "#fdca26"
             ],
             [
              1,
              "#f0f921"
             ]
            ],
            "type": "histogram2dcontour"
           }
          ],
          "mesh3d": [
           {
            "colorbar": {
             "outlinewidth": 0,
             "ticks": ""
            },
            "type": "mesh3d"
           }
          ],
          "parcoords": [
           {
            "line": {
             "colorbar": {
              "outlinewidth": 0,
              "ticks": ""
             }
            },
            "type": "parcoords"
           }
          ],
          "pie": [
           {
            "automargin": true,
            "type": "pie"
           }
          ],
          "scatter": [
           {
            "marker": {
             "colorbar": {
              "outlinewidth": 0,
              "ticks": ""
             }
            },
            "type": "scatter"
           }
          ],
          "scatter3d": [
           {
            "line": {
             "colorbar": {
              "outlinewidth": 0,
              "ticks": ""
             }
            },
            "marker": {
             "colorbar": {
              "outlinewidth": 0,
              "ticks": ""
             }
            },
            "type": "scatter3d"
           }
          ],
          "scattercarpet": [
           {
            "marker": {
             "colorbar": {
              "outlinewidth": 0,
              "ticks": ""
             }
            },
            "type": "scattercarpet"
           }
          ],
          "scattergeo": [
           {
            "marker": {
             "colorbar": {
              "outlinewidth": 0,
              "ticks": ""
             }
            },
            "type": "scattergeo"
           }
          ],
          "scattergl": [
           {
            "marker": {
             "colorbar": {
              "outlinewidth": 0,
              "ticks": ""
             }
            },
            "type": "scattergl"
           }
          ],
          "scattermapbox": [
           {
            "marker": {
             "colorbar": {
              "outlinewidth": 0,
              "ticks": ""
             }
            },
            "type": "scattermapbox"
           }
          ],
          "scatterpolar": [
           {
            "marker": {
             "colorbar": {
              "outlinewidth": 0,
              "ticks": ""
             }
            },
            "type": "scatterpolar"
           }
          ],
          "scatterpolargl": [
           {
            "marker": {
             "colorbar": {
              "outlinewidth": 0,
              "ticks": ""
             }
            },
            "type": "scatterpolargl"
           }
          ],
          "scatterternary": [
           {
            "marker": {
             "colorbar": {
              "outlinewidth": 0,
              "ticks": ""
             }
            },
            "type": "scatterternary"
           }
          ],
          "surface": [
           {
            "colorbar": {
             "outlinewidth": 0,
             "ticks": ""
            },
            "colorscale": [
             [
              0,
              "#0d0887"
             ],
             [
              0.1111111111111111,
              "#46039f"
             ],
             [
              0.2222222222222222,
              "#7201a8"
             ],
             [
              0.3333333333333333,
              "#9c179e"
             ],
             [
              0.4444444444444444,
              "#bd3786"
             ],
             [
              0.5555555555555556,
              "#d8576b"
             ],
             [
              0.6666666666666666,
              "#ed7953"
             ],
             [
              0.7777777777777778,
              "#fb9f3a"
             ],
             [
              0.8888888888888888,
              "#fdca26"
             ],
             [
              1,
              "#f0f921"
             ]
            ],
            "type": "surface"
           }
          ],
          "table": [
           {
            "cells": {
             "fill": {
              "color": "#EBF0F8"
             },
             "line": {
              "color": "white"
             }
            },
            "header": {
             "fill": {
              "color": "#C8D4E3"
             },
             "line": {
              "color": "white"
             }
            },
            "type": "table"
           }
          ]
         },
         "layout": {
          "annotationdefaults": {
           "arrowcolor": "#2a3f5f",
           "arrowhead": 0,
           "arrowwidth": 1
          },
          "autotypenumbers": "strict",
          "coloraxis": {
           "colorbar": {
            "outlinewidth": 0,
            "ticks": ""
           }
          },
          "colorscale": {
           "diverging": [
            [
             0,
             "#8e0152"
            ],
            [
             0.1,
             "#c51b7d"
            ],
            [
             0.2,
             "#de77ae"
            ],
            [
             0.3,
             "#f1b6da"
            ],
            [
             0.4,
             "#fde0ef"
            ],
            [
             0.5,
             "#f7f7f7"
            ],
            [
             0.6,
             "#e6f5d0"
            ],
            [
             0.7,
             "#b8e186"
            ],
            [
             0.8,
             "#7fbc41"
            ],
            [
             0.9,
             "#4d9221"
            ],
            [
             1,
             "#276419"
            ]
           ],
           "sequential": [
            [
             0,
             "#0d0887"
            ],
            [
             0.1111111111111111,
             "#46039f"
            ],
            [
             0.2222222222222222,
             "#7201a8"
            ],
            [
             0.3333333333333333,
             "#9c179e"
            ],
            [
             0.4444444444444444,
             "#bd3786"
            ],
            [
             0.5555555555555556,
             "#d8576b"
            ],
            [
             0.6666666666666666,
             "#ed7953"
            ],
            [
             0.7777777777777778,
             "#fb9f3a"
            ],
            [
             0.8888888888888888,
             "#fdca26"
            ],
            [
             1,
             "#f0f921"
            ]
           ],
           "sequentialminus": [
            [
             0,
             "#0d0887"
            ],
            [
             0.1111111111111111,
             "#46039f"
            ],
            [
             0.2222222222222222,
             "#7201a8"
            ],
            [
             0.3333333333333333,
             "#9c179e"
            ],
            [
             0.4444444444444444,
             "#bd3786"
            ],
            [
             0.5555555555555556,
             "#d8576b"
            ],
            [
             0.6666666666666666,
             "#ed7953"
            ],
            [
             0.7777777777777778,
             "#fb9f3a"
            ],
            [
             0.8888888888888888,
             "#fdca26"
            ],
            [
             1,
             "#f0f921"
            ]
           ]
          },
          "colorway": [
           "#636efa",
           "#EF553B",
           "#00cc96",
           "#ab63fa",
           "#FFA15A",
           "#19d3f3",
           "#FF6692",
           "#B6E880",
           "#FF97FF",
           "#FECB52"
          ],
          "font": {
           "color": "#2a3f5f"
          },
          "geo": {
           "bgcolor": "white",
           "lakecolor": "white",
           "landcolor": "#E5ECF6",
           "showlakes": true,
           "showland": true,
           "subunitcolor": "white"
          },
          "hoverlabel": {
           "align": "left"
          },
          "hovermode": "closest",
          "mapbox": {
           "style": "light"
          },
          "paper_bgcolor": "white",
          "plot_bgcolor": "#E5ECF6",
          "polar": {
           "angularaxis": {
            "gridcolor": "white",
            "linecolor": "white",
            "ticks": ""
           },
           "bgcolor": "#E5ECF6",
           "radialaxis": {
            "gridcolor": "white",
            "linecolor": "white",
            "ticks": ""
           }
          },
          "scene": {
           "xaxis": {
            "backgroundcolor": "#E5ECF6",
            "gridcolor": "white",
            "gridwidth": 2,
            "linecolor": "white",
            "showbackground": true,
            "ticks": "",
            "zerolinecolor": "white"
           },
           "yaxis": {
            "backgroundcolor": "#E5ECF6",
            "gridcolor": "white",
            "gridwidth": 2,
            "linecolor": "white",
            "showbackground": true,
            "ticks": "",
            "zerolinecolor": "white"
           },
           "zaxis": {
            "backgroundcolor": "#E5ECF6",
            "gridcolor": "white",
            "gridwidth": 2,
            "linecolor": "white",
            "showbackground": true,
            "ticks": "",
            "zerolinecolor": "white"
           }
          },
          "shapedefaults": {
           "line": {
            "color": "#2a3f5f"
           }
          },
          "ternary": {
           "aaxis": {
            "gridcolor": "white",
            "linecolor": "white",
            "ticks": ""
           },
           "baxis": {
            "gridcolor": "white",
            "linecolor": "white",
            "ticks": ""
           },
           "bgcolor": "#E5ECF6",
           "caxis": {
            "gridcolor": "white",
            "linecolor": "white",
            "ticks": ""
           }
          },
          "title": {
           "x": 0.05
          },
          "xaxis": {
           "automargin": true,
           "gridcolor": "white",
           "linecolor": "white",
           "ticks": "",
           "title": {
            "standoff": 15
           },
           "zerolinecolor": "white",
           "zerolinewidth": 2
          },
          "yaxis": {
           "automargin": true,
           "gridcolor": "white",
           "linecolor": "white",
           "ticks": "",
           "title": {
            "standoff": 15
           },
           "zerolinecolor": "white",
           "zerolinewidth": 2
          }
         }
        },
        "title": {
         "text": "Distribution for S = (3,0) and N = 1"
        },
        "xaxis": {
         "range": [
          -9.999734386011127,
          -4.377015159901131
         ],
         "title": {
          "text": "G/R"
         },
         "type": "linear"
        },
        "yaxis": {
         "autorange": true,
         "range": [
          -0.1320320531698062,
          2.508609010226318
         ],
         "title": {
          "text": "Count"
         },
         "type": "log"
        }
       }
      },
      "image/png": "[encoded data removed]",
      "text/html": [
       "<div>                            <div id=\"2464830f-2295-4f4a-8e60-902006771c05\" class=\"plotly-graph-div\" style=\"height:525px; width:100%;\"></div>            <script type=\"text/javascript\">                require([\"plotly\"], function(Plotly) {                    window.PLOTLYENV=window.PLOTLYENV || {};                                    if (document.getElementById(\"2464830f-2295-4f4a-8e60-902006771c05\")) {                    Plotly.newPlot(                        \"2464830f-2295-4f4a-8e60-902006771c05\",                        [{\"name\":\"MC\",\"opacity\":0.75,\"type\":\"histogram\",\"x\":[-9.999734386011127,-9.999734386011127,-9.999734386011127,-9.999450220461421,-9.999734386011127,-9.999734386011127,-9.868302332991819,-8.91675200759803,-9.799271960054593,-9.998850547560354,-9.424317603669905,-9.8536692588798,-9.999734386011127,-9.999734386011127,-9.999734386011127,-9.868302332991819,-9.999734386011127,-9.999734386011127,-9.999734386011127,-9.997033062338506,-9.993796870392645,-9.122569126154405,-9.998965492804318,-9.999734386011127,-9.999734386011127,-9.999734386011127,-9.999734386011127,-9.999734386011127,-9.122569126154405,-9.580327533075362,-9.999734386011127,-9.999734386011127,-9.999734386011127,-9.999734386011127,-9.999734386011127,-9.999734386011127,-9.999734386011127,-9.999734386011127,-9.999734386011127,-9.999734386011127,-9.990545450987113,-7.961677792262976,-9.999734386011127,-9.999734386011127,-9.999675360680266,-9.999734386011127,-9.999734386011127,-9.99759678049419,-9.999734386011127,-9.999734386011127,-8.348959011733012,-9.999734386011127,-9.999734386011127,-9.989494945541237,-9.913593160675934,-9.999450220461421,-9.948977625447533,-9.999734386011127,-9.999734386011127,-9.819344764049134,-9.999734386011127,-9.999734386011127,-9.999734386011127,-9.99441718335338,-9.819344764049134,-9.999734386011127,-9.975596156420918,-9.999734386011127,-9.999734386011127,-9.999734386011127,-9.776968844505104,-9.991490905888403,-9.776968844505104,-9.999734386011127,-9.999734386011127,-9.694058771611939,-9.999734386011127,-8.91675200759803,-9.997033062338506,-9.999734386011127,-9.999734386011127,-9.999734386011127,-9.95407986290278,-9.999734386011127,-9.481885843302916,-9.958671876612502,-9.999734386011127,-9.999734386011127,-9.999734386011127,-9.999734386011127,-9.999734386011127,-9.999734386011127,-9.999734386011127,-9.999734386011127,-9.999734386011127,-9.999734386011127,-9.999734386011127,-9.999734386011127,-9.922233844608341,-9.999734386011127,-9.999734386011127,-9.999734386011127,-9.580327533075362,-9.999734386011127,-9.622294779767826,-9.999734386011127,-9.999734386011127,-9.972884618245464,-9.999734386011127,-9.999734386011127,-9.999734386011127,-9.999734386011127,-9.999734386011127,-9.999734386011127,-9.999734386011127,-9.999734386011127,-9.997033062338506,-9.999321259828914,-9.999734386011127,-9.998722830622615,-9.122569126154405,-9.980232886700945,-9.999734386011127,-9.999734386011127,-9.999734386011127,-9.724652894450745,-9.999734386011127,-9.837410287644222,-9.999734386011127,-9.999734386011127,-9.999734386011127,-9.999734386011127,-9.999734386011127,-9.999734386011127,-9.999734386011127,-9.999734386011127,-9.999321259828914,-9.975596156420918,-9.998850547560354,-9.999734386011127,-9.98832771726804,-9.958671876612502,-9.999734386011127,-9.998580922914016,-9.999734386011127,-9.819344764049134,-9.999734386011127,-9.999734386011127,-9.98832771726804,-9.995930126664616,-9.993107633769606,-9.999734386011127,-9.999734386011127,-9.997837102444771,-9.999734386011127,-9.999734386011127,-9.999734386011127,-9.998053392200294,-9.752187605005672,-9.913593160675934,-9.99963928964474,-9.99547791851624,-9.978036540778827,-9.999675360680266,-9.922233844608341,-9.999734386011127,-9.999734386011127,-9.999734386011127,-9.694058771611939,-9.999734386011127,-9.999068943523886,-7.961677792262976,-9.991490905888403,-9.999734386011127,-9.999734386011127,-9.999734386011127,-8.348959011733012,-9.999734386011127,-9.98832771726804,-9.999734386011127,-9.999450220461421,-9.694058771611939,-9.998850547560354,-9.999734386011127,-8.91675200759803,-9.999245844254348,-9.999734386011127,-9.999734386011127,-9.999734386011127,-9.913593160675934,-9.837410287644222,-9.983988638227766,-9.99759678049419,-9.999734386011127,-9.999734386011127,-9.943308472719481,-9.999734386011127,-9.999734386011127,-9.837410287644222,-9.999734386011127,-9.622294779767826,-9.999734386011127,-9.837410287644222,-9.999734386011127,-9.999734386011127,-9.999734386011127,-8.165510013036679,-9.999734386011127,-9.999734386011127,-9.122569126154405,-9.893324889723374,-9.999734386011127,-9.799271960054593,-9.999734386011127,-9.999734386011127,-9.999734386011127,-9.999734386011127,-9.913593160675934,-9.958671876612502,-9.998850547560354,-8.348959011733012,-9.990545450987113,-9.999734386011127,-9.996337113998155,-9.999734386011127,-9.999734386011127,-9.999734386011127,-9.999734386011127,-9.999734386011127,-9.999734386011127,-9.975596156420918,-9.999734386011127,-9.999734386011127,-9.122569126154405,-9.999734386011127,-9.999734386011127,-9.999734386011127,-9.694058771611939,-9.975596156420918,-9.999734386011127,-9.999734386011127,-9.999734386011127,-9.999734386011127,-9.999734386011127,-9.999734386011127,-9.999734386011127,-9.580327533075362,-9.995930126664616,-9.999734386011127,-9.998850547560354,-9.999734386011127,-9.999675360680266,-9.999734386011127,-9.999734386011127,-9.999734386011127,-9.999734386011127,-9.999734386011127,-9.999734386011127,-9.998053392200294,-9.999734386011127,-9.999734386011127,-9.999734386011127,-9.996337113998155,-9.98832771726804,-9.999734386011127,-9.999734386011127,-9.999734386011127,-9.999734386011127,-9.962804688951252,-9.999734386011127,-9.999734386011127,-9.999734386011127,-8.91675200759803,-9.999734386011127,-9.881472099692637,-9.799271960054593,-9.694058771611939,-9.837410287644222,-9.999734386011127,-9.98703079696449,-9.999734386011127,-9.943308472719481,-9.025076806838227,-9.991490905888403,-9.989494945541237,-8.348959011733012,-9.999734386011127,-9.999734386011127,-9.994975465018044,-9.999734386011127,-9.999734386011127,-9.930010460147507,-9.903992400751036,-9.799271960054593,-9.999734386011127,-9.999734386011127,-9.999734386011127,-9.999734386011127,-8.66265679950374,-9.993796870392645]},{\"name\":\"TD(0)\",\"opacity\":0.75,\"type\":\"histogram\",\"x\":[-4.377015159901131,-4.377015159901131,-4.377015159901131,-4.377015159901131,-4.377015159901131,-4.377015159901131,-4.377015159901131,-4.377015159901131,-4.377015159901131,-4.377015159901131,-4.377015159901131,-4.377015159901131,-4.377015159901131,-4.377015159901131,-4.377015159901131,-4.377015159901131,-4.377015159901131,-4.638382179284132,-4.377015159901131,-4.377015159901131,-4.377015159901131,-4.377015159901131,-4.377015159901131,-4.377015159901131,-4.377015159901131,-4.377015159901131,-4.377015159901131,-4.377015159901131,-4.377015159901131,-4.377015159901131,-4.377015159901131,-4.377015159901131,-4.377015159901131,-4.377015159901131,-4.377015159901131,-4.377015159901131,-4.377015159901131,-4.377015159901131,-4.377015159901131,-4.377015159901131,-4.377015159901131,-4.377015159901131,-4.377015159901131,-4.377015159901131,-4.377015159901131,-4.377015159901131,-4.377015159901131,-4.377015159901131,-4.377015159901131,-4.377015159901131,-4.377015159901131,-4.377015159901131,-4.377015159901131,-4.377015159901131,-4.377015159901131,-4.377015159901131,-4.377015159901131,-4.377015159901131,-4.377015159901131,-4.377015159901131,-4.377015159901131,-4.377015159901131,-4.377015159901131,-4.377015159901131,-4.377015159901131,-4.377015159901131,-4.377015159901131,-4.377015159901131,-4.377015159901131,-4.377015159901131,-4.377015159901131,-4.377015159901131,-4.377015159901131,-4.638382179284132,-4.377015159901131,-4.598624271598771,-4.377015159901131,-4.377015159901131,-4.377015159901131,-4.377015159901131,-4.377015159901131,-4.598624271598771,-4.377015159901131,-4.377015159901131,-4.377015159901131,-4.377015159901131,-4.377015159901131,-4.377015159901131,-4.377015159901131,-4.377015159901131,-4.377015159901131,-4.377015159901131,-4.377015159901131,-4.377015159901131,-4.377015159901131,-4.377015159901131,-4.598624271598771,-4.377015159901131,-4.377015159901131,-4.377015159901131]},{\"name\":\"N-step 4\",\"opacity\":0.75,\"type\":\"histogram\",\"x\":[-5.611620269291991,-5.729838361865001,-5.611620269291991,-5.611620269291991,-5.611620269291991,-5.611620269291991,-5.611620269291991,-5.611620269291991,-5.611620269291991,-5.611620269291991,-5.729838361865001,-5.611620269291991,-5.611620269291991,-5.611620269291991,-5.611620269291991,-5.611620269291991,-5.674918329138509,-5.611620269291991,-5.611620269291991,-5.611620269291991,-5.611620269291991,-5.611620269291991,-5.611620269291991,-5.736060427815659,-5.783243146892959,-5.611620269291991,-5.611620269291991,-5.199884670219199,-5.611620269291991,-5.611620269291991,-5.611620269291991,-5.611620269291991,-5.611620269291991,-5.611620269291991,-5.611620269291991,-5.611620269291991,-5.729838361865001,-5.611620269291991,-5.611620269291991,-5.611620269291991,-5.611620269291991,-5.611620269291991,-5.674918329138509,-5.611620269291991,-5.9677187478852485,-5.611620269291991,-5.611620269291991,-5.611620269291991,-5.729838361865001,-5.611620269291991,-5.611620269291991,-5.611620269291991,-5.783243146892959,-5.729838361865001,-5.611620269291991,-5.611620269291991,-5.611620269291991,-5.611620269291991,-5.611620269291991,-5.611620269291991,-5.611620269291991,-5.611620269291991,-5.611620269291991,-5.611620269291991,-5.611620269291991,-5.611620269291991,-5.611620269291991,-5.611620269291991,-5.611620269291991,-5.611620269291991,-5.611620269291991,-5.611620269291991,-5.611620269291991,-5.611620269291991,-5.611620269291991,-5.674918329138509,-5.611620269291991,-5.611620269291991,-5.9677187478852485,-5.611620269291991,-5.611620269291991,-5.611620269291991,-5.611620269291991,-5.611620269291991,-5.736060427815659,-5.611620269291991,-5.9677187478852485,-5.611620269291991,-5.611620269291991,-5.729838361865001,-5.611620269291991,-5.611620269291991,-5.611620269291991,-5.611620269291991,-5.611620269291991,-5.611620269291991,-5.611620269291991,-5.783243146892959,-5.611620269291991,-5.729838361865001]}],                        {\"bargap\":0.2,\"bargroupgap\":0.1,\"barmode\":\"overlay\",\"showlegend\":true,\"template\":{\"data\":{\"bar\":[{\"error_x\":{\"color\":\"#2a3f5f\"},\"error_y\":{\"color\":\"#2a3f5f\"},\"marker\":{\"line\":{\"color\":\"#E5ECF6\",\"width\":0.5},\"pattern\":{\"fillmode\":\"overlay\",\"size\":10,\"solidity\":0.2}},\"type\":\"bar\"}],\"barpolar\":[{\"marker\":{\"line\":{\"color\":\"#E5ECF6\",\"width\":0.5},\"pattern\":{\"fillmode\":\"overlay\",\"size\":10,\"solidity\":0.2}},\"type\":\"barpolar\"}],\"carpet\":[{\"aaxis\":{\"endlinecolor\":\"#2a3f5f\",\"gridcolor\":\"white\",\"linecolor\":\"white\",\"minorgridcolor\":\"white\",\"startlinecolor\":\"#2a3f5f\"},\"baxis\":{\"endlinecolor\":\"#2a3f5f\",\"gridcolor\":\"white\",\"linecolor\":\"white\",\"minorgridcolor\":\"white\",\"startlinecolor\":\"#2a3f5f\"},\"type\":\"carpet\"}],\"choropleth\":[{\"colorbar\":{\"outlinewidth\":0,\"ticks\":\"\"},\"type\":\"choropleth\"}],\"contour\":[{\"colorbar\":{\"outlinewidth\":0,\"ticks\":\"\"},\"colorscale\":[[0.0,\"#0d0887\"],[0.1111111111111111,\"#46039f\"],[0.2222222222222222,\"#7201a8\"],[0.3333333333333333,\"#9c179e\"],[0.4444444444444444,\"#bd3786\"],[0.5555555555555556,\"#d8576b\"],[0.6666666666666666,\"#ed7953\"],[0.7777777777777778,\"#fb9f3a\"],[0.8888888888888888,\"#fdca26\"],[1.0,\"#f0f921\"]],\"type\":\"contour\"}],\"contourcarpet\":[{\"colorbar\":{\"outlinewidth\":0,\"ticks\":\"\"},\"type\":\"contourcarpet\"}],\"heatmap\":[{\"colorbar\":{\"outlinewidth\":0,\"ticks\":\"\"},\"colorscale\":[[0.0,\"#0d0887\"],[0.1111111111111111,\"#46039f\"],[0.2222222222222222,\"#7201a8\"],[0.3333333333333333,\"#9c179e\"],[0.4444444444444444,\"#bd3786\"],[0.5555555555555556,\"#d8576b\"],[0.6666666666666666,\"#ed7953\"],[0.7777777777777778,\"#fb9f3a\"],[0.8888888888888888,\"#fdca26\"],[1.0,\"#f0f921\"]],\"type\":\"heatmap\"}],\"heatmapgl\":[{\"colorbar\":{\"outlinewidth\":0,\"ticks\":\"\"},\"colorscale\":[[0.0,\"#0d0887\"],[0.1111111111111111,\"#46039f\"],[0.2222222222222222,\"#7201a8\"],[0.3333333333333333,\"#9c179e\"],[0.4444444444444444,\"#bd3786\"],[0.5555555555555556,\"#d8576b\"],[0.6666666666666666,\"#ed7953\"],[0.7777777777777778,\"#fb9f3a\"],[0.8888888888888888,\"#fdca26\"],[1.0,\"#f0f921\"]],\"type\":\"heatmapgl\"}],\"histogram\":[{\"marker\":{\"pattern\":{\"fillmode\":\"overlay\",\"size\":10,\"solidity\":0.2}},\"type\":\"histogram\"}],\"histogram2d\":[{\"colorbar\":{\"outlinewidth\":0,\"ticks\":\"\"},\"colorscale\":[[0.0,\"#0d0887\"],[0.1111111111111111,\"#46039f\"],[0.2222222222222222,\"#7201a8\"],[0.3333333333333333,\"#9c179e\"],[0.4444444444444444,\"#bd3786\"],[0.5555555555555556,\"#d8576b\"],[0.6666666666666666,\"#ed7953\"],[0.7777777777777778,\"#fb9f3a\"],[0.8888888888888888,\"#fdca26\"],[1.0,\"#f0f921\"]],\"type\":\"histogram2d\"}],\"histogram2dcontour\":[{\"colorbar\":{\"outlinewidth\":0,\"ticks\":\"\"},\"colorscale\":[[0.0,\"#0d0887\"],[0.1111111111111111,\"#46039f\"],[0.2222222222222222,\"#7201a8\"],[0.3333333333333333,\"#9c179e\"],[0.4444444444444444,\"#bd3786\"],[0.5555555555555556,\"#d8576b\"],[0.6666666666666666,\"#ed7953\"],[0.7777777777777778,\"#fb9f3a\"],[0.8888888888888888,\"#fdca26\"],[1.0,\"#f0f921\"]],\"type\":\"histogram2dcontour\"}],\"mesh3d\":[{\"colorbar\":{\"outlinewidth\":0,\"ticks\":\"\"},\"type\":\"mesh3d\"}],\"parcoords\":[{\"line\":{\"colorbar\":{\"outlinewidth\":0,\"ticks\":\"\"}},\"type\":\"parcoords\"}],\"pie\":[{\"automargin\":true,\"type\":\"pie\"}],\"scatter\":[{\"marker\":{\"colorbar\":{\"outlinewidth\":0,\"ticks\":\"\"}},\"type\":\"scatter\"}],\"scatter3d\":[{\"line\":{\"colorbar\":{\"outlinewidth\":0,\"ticks\":\"\"}},\"marker\":{\"colorbar\":{\"outlinewidth\":0,\"ticks\":\"\"}},\"type\":\"scatter3d\"}],\"scattercarpet\":[{\"marker\":{\"colorbar\":{\"outlinewidth\":0,\"ticks\":\"\"}},\"type\":\"scattercarpet\"}],\"scattergeo\":[{\"marker\":{\"colorbar\":{\"outlinewidth\":0,\"ticks\":\"\"}},\"type\":\"scattergeo\"}],\"scattergl\":[{\"marker\":{\"colorbar\":{\"outlinewidth\":0,\"ticks\":\"\"}},\"type\":\"scattergl\"}],\"scattermapbox\":[{\"marker\":{\"colorbar\":{\"outlinewidth\":0,\"ticks\":\"\"}},\"type\":\"scattermapbox\"}],\"scatterpolar\":[{\"marker\":{\"colorbar\":{\"outlinewidth\":0,\"ticks\":\"\"}},\"type\":\"scatterpolar\"}],\"scatterpolargl\":[{\"marker\":{\"colorbar\":{\"outlinewidth\":0,\"ticks\":\"\"}},\"type\":\"scatterpolargl\"}],\"scatterternary\":[{\"marker\":{\"colorbar\":{\"outlinewidth\":0,\"ticks\":\"\"}},\"type\":\"scatterternary\"}],\"surface\":[{\"colorbar\":{\"outlinewidth\":0,\"ticks\":\"\"},\"colorscale\":[[0.0,\"#0d0887\"],[0.1111111111111111,\"#46039f\"],[0.2222222222222222,\"#7201a8\"],[0.3333333333333333,\"#9c179e\"],[0.4444444444444444,\"#bd3786\"],[0.5555555555555556,\"#d8576b\"],[0.6666666666666666,\"#ed7953\"],[0.7777777777777778,\"#fb9f3a\"],[0.8888888888888888,\"#fdca26\"],[1.0,\"#f0f921\"]],\"type\":\"surface\"}],\"table\":[{\"cells\":{\"fill\":{\"color\":\"#EBF0F8\"},\"line\":{\"color\":\"white\"}},\"header\":{\"fill\":{\"color\":\"#C8D4E3\"},\"line\":{\"color\":\"white\"}},\"type\":\"table\"}]},\"layout\":{\"annotationdefaults\":{\"arrowcolor\":\"#2a3f5f\",\"arrowhead\":0,\"arrowwidth\":1},\"autotypenumbers\":\"strict\",\"coloraxis\":{\"colorbar\":{\"outlinewidth\":0,\"ticks\":\"\"}},\"colorscale\":{\"diverging\":[[0,\"#8e0152\"],[0.1,\"#c51b7d\"],[0.2,\"#de77ae\"],[0.3,\"#f1b6da\"],[0.4,\"#fde0ef\"],[0.5,\"#f7f7f7\"],[0.6,\"#e6f5d0\"],[0.7,\"#b8e186\"],[0.8,\"#7fbc41\"],[0.9,\"#4d9221\"],[1,\"#276419\"]],\"sequential\":[[0.0,\"#0d0887\"],[0.1111111111111111,\"#46039f\"],[0.2222222222222222,\"#7201a8\"],[0.3333333333333333,\"#9c179e\"],[0.4444444444444444,\"#bd3786\"],[0.5555555555555556,\"#d8576b\"],[0.6666666666666666,\"#ed7953\"],[0.7777777777777778,\"#fb9f3a\"],[0.8888888888888888,\"#fdca26\"],[1.0,\"#f0f921\"]],\"sequentialminus\":[[0.0,\"#0d0887\"],[0.1111111111111111,\"#46039f\"],[0.2222222222222222,\"#7201a8\"],[0.3333333333333333,\"#9c179e\"],[0.4444444444444444,\"#bd3786\"],[0.5555555555555556,\"#d8576b\"],[0.6666666666666666,\"#ed7953\"],[0.7777777777777778,\"#fb9f3a\"],[0.8888888888888888,\"#fdca26\"],[1.0,\"#f0f921\"]]},\"colorway\":[\"#636efa\",\"#EF553B\",\"#00cc96\",\"#ab63fa\",\"#FFA15A\",\"#19d3f3\",\"#FF6692\",\"#B6E880\",\"#FF97FF\",\"#FECB52\"],\"font\":{\"color\":\"#2a3f5f\"},\"geo\":{\"bgcolor\":\"white\",\"lakecolor\":\"white\",\"landcolor\":\"#E5ECF6\",\"showlakes\":true,\"showland\":true,\"subunitcolor\":\"white\"},\"hoverlabel\":{\"align\":\"left\"},\"hovermode\":\"closest\",\"mapbox\":{\"style\":\"light\"},\"paper_bgcolor\":\"white\",\"plot_bgcolor\":\"#E5ECF6\",\"polar\":{\"angularaxis\":{\"gridcolor\":\"white\",\"linecolor\":\"white\",\"ticks\":\"\"},\"bgcolor\":\"#E5ECF6\",\"radialaxis\":{\"gridcolor\":\"white\",\"linecolor\":\"white\",\"ticks\":\"\"}},\"scene\":{\"xaxis\":{\"backgroundcolor\":\"#E5ECF6\",\"gridcolor\":\"white\",\"gridwidth\":2,\"linecolor\":\"white\",\"showbackground\":true,\"ticks\":\"\",\"zerolinecolor\":\"white\"},\"yaxis\":{\"backgroundcolor\":\"#E5ECF6\",\"gridcolor\":\"white\",\"gridwidth\":2,\"linecolor\":\"white\",\"showbackground\":true,\"ticks\":\"\",\"zerolinecolor\":\"white\"},\"zaxis\":{\"backgroundcolor\":\"#E5ECF6\",\"gridcolor\":\"white\",\"gridwidth\":2,\"linecolor\":\"white\",\"showbackground\":true,\"ticks\":\"\",\"zerolinecolor\":\"white\"}},\"shapedefaults\":{\"line\":{\"color\":\"#2a3f5f\"}},\"ternary\":{\"aaxis\":{\"gridcolor\":\"white\",\"linecolor\":\"white\",\"ticks\":\"\"},\"baxis\":{\"gridcolor\":\"white\",\"linecolor\":\"white\",\"ticks\":\"\"},\"bgcolor\":\"#E5ECF6\",\"caxis\":{\"gridcolor\":\"white\",\"linecolor\":\"white\",\"ticks\":\"\"}},\"title\":{\"x\":0.05},\"xaxis\":{\"automargin\":true,\"gridcolor\":\"white\",\"linecolor\":\"white\",\"ticks\":\"\",\"title\":{\"standoff\":15},\"zerolinecolor\":\"white\",\"zerolinewidth\":2},\"yaxis\":{\"automargin\":true,\"gridcolor\":\"white\",\"linecolor\":\"white\",\"ticks\":\"\",\"title\":{\"standoff\":15},\"zerolinecolor\":\"white\",\"zerolinewidth\":2}}},\"title\":{\"text\":\"Distribution for S = (3,0) and N = 1\"},\"xaxis\":{\"range\":[-9.999734386011127,-4.377015159901131],\"title\":{\"text\":\"G/R\"}},\"yaxis\":{\"title\":{\"text\":\"Count\"},\"type\":\"log\"}},                        {\"responsive\": true}                    ).then(function(){\n",
       "                            \n",
       "var gd = document.getElementById('2464830f-2295-4f4a-8e60-902006771c05');\n",
       "var x = new MutationObserver(function (mutations, observer) {{\n",
       "        var display = window.getComputedStyle(gd).display;\n",
       "        if (!display || display === 'none') {{\n",
       "            console.log([gd, 'removed!']);\n",
       "            Plotly.purge(gd);\n",
       "            observer.disconnect();\n",
       "        }}\n",
       "}});\n",
       "\n",
       "// Listen for the removal of the full notebook cells\n",
       "var notebookContainer = gd.closest('#notebook-container');\n",
       "if (notebookContainer) {{\n",
       "    x.observe(notebookContainer, {childList: true});\n",
       "}}\n",
       "\n",
       "// Listen for the clearing of the current output cell\n",
       "var outputEl = gd.closest('.output');\n",
       "if (outputEl) {{\n",
       "    x.observe(outputEl, {childList: true});\n",
       "}}\n",
       "\n",
       "                        })                };                });            </script>        </div>"
      ]
     },
     "metadata": {},
     "output_type": "display_data"
    }
   ],
   "source": [
    "agent = Agent()\n",
    "agent.SARSA(N=10)\n",
    "plot_valuemap(agent.q)\n",
    "\n",
    "minimum = +np.Inf\n",
    "maximum = -np.Inf\n",
    "\n",
    "fig = go.Figure()\n",
    "\n",
    "agent.MC()\n",
    "fig.add_trace(go.Histogram(x=agent.S, name='MC'))\n",
    "minimum = min(min(agent.S), minimum)\n",
    "maximum = max(max(agent.S), maximum)\n",
    "agent.empty_s()\n",
    "\n",
    "agent.nstepSARSA(n=1)\n",
    "fig.add_trace(go.Histogram(x=agent.S, name='TD(0)'))\n",
    "minimum = min(min(agent.S), minimum)\n",
    "maximum = max(max(agent.S), maximum)\n",
    "agent.empty_s()\n",
    "\n",
    "agent.nstepSARSA(n=4)\n",
    "fig.add_trace(go.Histogram(x=agent.S, name='N-step 4'))\n",
    "minimum = min(min(agent.S), minimum)\n",
    "maximum = max(max(agent.S), maximum)\n",
    "agent.empty_s()\n",
    "\n",
    "\n",
    "fig.update_layout(\n",
    "    title_text='Distribution for S = (3,0) and N = 1', # title of plot\n",
    "    xaxis_title_text='G/R', # xaxis label\n",
    "    yaxis_title_text='Count', # yaxis label\n",
    "    bargap=0.2, # gap between bars of adjacent location coordinates\n",
    "    bargroupgap=0.1, # gap between bars of the same location coordinates\n",
    "    showlegend=True,\n",
    "    barmode='overlay',\n",
    "    xaxis_range=[minimum,maximum]\n",
    "\n",
    ")\n",
    "\n",
    "# Reduce opacity to see both histograms\n",
    "fig.update_traces(opacity=0.75)\n",
    "fig.update_yaxes(type=\"log\")\n",
    "fig.show()"
   ]
  },
  {
   "cell_type": "code",
   "execution_count": 21,
   "id": "compatible-question",
   "metadata": {},
   "outputs": [
    {
     "data": {
      "image/png": "[encoded data removed]",
      "text/plain": [
       "<Figure size 432x288 with 2 Axes>"
      ]
     },
     "metadata": {
      "needs_background": "light"
     },
     "output_type": "display_data"
    },
    {
     "name": "stdout",
     "output_type": "stream",
     "text": [
      "Monte Carlo\n",
      "TD(0)\n",
      "N-step 4\n"
     ]
    },
    {
     "data": {
      "application/vnd.plotly.v1+json": {
       "config": {
        "plotlyServerURL": "https://plot.ly"
       },
       "data": [
        {
         "name": "MC",
         "opacity": 0.75,
         "type": "histogram",
         "x": [
          -9.752187605005672,
          -9.481885843302916,
          -9.903992400751036,
          -9.99670340259834,
          -9.660065301791043,
          -9.289280992185068,
          -9.122569126154405,
          -9.752187605005672,
          -9.289280992185068,
          -9.99950519841528,
          -9.776968844505104,
          -9.948977625447533,
          -9.776968844505104,
          -9.992341815299563,
          -9.122569126154405,
          -8.796391119553366,
          -9.893324889723374,
          -8.91675200759803,
          -9.724652894450745,
          -9.210312213538964,
          -9.694058771611939,
          -9.289280992185068,
          -9.210312213538964,
          -8.348959011733012,
          -8.66265679950374,
          -9.533697258972625,
          -9.660065301791043,
          -9.694058771611939,
          -8.796391119553366,
          -9.958671876612502,
          -9.533697258972625,
          -9.660065301791043,
          -8.51406311055971,
          -9.580327533075362,
          -8.91675200759803,
          -8.796391119553366,
          -9.922233844608341,
          -9.622294779767826,
          -9.481885843302916,
          -9.999734386011127,
          -8.796391119553366,
          -9.937009414132756,
          -9.360352892966562,
          -9.210312213538964,
          -9.025076806838227,
          -9.881472099692637,
          -8.66265679950374,
          -9.694058771611939,
          -9.210312213538964,
          -9.997837102444771,
          -9.289280992185068,
          -9.98220959803085,
          -9.424317603669905,
          -8.66265679950374,
          -8.91675200759803,
          -8.66265679950374,
          -9.999734386011127,
          -8.51406311055971,
          -9.999599210716378,
          -9.289280992185068,
          -9.819344764049134,
          -9.799271960054593,
          -9.660065301791043,
          -8.91675200759803,
          -9.622294779767826,
          -9.8536692588798,
          -9.8536692588798,
          -9.533697258972625,
          -9.996337113998155,
          -9.999734386011127,
          -8.66265679950374,
          -9.999734386011127,
          -9.903992400751036,
          -9.622294779767826,
          -8.66265679950374,
          -9.580327533075362,
          -9.025076806838227,
          -8.348959011733012,
          -9.819344764049134,
          -9.025076806838227,
          -8.66265679950374,
          -9.424317603669905,
          -9.025076806838227,
          -9.580327533075362,
          -9.481885843302916,
          -8.91675200759803,
          -8.66265679950374,
          -9.360352892966562,
          -8.796391119553366,
          -9.660065301791043,
          -9.881472099692637,
          -9.999162049171497,
          -9.025076806838227,
          -9.881472099692637,
          -9.98703079696449,
          -9.424317603669905,
          -8.796391119553366,
          -9.210312213538964,
          -8.66265679950374,
          -8.348959011733012,
          -9.580327533075362,
          -9.424317603669905,
          -9.424317603669905,
          -9.985589774404989,
          -9.903992400751036,
          -9.660065301791043,
          -9.776968844505104,
          -9.424317603669905,
          -9.799271960054593,
          -9.289280992185068,
          -8.51406311055971,
          -9.837410287644222,
          -9.799271960054593,
          -9.122569126154405,
          -9.997033062338506,
          -9.937009414132756,
          -9.122569126154405,
          -9.799271960054593,
          -9.210312213538964,
          -9.424317603669905,
          -9.122569126154405,
          -9.922233844608341,
          -9.998850547560354,
          -9.533697258972625,
          -9.481885843302916,
          -9.622294779767826,
          -9.025076806838227,
          -9.122569126154405,
          -8.796391119553366,
          -9.930010460147507,
          -9.580327533075362,
          -9.837410287644222,
          -8.796391119553366,
          -9.210312213538964,
          -9.999734386011127,
          -9.881472099692637,
          -9.533697258972625,
          -9.533697258972625,
          -9.913593160675934,
          -9.210312213538964,
          -9.752187605005672,
          -9.937009414132756,
          -9.752187605005672,
          -9.913593160675934,
          -9.622294779767826,
          -9.99950519841528,
          -9.289280992185068,
          -9.424317603669905,
          -9.903992400751036,
          -9.819344764049134,
          -9.837410287644222,
          -9.481885843302916,
          -8.796391119553366,
          -8.51406311055971,
          -9.991490905888403,
          -9.424317603669905,
          -9.999734386011127,
          -9.776968844505104,
          -9.481885843302916,
          -9.533697258972625,
          -9.289280992185068,
          -9.99670340259834,
          -9.837410287644222,
          -9.752187605005672,
          -9.424317603669905,
          -9.122569126154405,
          -9.776968844505104,
          -8.51406311055971,
          -9.210312213538964,
          -9.95407986290278,
          -9.481885843302916,
          -9.580327533075362,
          -9.210312213538964,
          -9.930010460147507,
          -9.99441718335338,
          -9.893324889723374,
          -9.837410287644222,
          -8.66265679950374,
          -9.580327533075362,
          -9.122569126154405,
          -9.025076806838227,
          -9.881472099692637,
          -9.660065301791043,
          -8.348959011733012,
          -9.622294779767826,
          -9.752187605005672,
          -9.694058771611939,
          -9.837410287644222,
          -9.424317603669905,
          -9.893324889723374,
          -9.999245844254348,
          -9.424317603669905,
          -9.930010460147507,
          -9.622294779767826,
          -9.122569126154405,
          -9.122569126154405,
          -9.289280992185068,
          -9.580327533075362,
          -9.999734386011127,
          -9.025076806838227,
          -9.122569126154405,
          -9.999734386011127,
          -9.903992400751036,
          -9.999245844254348,
          -9.922233844608341,
          -9.98220959803085,
          -8.66265679950374,
          -9.837410287644222,
          -9.881472099692637,
          -9.025076806838227,
          -8.91675200759803,
          -9.289280992185068,
          -8.66265679950374,
          -9.580327533075362,
          -9.694058771611939,
          -9.999734386011127,
          -9.210312213538964,
          -9.289280992185068,
          -9.881472099692637,
          -9.533697258972625,
          -9.533697258972625,
          -9.881472099692637,
          -9.122569126154405,
          -9.999734386011127,
          -9.622294779767826,
          -9.210312213538964,
          -9.999734386011127,
          -8.91675200759803,
          -9.922233844608341,
          -9.837410287644222,
          -9.999734386011127,
          -9.210312213538964,
          -9.962804688951252,
          -8.51406311055971,
          -9.210312213538964,
          -8.66265679950374,
          -8.91675200759803,
          -9.122569126154405,
          -9.122569126154405,
          -9.999734386011127,
          -9.660065301791043,
          -9.533697258972625,
          -9.868302332991819,
          -9.694058771611939,
          -9.903992400751036,
          -9.966524220056128,
          -9.930010460147507,
          -9.966524220056128,
          -9.622294779767826,
          -8.796391119553366,
          -9.868302332991819,
          -8.66265679950374,
          -9.660065301791043,
          -9.289280992185068,
          -9.752187605005672,
          -9.752187605005672,
          -9.622294779767826,
          -9.580327533075362,
          -9.983988638227766,
          -8.66265679950374,
          -9.724652894450745,
          -9.481885843302916,
          -9.868302332991819,
          -9.533697258972625,
          -9.481885843302916,
          -9.99670340259834,
          -9.580327533075362,
          -9.999675360680266,
          -9.622294779767826,
          -8.348959011733012,
          -9.95407986290278,
          -9.799271960054593,
          -9.424317603669905,
          -9.481885843302916,
          -9.660065301791043,
          -9.724652894450745,
          -8.796391119553366,
          -8.51406311055971,
          -9.025076806838227,
          -8.796391119553366,
          -9.999599210716378,
          -9.937009414132756,
          -9.903992400751036,
          -9.360352892966562,
          -9.481885843302916,
          -9.958671876612502,
          -9.210312213538964,
          -9.819344764049134,
          -9.533697258972625,
          -9.660065301791043,
          -9.989494945541237,
          -9.424317603669905,
          -9.424317603669905,
          -8.348959011733012,
          -9.360352892966562,
          -9.694058771611939,
          -9.98220959803085,
          -9.122569126154405,
          -9.580327533075362,
          -9.990545450987113
         ]
        },
        {
         "name": "TD(0)",
         "opacity": 0.75,
         "type": "histogram",
         "x": [
          -6.459441338997866,
          -6.459441338997866,
          -6.459441338997866,
          -6.459441338997866,
          -6.571315198077052,
          -6.459441338997866,
          -6.459441338997866,
          -6.459441338997866,
          -6.459441338997866,
          -6.459441338997866,
          -6.459441338997866,
          -6.459441338997866,
          -6.459441338997866,
          -6.459441338997866,
          -6.459441338997866,
          -6.459441338997866,
          -6.459441338997866,
          -6.459441338997866,
          -6.459441338997866,
          -6.459441338997866,
          -6.459441338997866,
          -6.459441338997866,
          -6.459441338997866,
          -6.459441338997866,
          -6.459441338997866,
          -6.459441338997866,
          -6.459441338997866,
          -6.459441338997866,
          -6.459441338997866,
          -6.539887681181928,
          -6.459441338997866,
          -6.459441338997866,
          -6.571315198077052,
          -6.459441338997866,
          -6.459441338997866,
          -6.459441338997866,
          -6.459441338997866,
          -6.459441338997866,
          -6.459441338997866,
          -6.459441338997866,
          -6.459441338997866,
          -6.459441338997866,
          -6.459441338997866,
          -6.459441338997866,
          -6.459441338997866,
          -6.459441338997866,
          -6.459441338997866,
          -6.459441338997866,
          -6.459441338997866,
          -6.459441338997866,
          -6.459441338997866,
          -6.459441338997866,
          -6.459441338997866,
          -6.459441338997866,
          -6.459441338997866,
          -6.459441338997866,
          -6.459441338997866,
          -6.539887681181928,
          -6.459441338997866,
          -6.459441338997866,
          -6.459441338997866,
          -6.459441338997866,
          -6.459441338997866,
          -6.459441338997866,
          -6.459441338997866,
          -6.459441338997866,
          -6.459441338997866,
          -6.459441338997866,
          -6.459441338997866,
          -6.459441338997866,
          -6.459441338997866,
          -6.459441338997866,
          -6.459441338997866,
          -6.459441338997866,
          -6.459441338997866,
          -6.459441338997866,
          -6.459441338997866,
          -6.459441338997866,
          -6.459441338997866,
          -6.459441338997866,
          -6.459441338997866,
          -6.459441338997866,
          -6.459441338997866,
          -6.459441338997866,
          -6.459441338997866,
          -6.459441338997866,
          -6.459441338997866,
          -6.459441338997866,
          -6.459441338997866,
          -6.459441338997866,
          -6.459441338997866,
          -6.459441338997866,
          -6.459441338997866,
          -6.459441338997866,
          -6.459441338997866,
          -6.459441338997866,
          -6.459441338997866,
          -6.459441338997866,
          -6.459441338997866,
          -6.459441338997866
         ]
        },
        {
         "name": "N-step 4",
         "opacity": 0.75,
         "type": "histogram",
         "x": [
          -6.96443929575279,
          -6.96443929575279,
          -7.031392178635526,
          -6.96443929575279,
          -7.268254252944785,
          -6.96443929575279,
          -6.971024357768928,
          -6.96443929575279,
          -6.96443929575279,
          -7.263515296444793,
          -6.96443929575279,
          -6.96443929575279,
          -7.2452543476378155,
          -7.2452543476378155,
          -6.96443929575279,
          -6.96443929575279,
          -6.96443929575279,
          -6.96443929575279,
          -6.96443929575279,
          -6.96443929575279,
          -6.96443929575279,
          -6.96443929575279,
          -7.2452543476378155,
          -6.8268641034943975,
          -6.96443929575279,
          -6.96443929575279,
          -6.971024357768928,
          -6.971024357768928,
          -6.96443929575279,
          -6.96443929575279,
          -6.96443929575279,
          -6.96443929575279,
          -6.96443929575279,
          -6.96443929575279,
          -7.2452543476378155,
          -6.96443929575279,
          -6.96443929575279,
          -6.96443929575279,
          -6.96443929575279,
          -6.96443929575279,
          -6.96443929575279,
          -6.96443929575279,
          -7.2452543476378155,
          -6.96443929575279,
          -6.96443929575279,
          -6.96443929575279,
          -6.96443929575279,
          -6.96443929575279,
          -6.96443929575279,
          -6.96443929575279,
          -6.96443929575279,
          -6.96443929575279,
          -6.96443929575279,
          -7.2452543476378155,
          -6.8268641034943975,
          -7.2452543476378155,
          -6.96443929575279,
          -6.96443929575279,
          -6.96443929575279,
          -6.96443929575279,
          -7.2452543476378155,
          -6.96443929575279,
          -6.96443929575279,
          -6.96443929575279,
          -6.96443929575279,
          -6.96443929575279,
          -6.96443929575279,
          -6.96443929575279,
          -7.031392178635526,
          -6.96443929575279,
          -7.2452543476378155,
          -7.4073838360903315,
          -6.96443929575279,
          -6.96443929575279,
          -6.96443929575279,
          -6.96443929575279,
          -6.96443929575279,
          -6.96443929575279,
          -6.96443929575279,
          -7.093654199261881,
          -6.96443929575279,
          -7.031392178635526,
          -6.96443929575279,
          -6.96443929575279,
          -7.031392178635526,
          -6.96443929575279,
          -6.96443929575279,
          -6.96443929575279,
          -7.401547037069004,
          -6.96443929575279,
          -6.96443929575279,
          -6.96443929575279,
          -6.96443929575279,
          -6.96443929575279,
          -6.96443929575279,
          -6.96443929575279,
          -6.96443929575279,
          -6.971024357768928,
          -6.8268641034943975,
          -6.96443929575279
         ]
        }
       ],
       "layout": {
        "autosize": true,
        "bargap": 0.2,
        "bargroupgap": 0.1,
        "barmode": "overlay",
        "showlegend": true,
        "template": {
         "data": {
          "bar": [
           {
            "error_x": {
             "color": "#2a3f5f"
            },
            "error_y": {
             "color": "#2a3f5f"
            },
            "marker": {
             "line": {
              "color": "#E5ECF6",
              "width": 0.5
             },
             "pattern": {
              "fillmode": "overlay",
              "size": 10,
              "solidity": 0.2
             }
            },
            "type": "bar"
           }
          ],
          "barpolar": [
           {
            "marker": {
             "line": {
              "color": "#E5ECF6",
              "width": 0.5
             },
             "pattern": {
              "fillmode": "overlay",
              "size": 10,
              "solidity": 0.2
             }
            },
            "type": "barpolar"
           }
          ],
          "carpet": [
           {
            "aaxis": {
             "endlinecolor": "#2a3f5f",
             "gridcolor": "white",
             "linecolor": "white",
             "minorgridcolor": "white",
             "startlinecolor": "#2a3f5f"
            },
            "baxis": {
             "endlinecolor": "#2a3f5f",
             "gridcolor": "white",
             "linecolor": "white",
             "minorgridcolor": "white",
             "startlinecolor": "#2a3f5f"
            },
            "type": "carpet"
           }
          ],
          "choropleth": [
           {
            "colorbar": {
             "outlinewidth": 0,
             "ticks": ""
            },
            "type": "choropleth"
           }
          ],
          "contour": [
           {
            "colorbar": {
             "outlinewidth": 0,
             "ticks": ""
            },
            "colorscale": [
             [
              0,
              "#0d0887"
             ],
             [
              0.1111111111111111,
              "#46039f"
             ],
             [
              0.2222222222222222,
              "#7201a8"
             ],
             [
              0.3333333333333333,
              "#9c179e"
             ],
             [
              0.4444444444444444,
              "#bd3786"
             ],
             [
              0.5555555555555556,
              "#d8576b"
             ],
             [
              0.6666666666666666,
              "#ed7953"
             ],
             [
              0.7777777777777778,
              "#fb9f3a"
             ],
             [
              0.8888888888888888,
              "#fdca26"
             ],
             [
              1,
              "#f0f921"
             ]
            ],
            "type": "contour"
           }
          ],
          "contourcarpet": [
           {
            "colorbar": {
             "outlinewidth": 0,
             "ticks": ""
            },
            "type": "contourcarpet"
           }
          ],
          "heatmap": [
           {
            "colorbar": {
             "outlinewidth": 0,
             "ticks": ""
            },
            "colorscale": [
             [
              0,
              "#0d0887"
             ],
             [
              0.1111111111111111,
              "#46039f"
             ],
             [
              0.2222222222222222,
              "#7201a8"
             ],
             [
              0.3333333333333333,
              "#9c179e"
             ],
             [
              0.4444444444444444,
              "#bd3786"
             ],
             [
              0.5555555555555556,
              "#d8576b"
             ],
             [
              0.6666666666666666,
              "#ed7953"
             ],
             [
              0.7777777777777778,
              "#fb9f3a"
             ],
             [
              0.8888888888888888,
              "#fdca26"
             ],
             [
              1,
              "#f0f921"
             ]
            ],
            "type": "heatmap"
           }
          ],
          "heatmapgl": [
           {
            "colorbar": {
             "outlinewidth": 0,
             "ticks": ""
            },
            "colorscale": [
             [
              0,
              "#0d0887"
             ],
             [
              0.1111111111111111,
              "#46039f"
             ],
             [
              0.2222222222222222,
              "#7201a8"
             ],
             [
              0.3333333333333333,
              "#9c179e"
             ],
             [
              0.4444444444444444,
              "#bd3786"
             ],
             [
              0.5555555555555556,
              "#d8576b"
             ],
             [
              0.6666666666666666,
              "#ed7953"
             ],
             [
              0.7777777777777778,
              "#fb9f3a"
             ],
             [
              0.8888888888888888,
              "#fdca26"
             ],
             [
              1,
              "#f0f921"
             ]
            ],
            "type": "heatmapgl"
           }
          ],
          "histogram": [
           {
            "marker": {
             "pattern": {
              "fillmode": "overlay",
              "size": 10,
              "solidity": 0.2
             }
            },
            "type": "histogram"
           }
          ],
          "histogram2d": [
           {
            "colorbar": {
             "outlinewidth": 0,
             "ticks": ""
            },
            "colorscale": [
             [
              0,
              "#0d0887"
             ],
             [
              0.1111111111111111,
              "#46039f"
             ],
             [
              0.2222222222222222,
              "#7201a8"
             ],
             [
              0.3333333333333333,
              "#9c179e"
             ],
             [
              0.4444444444444444,
              "#bd3786"
             ],
             [
              0.5555555555555556,
              "#d8576b"
             ],
             [
              0.6666666666666666,
              "#ed7953"
             ],
             [
              0.7777777777777778,
              "#fb9f3a"
             ],
             [
              0.8888888888888888,
              "#fdca26"
             ],
             [
              1,
              "#f0f921"
             ]
            ],
            "type": "histogram2d"
           }
          ],
          "histogram2dcontour": [
           {
            "colorbar": {
             "outlinewidth": 0,
             "ticks": ""
            },
            "colorscale": [
             [
              0,
              "#0d0887"
             ],
             [
              0.1111111111111111,
              "#46039f"
             ],
             [
              0.2222222222222222,
              "#7201a8"
             ],
             [
              0.3333333333333333,
              "#9c179e"
             ],
             [
              0.4444444444444444,
              "#bd3786"
             ],
             [
              0.5555555555555556,
              "#d8576b"
             ],
             [
              0.6666666666666666,
              "#ed7953"
             ],
             [
              0.7777777777777778,
              "#fb9f3a"
             ],
             [
              0.8888888888888888,
              "#fdca26"
             ],
             [
              1,
              "#f0f921"
             ]
            ],
            "type": "histogram2dcontour"
           }
          ],
          "mesh3d": [
           {
            "colorbar": {
             "outlinewidth": 0,
             "ticks": ""
            },
            "type": "mesh3d"
           }
          ],
          "parcoords": [
           {
            "line": {
             "colorbar": {
              "outlinewidth": 0,
              "ticks": ""
             }
            },
            "type": "parcoords"
           }
          ],
          "pie": [
           {
            "automargin": true,
            "type": "pie"
           }
          ],
          "scatter": [
           {
            "marker": {
             "colorbar": {
              "outlinewidth": 0,
              "ticks": ""
             }
            },
            "type": "scatter"
           }
          ],
          "scatter3d": [
           {
            "line": {
             "colorbar": {
              "outlinewidth": 0,
              "ticks": ""
             }
            },
            "marker": {
             "colorbar": {
              "outlinewidth": 0,
              "ticks": ""
             }
            },
            "type": "scatter3d"
           }
          ],
          "scattercarpet": [
           {
            "marker": {
             "colorbar": {
              "outlinewidth": 0,
              "ticks": ""
             }
            },
            "type": "scattercarpet"
           }
          ],
          "scattergeo": [
           {
            "marker": {
             "colorbar": {
              "outlinewidth": 0,
              "ticks": ""
             }
            },
            "type": "scattergeo"
           }
          ],
          "scattergl": [
           {
            "marker": {
             "colorbar": {
              "outlinewidth": 0,
              "ticks": ""
             }
            },
            "type": "scattergl"
           }
          ],
          "scattermapbox": [
           {
            "marker": {
             "colorbar": {
              "outlinewidth": 0,
              "ticks": ""
             }
            },
            "type": "scattermapbox"
           }
          ],
          "scatterpolar": [
           {
            "marker": {
             "colorbar": {
              "outlinewidth": 0,
              "ticks": ""
             }
            },
            "type": "scatterpolar"
           }
          ],
          "scatterpolargl": [
           {
            "marker": {
             "colorbar": {
              "outlinewidth": 0,
              "ticks": ""
             }
            },
            "type": "scatterpolargl"
           }
          ],
          "scatterternary": [
           {
            "marker": {
             "colorbar": {
              "outlinewidth": 0,
              "ticks": ""
             }
            },
            "type": "scatterternary"
           }
          ],
          "surface": [
           {
            "colorbar": {
             "outlinewidth": 0,
             "ticks": ""
            },
            "colorscale": [
             [
              0,
              "#0d0887"
             ],
             [
              0.1111111111111111,
              "#46039f"
             ],
             [
              0.2222222222222222,
              "#7201a8"
             ],
             [
              0.3333333333333333,
              "#9c179e"
             ],
             [
              0.4444444444444444,
              "#bd3786"
             ],
             [
              0.5555555555555556,
              "#d8576b"
             ],
             [
              0.6666666666666666,
              "#ed7953"
             ],
             [
              0.7777777777777778,
              "#fb9f3a"
             ],
             [
              0.8888888888888888,
              "#fdca26"
             ],
             [
              1,
              "#f0f921"
             ]
            ],
            "type": "surface"
           }
          ],
          "table": [
           {
            "cells": {
             "fill": {
              "color": "#EBF0F8"
             },
             "line": {
              "color": "white"
             }
            },
            "header": {
             "fill": {
              "color": "#C8D4E3"
             },
             "line": {
              "color": "white"
             }
            },
            "type": "table"
           }
          ]
         },
         "layout": {
          "annotationdefaults": {
           "arrowcolor": "#2a3f5f",
           "arrowhead": 0,
           "arrowwidth": 1
          },
          "autotypenumbers": "strict",
          "coloraxis": {
           "colorbar": {
            "outlinewidth": 0,
            "ticks": ""
           }
          },
          "colorscale": {
           "diverging": [
            [
             0,
             "#8e0152"
            ],
            [
             0.1,
             "#c51b7d"
            ],
            [
             0.2,
             "#de77ae"
            ],
            [
             0.3,
             "#f1b6da"
            ],
            [
             0.4,
             "#fde0ef"
            ],
            [
             0.5,
             "#f7f7f7"
            ],
            [
             0.6,
             "#e6f5d0"
            ],
            [
             0.7,
             "#b8e186"
            ],
            [
             0.8,
             "#7fbc41"
            ],
            [
             0.9,
             "#4d9221"
            ],
            [
             1,
             "#276419"
            ]
           ],
           "sequential": [
            [
             0,
             "#0d0887"
            ],
            [
             0.1111111111111111,
             "#46039f"
            ],
            [
             0.2222222222222222,
             "#7201a8"
            ],
            [
             0.3333333333333333,
             "#9c179e"
            ],
            [
             0.4444444444444444,
             "#bd3786"
            ],
            [
             0.5555555555555556,
             "#d8576b"
            ],
            [
             0.6666666666666666,
             "#ed7953"
            ],
            [
             0.7777777777777778,
             "#fb9f3a"
            ],
            [
             0.8888888888888888,
             "#fdca26"
            ],
            [
             1,
             "#f0f921"
            ]
           ],
           "sequentialminus": [
            [
             0,
             "#0d0887"
            ],
            [
             0.1111111111111111,
             "#46039f"
            ],
            [
             0.2222222222222222,
             "#7201a8"
            ],
            [
             0.3333333333333333,
             "#9c179e"
            ],
            [
             0.4444444444444444,
             "#bd3786"
            ],
            [
             0.5555555555555556,
             "#d8576b"
            ],
            [
             0.6666666666666666,
             "#ed7953"
            ],
            [
             0.7777777777777778,
             "#fb9f3a"
            ],
            [
             0.8888888888888888,
             "#fdca26"
            ],
            [
             1,
             "#f0f921"
            ]
           ]
          },
          "colorway": [
           "#636efa",
           "#EF553B",
           "#00cc96",
           "#ab63fa",
           "#FFA15A",
           "#19d3f3",
           "#FF6692",
           "#B6E880",
           "#FF97FF",
           "#FECB52"
          ],
          "font": {
           "color": "#2a3f5f"
          },
          "geo": {
           "bgcolor": "white",
           "lakecolor": "white",
           "landcolor": "#E5ECF6",
           "showlakes": true,
           "showland": true,
           "subunitcolor": "white"
          },
          "hoverlabel": {
           "align": "left"
          },
          "hovermode": "closest",
          "mapbox": {
           "style": "light"
          },
          "paper_bgcolor": "white",
          "plot_bgcolor": "#E5ECF6",
          "polar": {
           "angularaxis": {
            "gridcolor": "white",
            "linecolor": "white",
            "ticks": ""
           },
           "bgcolor": "#E5ECF6",
           "radialaxis": {
            "gridcolor": "white",
            "linecolor": "white",
            "ticks": ""
           }
          },
          "scene": {
           "xaxis": {
            "backgroundcolor": "#E5ECF6",
            "gridcolor": "white",
            "gridwidth": 2,
            "linecolor": "white",
            "showbackground": true,
            "ticks": "",
            "zerolinecolor": "white"
           },
           "yaxis": {
            "backgroundcolor": "#E5ECF6",
            "gridcolor": "white",
            "gridwidth": 2,
            "linecolor": "white",
            "showbackground": true,
            "ticks": "",
            "zerolinecolor": "white"
           },
           "zaxis": {
            "backgroundcolor": "#E5ECF6",
            "gridcolor": "white",
            "gridwidth": 2,
            "linecolor": "white",
            "showbackground": true,
            "ticks": "",
            "zerolinecolor": "white"
           }
          },
          "shapedefaults": {
           "line": {
            "color": "#2a3f5f"
           }
          },
          "ternary": {
           "aaxis": {
            "gridcolor": "white",
            "linecolor": "white",
            "ticks": ""
           },
           "baxis": {
            "gridcolor": "white",
            "linecolor": "white",
            "ticks": ""
           },
           "bgcolor": "#E5ECF6",
           "caxis": {
            "gridcolor": "white",
            "linecolor": "white",
            "ticks": ""
           }
          },
          "title": {
           "x": 0.05
          },
          "xaxis": {
           "automargin": true,
           "gridcolor": "white",
           "linecolor": "white",
           "ticks": "",
           "title": {
            "standoff": 15
           },
           "zerolinecolor": "white",
           "zerolinewidth": 2
          },
          "yaxis": {
           "automargin": true,
           "gridcolor": "white",
           "linecolor": "white",
           "ticks": "",
           "title": {
            "standoff": 15
           },
           "zerolinecolor": "white",
           "zerolinewidth": 2
          }
         }
        },
        "title": {
         "text": "Distribution for S = (3,0) and N = 10"
        },
        "xaxis": {
         "range": [
          -9.999734386011127,
          -6.459441338997866
         ],
         "title": {
          "text": "G/R"
         },
         "type": "linear"
        },
        "yaxis": {
         "autorange": true,
         "range": [
          -0.11012617961330934,
          2.0923974126528777
         ],
         "title": {
          "text": "Count"
         },
         "type": "log"
        }
       }
      },
      "image/png": "[encoded data removed]",
      "text/html": [
       "<div>                            <div id=\"81c0a41b-7c1f-404a-9d7a-e1f003057139\" class=\"plotly-graph-div\" style=\"height:525px; width:100%;\"></div>            <script type=\"text/javascript\">                require([\"plotly\"], function(Plotly) {                    window.PLOTLYENV=window.PLOTLYENV || {};                                    if (document.getElementById(\"81c0a41b-7c1f-404a-9d7a-e1f003057139\")) {                    Plotly.newPlot(                        \"81c0a41b-7c1f-404a-9d7a-e1f003057139\",                        [{\"name\":\"MC\",\"opacity\":0.75,\"type\":\"histogram\",\"x\":[-9.752187605005672,-9.481885843302916,-9.903992400751036,-9.99670340259834,-9.660065301791043,-9.289280992185068,-9.122569126154405,-9.752187605005672,-9.289280992185068,-9.99950519841528,-9.776968844505104,-9.948977625447533,-9.776968844505104,-9.992341815299563,-9.122569126154405,-8.796391119553366,-9.893324889723374,-8.91675200759803,-9.724652894450745,-9.210312213538964,-9.694058771611939,-9.289280992185068,-9.210312213538964,-8.348959011733012,-8.66265679950374,-9.533697258972625,-9.660065301791043,-9.694058771611939,-8.796391119553366,-9.958671876612502,-9.533697258972625,-9.660065301791043,-8.51406311055971,-9.580327533075362,-8.91675200759803,-8.796391119553366,-9.922233844608341,-9.622294779767826,-9.481885843302916,-9.999734386011127,-8.796391119553366,-9.937009414132756,-9.360352892966562,-9.210312213538964,-9.025076806838227,-9.881472099692637,-8.66265679950374,-9.694058771611939,-9.210312213538964,-9.997837102444771,-9.289280992185068,-9.98220959803085,-9.424317603669905,-8.66265679950374,-8.91675200759803,-8.66265679950374,-9.999734386011127,-8.51406311055971,-9.999599210716378,-9.289280992185068,-9.819344764049134,-9.799271960054593,-9.660065301791043,-8.91675200759803,-9.622294779767826,-9.8536692588798,-9.8536692588798,-9.533697258972625,-9.996337113998155,-9.999734386011127,-8.66265679950374,-9.999734386011127,-9.903992400751036,-9.622294779767826,-8.66265679950374,-9.580327533075362,-9.025076806838227,-8.348959011733012,-9.819344764049134,-9.025076806838227,-8.66265679950374,-9.424317603669905,-9.025076806838227,-9.580327533075362,-9.481885843302916,-8.91675200759803,-8.66265679950374,-9.360352892966562,-8.796391119553366,-9.660065301791043,-9.881472099692637,-9.999162049171497,-9.025076806838227,-9.881472099692637,-9.98703079696449,-9.424317603669905,-8.796391119553366,-9.210312213538964,-8.66265679950374,-8.348959011733012,-9.580327533075362,-9.424317603669905,-9.424317603669905,-9.985589774404989,-9.903992400751036,-9.660065301791043,-9.776968844505104,-9.424317603669905,-9.799271960054593,-9.289280992185068,-8.51406311055971,-9.837410287644222,-9.799271960054593,-9.122569126154405,-9.997033062338506,-9.937009414132756,-9.122569126154405,-9.799271960054593,-9.210312213538964,-9.424317603669905,-9.122569126154405,-9.922233844608341,-9.998850547560354,-9.533697258972625,-9.481885843302916,-9.622294779767826,-9.025076806838227,-9.122569126154405,-8.796391119553366,-9.930010460147507,-9.580327533075362,-9.837410287644222,-8.796391119553366,-9.210312213538964,-9.999734386011127,-9.881472099692637,-9.533697258972625,-9.533697258972625,-9.913593160675934,-9.210312213538964,-9.752187605005672,-9.937009414132756,-9.752187605005672,-9.913593160675934,-9.622294779767826,-9.99950519841528,-9.289280992185068,-9.424317603669905,-9.903992400751036,-9.819344764049134,-9.837410287644222,-9.481885843302916,-8.796391119553366,-8.51406311055971,-9.991490905888403,-9.424317603669905,-9.999734386011127,-9.776968844505104,-9.481885843302916,-9.533697258972625,-9.289280992185068,-9.99670340259834,-9.837410287644222,-9.752187605005672,-9.424317603669905,-9.122569126154405,-9.776968844505104,-8.51406311055971,-9.210312213538964,-9.95407986290278,-9.481885843302916,-9.580327533075362,-9.210312213538964,-9.930010460147507,-9.99441718335338,-9.893324889723374,-9.837410287644222,-8.66265679950374,-9.580327533075362,-9.122569126154405,-9.025076806838227,-9.881472099692637,-9.660065301791043,-8.348959011733012,-9.622294779767826,-9.752187605005672,-9.694058771611939,-9.837410287644222,-9.424317603669905,-9.893324889723374,-9.999245844254348,-9.424317603669905,-9.930010460147507,-9.622294779767826,-9.122569126154405,-9.122569126154405,-9.289280992185068,-9.580327533075362,-9.999734386011127,-9.025076806838227,-9.122569126154405,-9.999734386011127,-9.903992400751036,-9.999245844254348,-9.922233844608341,-9.98220959803085,-8.66265679950374,-9.837410287644222,-9.881472099692637,-9.025076806838227,-8.91675200759803,-9.289280992185068,-8.66265679950374,-9.580327533075362,-9.694058771611939,-9.999734386011127,-9.210312213538964,-9.289280992185068,-9.881472099692637,-9.533697258972625,-9.533697258972625,-9.881472099692637,-9.122569126154405,-9.999734386011127,-9.622294779767826,-9.210312213538964,-9.999734386011127,-8.91675200759803,-9.922233844608341,-9.837410287644222,-9.999734386011127,-9.210312213538964,-9.962804688951252,-8.51406311055971,-9.210312213538964,-8.66265679950374,-8.91675200759803,-9.122569126154405,-9.122569126154405,-9.999734386011127,-9.660065301791043,-9.533697258972625,-9.868302332991819,-9.694058771611939,-9.903992400751036,-9.966524220056128,-9.930010460147507,-9.966524220056128,-9.622294779767826,-8.796391119553366,-9.868302332991819,-8.66265679950374,-9.660065301791043,-9.289280992185068,-9.752187605005672,-9.752187605005672,-9.622294779767826,-9.580327533075362,-9.983988638227766,-8.66265679950374,-9.724652894450745,-9.481885843302916,-9.868302332991819,-9.533697258972625,-9.481885843302916,-9.99670340259834,-9.580327533075362,-9.999675360680266,-9.622294779767826,-8.348959011733012,-9.95407986290278,-9.799271960054593,-9.424317603669905,-9.481885843302916,-9.660065301791043,-9.724652894450745,-8.796391119553366,-8.51406311055971,-9.025076806838227,-8.796391119553366,-9.999599210716378,-9.937009414132756,-9.903992400751036,-9.360352892966562,-9.481885843302916,-9.958671876612502,-9.210312213538964,-9.819344764049134,-9.533697258972625,-9.660065301791043,-9.989494945541237,-9.424317603669905,-9.424317603669905,-8.348959011733012,-9.360352892966562,-9.694058771611939,-9.98220959803085,-9.122569126154405,-9.580327533075362,-9.990545450987113]},{\"name\":\"TD(0)\",\"opacity\":0.75,\"type\":\"histogram\",\"x\":[-6.459441338997866,-6.459441338997866,-6.459441338997866,-6.459441338997866,-6.571315198077052,-6.459441338997866,-6.459441338997866,-6.459441338997866,-6.459441338997866,-6.459441338997866,-6.459441338997866,-6.459441338997866,-6.459441338997866,-6.459441338997866,-6.459441338997866,-6.459441338997866,-6.459441338997866,-6.459441338997866,-6.459441338997866,-6.459441338997866,-6.459441338997866,-6.459441338997866,-6.459441338997866,-6.459441338997866,-6.459441338997866,-6.459441338997866,-6.459441338997866,-6.459441338997866,-6.459441338997866,-6.539887681181928,-6.459441338997866,-6.459441338997866,-6.571315198077052,-6.459441338997866,-6.459441338997866,-6.459441338997866,-6.459441338997866,-6.459441338997866,-6.459441338997866,-6.459441338997866,-6.459441338997866,-6.459441338997866,-6.459441338997866,-6.459441338997866,-6.459441338997866,-6.459441338997866,-6.459441338997866,-6.459441338997866,-6.459441338997866,-6.459441338997866,-6.459441338997866,-6.459441338997866,-6.459441338997866,-6.459441338997866,-6.459441338997866,-6.459441338997866,-6.459441338997866,-6.539887681181928,-6.459441338997866,-6.459441338997866,-6.459441338997866,-6.459441338997866,-6.459441338997866,-6.459441338997866,-6.459441338997866,-6.459441338997866,-6.459441338997866,-6.459441338997866,-6.459441338997866,-6.459441338997866,-6.459441338997866,-6.459441338997866,-6.459441338997866,-6.459441338997866,-6.459441338997866,-6.459441338997866,-6.459441338997866,-6.459441338997866,-6.459441338997866,-6.459441338997866,-6.459441338997866,-6.459441338997866,-6.459441338997866,-6.459441338997866,-6.459441338997866,-6.459441338997866,-6.459441338997866,-6.459441338997866,-6.459441338997866,-6.459441338997866,-6.459441338997866,-6.459441338997866,-6.459441338997866,-6.459441338997866,-6.459441338997866,-6.459441338997866,-6.459441338997866,-6.459441338997866,-6.459441338997866,-6.459441338997866]},{\"name\":\"N-step 4\",\"opacity\":0.75,\"type\":\"histogram\",\"x\":[-6.96443929575279,-6.96443929575279,-7.031392178635526,-6.96443929575279,-7.268254252944785,-6.96443929575279,-6.971024357768928,-6.96443929575279,-6.96443929575279,-7.263515296444793,-6.96443929575279,-6.96443929575279,-7.2452543476378155,-7.2452543476378155,-6.96443929575279,-6.96443929575279,-6.96443929575279,-6.96443929575279,-6.96443929575279,-6.96443929575279,-6.96443929575279,-6.96443929575279,-7.2452543476378155,-6.8268641034943975,-6.96443929575279,-6.96443929575279,-6.971024357768928,-6.971024357768928,-6.96443929575279,-6.96443929575279,-6.96443929575279,-6.96443929575279,-6.96443929575279,-6.96443929575279,-7.2452543476378155,-6.96443929575279,-6.96443929575279,-6.96443929575279,-6.96443929575279,-6.96443929575279,-6.96443929575279,-6.96443929575279,-7.2452543476378155,-6.96443929575279,-6.96443929575279,-6.96443929575279,-6.96443929575279,-6.96443929575279,-6.96443929575279,-6.96443929575279,-6.96443929575279,-6.96443929575279,-6.96443929575279,-7.2452543476378155,-6.8268641034943975,-7.2452543476378155,-6.96443929575279,-6.96443929575279,-6.96443929575279,-6.96443929575279,-7.2452543476378155,-6.96443929575279,-6.96443929575279,-6.96443929575279,-6.96443929575279,-6.96443929575279,-6.96443929575279,-6.96443929575279,-7.031392178635526,-6.96443929575279,-7.2452543476378155,-7.4073838360903315,-6.96443929575279,-6.96443929575279,-6.96443929575279,-6.96443929575279,-6.96443929575279,-6.96443929575279,-6.96443929575279,-7.093654199261881,-6.96443929575279,-7.031392178635526,-6.96443929575279,-6.96443929575279,-7.031392178635526,-6.96443929575279,-6.96443929575279,-6.96443929575279,-7.401547037069004,-6.96443929575279,-6.96443929575279,-6.96443929575279,-6.96443929575279,-6.96443929575279,-6.96443929575279,-6.96443929575279,-6.96443929575279,-6.971024357768928,-6.8268641034943975,-6.96443929575279]}],                        {\"bargap\":0.2,\"bargroupgap\":0.1,\"barmode\":\"overlay\",\"showlegend\":true,\"template\":{\"data\":{\"bar\":[{\"error_x\":{\"color\":\"#2a3f5f\"},\"error_y\":{\"color\":\"#2a3f5f\"},\"marker\":{\"line\":{\"color\":\"#E5ECF6\",\"width\":0.5},\"pattern\":{\"fillmode\":\"overlay\",\"size\":10,\"solidity\":0.2}},\"type\":\"bar\"}],\"barpolar\":[{\"marker\":{\"line\":{\"color\":\"#E5ECF6\",\"width\":0.5},\"pattern\":{\"fillmode\":\"overlay\",\"size\":10,\"solidity\":0.2}},\"type\":\"barpolar\"}],\"carpet\":[{\"aaxis\":{\"endlinecolor\":\"#2a3f5f\",\"gridcolor\":\"white\",\"linecolor\":\"white\",\"minorgridcolor\":\"white\",\"startlinecolor\":\"#2a3f5f\"},\"baxis\":{\"endlinecolor\":\"#2a3f5f\",\"gridcolor\":\"white\",\"linecolor\":\"white\",\"minorgridcolor\":\"white\",\"startlinecolor\":\"#2a3f5f\"},\"type\":\"carpet\"}],\"choropleth\":[{\"colorbar\":{\"outlinewidth\":0,\"ticks\":\"\"},\"type\":\"choropleth\"}],\"contour\":[{\"colorbar\":{\"outlinewidth\":0,\"ticks\":\"\"},\"colorscale\":[[0.0,\"#0d0887\"],[0.1111111111111111,\"#46039f\"],[0.2222222222222222,\"#7201a8\"],[0.3333333333333333,\"#9c179e\"],[0.4444444444444444,\"#bd3786\"],[0.5555555555555556,\"#d8576b\"],[0.6666666666666666,\"#ed7953\"],[0.7777777777777778,\"#fb9f3a\"],[0.8888888888888888,\"#fdca26\"],[1.0,\"#f0f921\"]],\"type\":\"contour\"}],\"contourcarpet\":[{\"colorbar\":{\"outlinewidth\":0,\"ticks\":\"\"},\"type\":\"contourcarpet\"}],\"heatmap\":[{\"colorbar\":{\"outlinewidth\":0,\"ticks\":\"\"},\"colorscale\":[[0.0,\"#0d0887\"],[0.1111111111111111,\"#46039f\"],[0.2222222222222222,\"#7201a8\"],[0.3333333333333333,\"#9c179e\"],[0.4444444444444444,\"#bd3786\"],[0.5555555555555556,\"#d8576b\"],[0.6666666666666666,\"#ed7953\"],[0.7777777777777778,\"#fb9f3a\"],[0.8888888888888888,\"#fdca26\"],[1.0,\"#f0f921\"]],\"type\":\"heatmap\"}],\"heatmapgl\":[{\"colorbar\":{\"outlinewidth\":0,\"ticks\":\"\"},\"colorscale\":[[0.0,\"#0d0887\"],[0.1111111111111111,\"#46039f\"],[0.2222222222222222,\"#7201a8\"],[0.3333333333333333,\"#9c179e\"],[0.4444444444444444,\"#bd3786\"],[0.5555555555555556,\"#d8576b\"],[0.6666666666666666,\"#ed7953\"],[0.7777777777777778,\"#fb9f3a\"],[0.8888888888888888,\"#fdca26\"],[1.0,\"#f0f921\"]],\"type\":\"heatmapgl\"}],\"histogram\":[{\"marker\":{\"pattern\":{\"fillmode\":\"overlay\",\"size\":10,\"solidity\":0.2}},\"type\":\"histogram\"}],\"histogram2d\":[{\"colorbar\":{\"outlinewidth\":0,\"ticks\":\"\"},\"colorscale\":[[0.0,\"#0d0887\"],[0.1111111111111111,\"#46039f\"],[0.2222222222222222,\"#7201a8\"],[0.3333333333333333,\"#9c179e\"],[0.4444444444444444,\"#bd3786\"],[0.5555555555555556,\"#d8576b\"],[0.6666666666666666,\"#ed7953\"],[0.7777777777777778,\"#fb9f3a\"],[0.8888888888888888,\"#fdca26\"],[1.0,\"#f0f921\"]],\"type\":\"histogram2d\"}],\"histogram2dcontour\":[{\"colorbar\":{\"outlinewidth\":0,\"ticks\":\"\"},\"colorscale\":[[0.0,\"#0d0887\"],[0.1111111111111111,\"#46039f\"],[0.2222222222222222,\"#7201a8\"],[0.3333333333333333,\"#9c179e\"],[0.4444444444444444,\"#bd3786\"],[0.5555555555555556,\"#d8576b\"],[0.6666666666666666,\"#ed7953\"],[0.7777777777777778,\"#fb9f3a\"],[0.8888888888888888,\"#fdca26\"],[1.0,\"#f0f921\"]],\"type\":\"histogram2dcontour\"}],\"mesh3d\":[{\"colorbar\":{\"outlinewidth\":0,\"ticks\":\"\"},\"type\":\"mesh3d\"}],\"parcoords\":[{\"line\":{\"colorbar\":{\"outlinewidth\":0,\"ticks\":\"\"}},\"type\":\"parcoords\"}],\"pie\":[{\"automargin\":true,\"type\":\"pie\"}],\"scatter\":[{\"marker\":{\"colorbar\":{\"outlinewidth\":0,\"ticks\":\"\"}},\"type\":\"scatter\"}],\"scatter3d\":[{\"line\":{\"colorbar\":{\"outlinewidth\":0,\"ticks\":\"\"}},\"marker\":{\"colorbar\":{\"outlinewidth\":0,\"ticks\":\"\"}},\"type\":\"scatter3d\"}],\"scattercarpet\":[{\"marker\":{\"colorbar\":{\"outlinewidth\":0,\"ticks\":\"\"}},\"type\":\"scattercarpet\"}],\"scattergeo\":[{\"marker\":{\"colorbar\":{\"outlinewidth\":0,\"ticks\":\"\"}},\"type\":\"scattergeo\"}],\"scattergl\":[{\"marker\":{\"colorbar\":{\"outlinewidth\":0,\"ticks\":\"\"}},\"type\":\"scattergl\"}],\"scattermapbox\":[{\"marker\":{\"colorbar\":{\"outlinewidth\":0,\"ticks\":\"\"}},\"type\":\"scattermapbox\"}],\"scatterpolar\":[{\"marker\":{\"colorbar\":{\"outlinewidth\":0,\"ticks\":\"\"}},\"type\":\"scatterpolar\"}],\"scatterpolargl\":[{\"marker\":{\"colorbar\":{\"outlinewidth\":0,\"ticks\":\"\"}},\"type\":\"scatterpolargl\"}],\"scatterternary\":[{\"marker\":{\"colorbar\":{\"outlinewidth\":0,\"ticks\":\"\"}},\"type\":\"scatterternary\"}],\"surface\":[{\"colorbar\":{\"outlinewidth\":0,\"ticks\":\"\"},\"colorscale\":[[0.0,\"#0d0887\"],[0.1111111111111111,\"#46039f\"],[0.2222222222222222,\"#7201a8\"],[0.3333333333333333,\"#9c179e\"],[0.4444444444444444,\"#bd3786\"],[0.5555555555555556,\"#d8576b\"],[0.6666666666666666,\"#ed7953\"],[0.7777777777777778,\"#fb9f3a\"],[0.8888888888888888,\"#fdca26\"],[1.0,\"#f0f921\"]],\"type\":\"surface\"}],\"table\":[{\"cells\":{\"fill\":{\"color\":\"#EBF0F8\"},\"line\":{\"color\":\"white\"}},\"header\":{\"fill\":{\"color\":\"#C8D4E3\"},\"line\":{\"color\":\"white\"}},\"type\":\"table\"}]},\"layout\":{\"annotationdefaults\":{\"arrowcolor\":\"#2a3f5f\",\"arrowhead\":0,\"arrowwidth\":1},\"autotypenumbers\":\"strict\",\"coloraxis\":{\"colorbar\":{\"outlinewidth\":0,\"ticks\":\"\"}},\"colorscale\":{\"diverging\":[[0,\"#8e0152\"],[0.1,\"#c51b7d\"],[0.2,\"#de77ae\"],[0.3,\"#f1b6da\"],[0.4,\"#fde0ef\"],[0.5,\"#f7f7f7\"],[0.6,\"#e6f5d0\"],[0.7,\"#b8e186\"],[0.8,\"#7fbc41\"],[0.9,\"#4d9221\"],[1,\"#276419\"]],\"sequential\":[[0.0,\"#0d0887\"],[0.1111111111111111,\"#46039f\"],[0.2222222222222222,\"#7201a8\"],[0.3333333333333333,\"#9c179e\"],[0.4444444444444444,\"#bd3786\"],[0.5555555555555556,\"#d8576b\"],[0.6666666666666666,\"#ed7953\"],[0.7777777777777778,\"#fb9f3a\"],[0.8888888888888888,\"#fdca26\"],[1.0,\"#f0f921\"]],\"sequentialminus\":[[0.0,\"#0d0887\"],[0.1111111111111111,\"#46039f\"],[0.2222222222222222,\"#7201a8\"],[0.3333333333333333,\"#9c179e\"],[0.4444444444444444,\"#bd3786\"],[0.5555555555555556,\"#d8576b\"],[0.6666666666666666,\"#ed7953\"],[0.7777777777777778,\"#fb9f3a\"],[0.8888888888888888,\"#fdca26\"],[1.0,\"#f0f921\"]]},\"colorway\":[\"#636efa\",\"#EF553B\",\"#00cc96\",\"#ab63fa\",\"#FFA15A\",\"#19d3f3\",\"#FF6692\",\"#B6E880\",\"#FF97FF\",\"#FECB52\"],\"font\":{\"color\":\"#2a3f5f\"},\"geo\":{\"bgcolor\":\"white\",\"lakecolor\":\"white\",\"landcolor\":\"#E5ECF6\",\"showlakes\":true,\"showland\":true,\"subunitcolor\":\"white\"},\"hoverlabel\":{\"align\":\"left\"},\"hovermode\":\"closest\",\"mapbox\":{\"style\":\"light\"},\"paper_bgcolor\":\"white\",\"plot_bgcolor\":\"#E5ECF6\",\"polar\":{\"angularaxis\":{\"gridcolor\":\"white\",\"linecolor\":\"white\",\"ticks\":\"\"},\"bgcolor\":\"#E5ECF6\",\"radialaxis\":{\"gridcolor\":\"white\",\"linecolor\":\"white\",\"ticks\":\"\"}},\"scene\":{\"xaxis\":{\"backgroundcolor\":\"#E5ECF6\",\"gridcolor\":\"white\",\"gridwidth\":2,\"linecolor\":\"white\",\"showbackground\":true,\"ticks\":\"\",\"zerolinecolor\":\"white\"},\"yaxis\":{\"backgroundcolor\":\"#E5ECF6\",\"gridcolor\":\"white\",\"gridwidth\":2,\"linecolor\":\"white\",\"showbackground\":true,\"ticks\":\"\",\"zerolinecolor\":\"white\"},\"zaxis\":{\"backgroundcolor\":\"#E5ECF6\",\"gridcolor\":\"white\",\"gridwidth\":2,\"linecolor\":\"white\",\"showbackground\":true,\"ticks\":\"\",\"zerolinecolor\":\"white\"}},\"shapedefaults\":{\"line\":{\"color\":\"#2a3f5f\"}},\"ternary\":{\"aaxis\":{\"gridcolor\":\"white\",\"linecolor\":\"white\",\"ticks\":\"\"},\"baxis\":{\"gridcolor\":\"white\",\"linecolor\":\"white\",\"ticks\":\"\"},\"bgcolor\":\"#E5ECF6\",\"caxis\":{\"gridcolor\":\"white\",\"linecolor\":\"white\",\"ticks\":\"\"}},\"title\":{\"x\":0.05},\"xaxis\":{\"automargin\":true,\"gridcolor\":\"white\",\"linecolor\":\"white\",\"ticks\":\"\",\"title\":{\"standoff\":15},\"zerolinecolor\":\"white\",\"zerolinewidth\":2},\"yaxis\":{\"automargin\":true,\"gridcolor\":\"white\",\"linecolor\":\"white\",\"ticks\":\"\",\"title\":{\"standoff\":15},\"zerolinecolor\":\"white\",\"zerolinewidth\":2}}},\"title\":{\"text\":\"Distribution for S = (3,0) and N = 10\"},\"xaxis\":{\"range\":[-9.999734386011127,-6.459441338997866],\"title\":{\"text\":\"G/R\"}},\"yaxis\":{\"title\":{\"text\":\"Count\"},\"type\":\"log\"}},                        {\"responsive\": true}                    ).then(function(){\n",
       "                            \n",
       "var gd = document.getElementById('81c0a41b-7c1f-404a-9d7a-e1f003057139');\n",
       "var x = new MutationObserver(function (mutations, observer) {{\n",
       "        var display = window.getComputedStyle(gd).display;\n",
       "        if (!display || display === 'none') {{\n",
       "            console.log([gd, 'removed!']);\n",
       "            Plotly.purge(gd);\n",
       "            observer.disconnect();\n",
       "        }}\n",
       "}});\n",
       "\n",
       "// Listen for the removal of the full notebook cells\n",
       "var notebookContainer = gd.closest('#notebook-container');\n",
       "if (notebookContainer) {{\n",
       "    x.observe(notebookContainer, {childList: true});\n",
       "}}\n",
       "\n",
       "// Listen for the clearing of the current output cell\n",
       "var outputEl = gd.closest('.output');\n",
       "if (outputEl) {{\n",
       "    x.observe(outputEl, {childList: true});\n",
       "}}\n",
       "\n",
       "                        })                };                });            </script>        </div>"
      ]
     },
     "metadata": {},
     "output_type": "display_data"
    }
   ],
   "source": [
    "agent = Agent()\n",
    "agent.SARSA(N=50)\n",
    "plot_valuemap(agent.q)\n",
    "\n",
    "minimum = +np.Inf\n",
    "maximum = -np.Inf\n",
    "\n",
    "fig = go.Figure()\n",
    "\n",
    "print(\"Monte Carlo\")\n",
    "agent.MC()\n",
    "fig.add_trace(go.Histogram(x=agent.S, name='MC'))\n",
    "minimum = min(min(agent.S), minimum)\n",
    "maximum = max(max(agent.S), maximum)\n",
    "agent.empty_s()\n",
    "\n",
    "print(\"TD(0)\")\n",
    "agent.nstepSARSA(n=1)\n",
    "fig.add_trace(go.Histogram(x=agent.S, name='TD(0)'))\n",
    "minimum = min(min(agent.S), minimum)\n",
    "maximum = max(max(agent.S), maximum)\n",
    "agent.empty_s()\n",
    "\n",
    "print(\"N-step 4\")\n",
    "agent.nstepSARSA(n=4)\n",
    "fig.add_trace(go.Histogram(x=agent.S, name='N-step 4'))\n",
    "minimum = min(min(agent.S), minimum)\n",
    "maximum = max(max(agent.S), maximum)\n",
    "agent.empty_s()\n",
    "\n",
    "\n",
    "fig.update_layout(\n",
    "    title_text='Distribution for S = (3,0) and N = 10', # title of plot\n",
    "    xaxis_title_text='G/R', # xaxis label\n",
    "    yaxis_title_text='Count', # yaxis label\n",
    "    bargap=0.2, # gap between bars of adjacent location coordinates\n",
    "    bargroupgap=0.1, # gap between bars of the same location coordinates\n",
    "    showlegend=True,\n",
    "    barmode='overlay',\n",
    "    xaxis_range=[minimum,maximum]\n",
    "\n",
    ")\n",
    "\n",
    "# Reduce opacity to see both histograms\n",
    "fig.update_traces(opacity=0.75)\n",
    "fig.update_yaxes(type=\"log\")\n",
    "fig.show()"
   ]
  },
  {
   "cell_type": "code",
   "execution_count": 22,
   "id": "informative-builder",
   "metadata": {},
   "outputs": [
    {
     "data": {
      "image/png": "[encoded data removed]",
      "text/plain": [
       "<Figure size 432x288 with 2 Axes>"
      ]
     },
     "metadata": {
      "needs_background": "light"
     },
     "output_type": "display_data"
    },
    {
     "name": "stdout",
     "output_type": "stream",
     "text": [
      "Monte Carlo\n",
      "TD(0)\n",
      "N-step 4\n"
     ]
    },
    {
     "data": {
      "application/vnd.plotly.v1+json": {
       "config": {
        "plotlyServerURL": "https://plot.ly"
       },
       "data": [
        {
         "name": "MC",
         "opacity": 0.75,
         "type": "histogram",
         "x": [
          -9.999734386011127,
          -9.999734386011127,
          -9.999734386011127,
          -9.999734386011127,
          -9.999734386011127,
          -9.999734386011127,
          -9.999734386011127,
          -9.999734386011127,
          -9.999734386011127,
          -9.999734386011127,
          -9.999734386011127,
          -9.999734386011127,
          -9.95407986290278,
          -9.999734386011127,
          -9.999734386011127,
          -9.999734386011127,
          -9.999734386011127,
          -9.999734386011127,
          -9.799271960054593,
          -9.972884618245464,
          -9.999734386011127,
          -9.999734386011127,
          -9.999734386011127,
          -9.999068943523886,
          -9.999734386011127,
          -9.999245844254348,
          -9.999734386011127,
          -9.999734386011127,
          -9.999734386011127,
          -9.999734386011127,
          -9.999734386011127,
          -9.819344764049134,
          -9.999734386011127,
          -9.997837102444771,
          -9.999734386011127,
          -9.999734386011127,
          -9.999734386011127,
          -9.999734386011127,
          -9.999734386011127,
          -9.983988638227766,
          -9.999734386011127,
          -9.999734386011127,
          -9.999734386011127,
          -9.999734386011127,
          -9.999734386011127,
          -9.999734386011127,
          -9.999162049171497,
          -9.999734386011127,
          -9.999734386011127,
          -7.4835528299542915,
          -9.999734386011127,
          -9.999734386011127,
          -9.999734386011127,
          -9.999734386011127,
          -7.961677792262976,
          -9.999734386011127,
          -9.999734386011127,
          -9.533697258972625,
          -9.999734386011127,
          -9.999734386011127,
          -9.999734386011127,
          -9.999734386011127,
          -9.999734386011127,
          -9.999734386011127,
          -9.999734386011127,
          -9.999734386011127,
          -9.999734386011127,
          -9.999734386011127,
          -9.999734386011127,
          -9.999675360680266,
          -9.999734386011127,
          -7.4835528299542915,
          -9.999734386011127,
          -9.999734386011127,
          -9.999734386011127,
          -9.999734386011127,
          -9.999734386011127,
          -9.999734386011127,
          -9.999734386011127,
          -9.998965492804318,
          -9.999734386011127,
          -9.999734386011127,
          -9.999734386011127,
          -9.999734386011127,
          -9.999734386011127,
          -9.999734386011127,
          -9.999734386011127,
          -9.999734386011127,
          -9.999734386011127,
          -9.999734386011127,
          -9.999734386011127,
          -9.999734386011127,
          -9.999734386011127,
          -9.999734386011127,
          -9.999734386011127,
          -9.999734386011127,
          -9.999734386011127,
          -9.999734386011127,
          -9.999734386011127,
          -9.999734386011127,
          -9.975596156420918,
          -9.999734386011127,
          -9.999734386011127,
          -9.990545450987113,
          -9.999734386011127,
          -9.937009414132756,
          -9.999734386011127,
          -9.999734386011127,
          -9.999734386011127,
          -9.999734386011127,
          -9.999734386011127,
          -9.999734386011127,
          -9.694058771611939,
          -9.999734386011127,
          -9.999734386011127,
          -9.999734386011127,
          -9.999734386011127,
          -9.999734386011127,
          -9.999734386011127,
          -9.999734386011127,
          -9.999734386011127,
          -9.999734386011127,
          -9.999734386011127,
          -9.999734386011127,
          -9.999734386011127,
          -9.999734386011127,
          -9.999734386011127,
          -8.796391119553366,
          -7.7351975469588625,
          -9.999734386011127,
          -9.999734386011127,
          -9.999734386011127,
          -9.999734386011127,
          -9.999734386011127,
          -9.999734386011127,
          -9.999734386011127,
          -8.66265679950374,
          -9.999734386011127,
          -9.999734386011127,
          -9.999734386011127,
          -9.999734386011127,
          -9.999734386011127,
          -9.999734386011127,
          -9.999734386011127,
          -9.999734386011127,
          -9.999734386011127,
          -9.999734386011127,
          -9.999734386011127,
          -9.999734386011127,
          -9.999321259828914,
          -9.999734386011127,
          -8.165510013036679,
          -9.999734386011127,
          -9.999734386011127,
          -9.999734386011127,
          -9.999734386011127,
          -9.999734386011127,
          -9.999734386011127,
          -9.999734386011127,
          -9.999734386011127,
          -9.999734386011127,
          -9.999734386011127,
          -9.999734386011127,
          -9.999734386011127,
          -9.903992400751036,
          -9.999734386011127,
          -9.999734386011127,
          -9.999734386011127,
          -9.999734386011127,
          -9.999734386011127,
          -9.999734386011127,
          -9.999068943523886,
          -7.961677792262976,
          -9.999734386011127,
          -9.999734386011127,
          -9.999734386011127,
          -9.999734386011127,
          -9.999734386011127,
          -9.999734386011127,
          -9.983988638227766,
          -9.999734386011127,
          -9.999734386011127,
          -9.999734386011127,
          -9.999734386011127,
          -9.999734386011127,
          -7.4835528299542915,
          -9.999734386011127,
          -9.999734386011127,
          -9.776968844505104,
          -9.999734386011127,
          -9.999734386011127,
          -9.999734386011127,
          -9.999734386011127,
          -9.999734386011127,
          -9.999734386011127,
          -9.999734386011127,
          -9.991490905888403,
          -9.999734386011127,
          -9.999734386011127,
          -9.999734386011127,
          -9.999734386011127,
          -9.999734386011127,
          -9.999734386011127,
          -7.4835528299542915,
          -9.999734386011127,
          -9.999734386011127,
          -9.999734386011127,
          -9.999734386011127,
          -9.999734386011127,
          -9.999734386011127,
          -9.999734386011127,
          -9.999734386011127,
          -9.999734386011127,
          -9.999734386011127,
          -9.999734386011127,
          -9.999734386011127,
          -9.999734386011127,
          -9.999734386011127,
          -9.999734386011127,
          -9.999734386011127,
          -9.999734386011127,
          -9.999734386011127,
          -9.943308472719481,
          -9.999734386011127,
          -9.999734386011127,
          -9.999734386011127,
          -9.999734386011127,
          -9.999734386011127,
          -9.999734386011127,
          -9.999734386011127,
          -9.999734386011127,
          -9.999734386011127,
          -9.999734386011127,
          -9.999734386011127,
          -9.999734386011127,
          -8.66265679950374,
          -9.999734386011127,
          -9.999734386011127,
          -9.999734386011127,
          -9.998248052980266,
          -8.348959011733012,
          -9.999734386011127,
          -9.999734386011127,
          -9.999734386011127,
          -9.999734386011127,
          -9.999734386011127,
          -9.999734386011127,
          -9.999734386011127,
          -9.999734386011127,
          -7.961677792262976,
          -9.999734386011127,
          -9.360352892966562,
          -9.999734386011127,
          -9.999734386011127,
          -9.999734386011127,
          -9.972884618245464,
          -9.999734386011127,
          -9.972884618245464,
          -9.999734386011127,
          -7.7351975469588625,
          -9.999734386011127,
          -9.999734386011127,
          -9.999734386011127,
          -9.999734386011127,
          -9.999734386011127,
          -9.999734386011127,
          -9.999734386011127,
          -9.999734386011127,
          -9.999734386011127,
          -9.999734386011127,
          -9.999734386011127,
          -9.999734386011127,
          -9.999734386011127,
          -9.999734386011127,
          -9.999734386011127,
          -9.999734386011127,
          -9.999734386011127,
          -9.999734386011127,
          -9.999734386011127,
          -9.999734386011127,
          -9.998580922914016,
          -9.999734386011127,
          -9.99963928964474,
          -8.165510013036679,
          -9.999734386011127,
          -9.999734386011127,
          -9.999734386011127,
          -9.999734386011127,
          -9.999734386011127,
          -9.999734386011127,
          -9.999734386011127,
          -9.999734386011127,
          -9.999734386011127,
          -9.999734386011127,
          -9.025076806838227,
          -9.999734386011127,
          -9.999734386011127,
          -8.348959011733012,
          -7.4835528299542915,
          -9.999734386011127
         ]
        },
        {
         "name": "TD(0)",
         "opacity": 0.75,
         "type": "histogram",
         "x": [
          -7.651376043380097,
          -7.651376043380097,
          -7.651376043380097,
          -7.651376043380097,
          -7.651376043380097,
          -7.651376043380097,
          -7.651376043380097,
          -7.651376043380097,
          -7.651376043380097,
          -7.651376043380097,
          -7.651376043380097,
          -7.651376043380097,
          -7.651376043380097,
          -7.651376043380097,
          -7.651376043380097,
          -7.651376043380097,
          -7.651376043380097,
          -7.651376043380097,
          -7.651376043380097,
          -7.651376043380097,
          -7.651376043380097,
          -7.651376043380097,
          -7.651376043380097,
          -7.651376043380097,
          -7.651376043380097,
          -7.651376043380097,
          -7.651376043380097,
          -7.651376043380097,
          -7.651376043380097,
          -7.651376043380097,
          -7.651376043380097,
          -7.651376043380097,
          -7.651376043380097,
          -7.651376043380097,
          -7.651376043380097,
          -7.651376043380097,
          -7.651376043380097,
          -7.651376043380097,
          -7.651376043380097,
          -7.651376043380097,
          -7.651376043380097,
          -7.651376043380097,
          -7.715891593981981,
          -7.651376043380097,
          -7.651376043380097,
          -7.74404346648938,
          -7.651376043380097,
          -7.651376043380097,
          -7.715891593981981,
          -7.651376043380097,
          -7.651376043380097,
          -7.651376043380097,
          -7.651376043380097,
          -7.651376043380097,
          -7.74404346648938,
          -7.715891593981981,
          -7.651376043380097,
          -7.651376043380097,
          -7.651376043380097,
          -7.651376043380097,
          -7.651376043380097,
          -7.651376043380097,
          -7.651376043380097,
          -7.651376043380097,
          -7.651376043380097,
          -7.651376043380097,
          -7.651376043380097,
          -7.651376043380097,
          -7.651376043380097,
          -7.651376043380097,
          -7.651376043380097,
          -7.651376043380097,
          -7.651376043380097,
          -7.651376043380097,
          -7.651376043380097,
          -7.651376043380097,
          -7.651376043380097,
          -7.651376043380097,
          -7.651376043380097,
          -7.651376043380097,
          -7.651376043380097,
          -7.651376043380097,
          -7.651376043380097,
          -7.651376043380097,
          -7.651376043380097,
          -7.651376043380097,
          -7.651376043380097,
          -7.651376043380097,
          -7.651376043380097,
          -7.651376043380097,
          -7.651376043380097,
          -7.651376043380097,
          -7.651376043380097,
          -7.651376043380097,
          -7.651376043380097,
          -7.651376043380097,
          -7.651376043380097,
          -7.651376043380097,
          -7.651376043380097,
          -7.651376043380097
         ]
        },
        {
         "name": "N-step 4",
         "opacity": 0.75,
         "type": "histogram",
         "x": [
          -8.28785313562409,
          -8.28785313562409,
          -8.28785313562409,
          -8.28785313562409,
          -8.355407687070759,
          -8.28785313562409,
          -8.28785313562409,
          -8.334884972012865,
          -8.28785313562409,
          -8.28785313562409,
          -8.28785313562409,
          -8.28785313562409,
          -8.334884972012865,
          -8.252821818085486,
          -8.28785313562409,
          -8.28785313562409,
          -8.28785313562409,
          -8.32362255924565,
          -8.28785313562409,
          -8.28785313562409,
          -8.28785313562409,
          -8.252821818085486,
          -8.28785313562409,
          -8.28785313562409,
          -8.28785313562409,
          -8.28785313562409,
          -8.28785313562409,
          -8.28785313562409,
          -8.28785313562409,
          -8.28785313562409,
          -8.28785313562409,
          -8.28785313562409,
          -8.28785313562409,
          -8.32362255924565,
          -8.28785313562409,
          -8.210169323541546,
          -8.28785313562409,
          -8.28785313562409,
          -8.28785313562409,
          -8.28785313562409,
          -8.28785313562409,
          -8.28785313562409,
          -8.28785313562409,
          -8.28785313562409,
          -8.28785313562409,
          -8.28785313562409,
          -8.28785313562409,
          -8.28785313562409,
          -8.210169323541546,
          -8.28785313562409,
          -8.28785313562409,
          -8.210169323541546,
          -8.28785313562409,
          -8.28785313562409,
          -8.28785313562409,
          -8.28785313562409,
          -8.28785313562409,
          -8.28785313562409,
          -8.28785313562409,
          -8.334884972012865,
          -8.43150175429587,
          -8.28785313562409,
          -8.28785313562409,
          -8.28785313562409,
          -8.28785313562409,
          -8.263058914838442,
          -8.28785313562409,
          -8.28785313562409,
          -8.28785313562409,
          -8.28785313562409,
          -8.28785313562409,
          -8.28785313562409,
          -8.334884972012865,
          -8.43150175429587,
          -8.28785313562409,
          -8.28785313562409,
          -8.28785313562409,
          -8.28785313562409,
          -8.28785313562409,
          -8.43150175429587,
          -8.28785313562409,
          -8.28785313562409,
          -8.28785313562409,
          -8.28785313562409,
          -8.28785313562409,
          -8.28785313562409,
          -8.28785313562409,
          -8.28785313562409,
          -8.28785313562409,
          -8.28785313562409,
          -8.28785313562409,
          -8.28785313562409,
          -8.28785313562409,
          -8.28785313562409,
          -8.263058914838442,
          -8.28785313562409,
          -8.28785313562409,
          -8.28785313562409,
          -8.28785313562409,
          -8.210169323541546
         ]
        }
       ],
       "layout": {
        "autosize": true,
        "bargap": 0.2,
        "bargroupgap": 0.1,
        "barmode": "overlay",
        "showlegend": true,
        "template": {
         "data": {
          "bar": [
           {
            "error_x": {
             "color": "#2a3f5f"
            },
            "error_y": {
             "color": "#2a3f5f"
            },
            "marker": {
             "line": {
              "color": "#E5ECF6",
              "width": 0.5
             },
             "pattern": {
              "fillmode": "overlay",
              "size": 10,
              "solidity": 0.2
             }
            },
            "type": "bar"
           }
          ],
          "barpolar": [
           {
            "marker": {
             "line": {
              "color": "#E5ECF6",
              "width": 0.5
             },
             "pattern": {
              "fillmode": "overlay",
              "size": 10,
              "solidity": 0.2
             }
            },
            "type": "barpolar"
           }
          ],
          "carpet": [
           {
            "aaxis": {
             "endlinecolor": "#2a3f5f",
             "gridcolor": "white",
             "linecolor": "white",
             "minorgridcolor": "white",
             "startlinecolor": "#2a3f5f"
            },
            "baxis": {
             "endlinecolor": "#2a3f5f",
             "gridcolor": "white",
             "linecolor": "white",
             "minorgridcolor": "white",
             "startlinecolor": "#2a3f5f"
            },
            "type": "carpet"
           }
          ],
          "choropleth": [
           {
            "colorbar": {
             "outlinewidth": 0,
             "ticks": ""
            },
            "type": "choropleth"
           }
          ],
          "contour": [
           {
            "colorbar": {
             "outlinewidth": 0,
             "ticks": ""
            },
            "colorscale": [
             [
              0,
              "#0d0887"
             ],
             [
              0.1111111111111111,
              "#46039f"
             ],
             [
              0.2222222222222222,
              "#7201a8"
             ],
             [
              0.3333333333333333,
              "#9c179e"
             ],
             [
              0.4444444444444444,
              "#bd3786"
             ],
             [
              0.5555555555555556,
              "#d8576b"
             ],
             [
              0.6666666666666666,
              "#ed7953"
             ],
             [
              0.7777777777777778,
              "#fb9f3a"
             ],
             [
              0.8888888888888888,
              "#fdca26"
             ],
             [
              1,
              "#f0f921"
             ]
            ],
            "type": "contour"
           }
          ],
          "contourcarpet": [
           {
            "colorbar": {
             "outlinewidth": 0,
             "ticks": ""
            },
            "type": "contourcarpet"
           }
          ],
          "heatmap": [
           {
            "colorbar": {
             "outlinewidth": 0,
             "ticks": ""
            },
            "colorscale": [
             [
              0,
              "#0d0887"
             ],
             [
              0.1111111111111111,
              "#46039f"
             ],
             [
              0.2222222222222222,
              "#7201a8"
             ],
             [
              0.3333333333333333,
              "#9c179e"
             ],
             [
              0.4444444444444444,
              "#bd3786"
             ],
             [
              0.5555555555555556,
              "#d8576b"
             ],
             [
              0.6666666666666666,
              "#ed7953"
             ],
             [
              0.7777777777777778,
              "#fb9f3a"
             ],
             [
              0.8888888888888888,
              "#fdca26"
             ],
             [
              1,
              "#f0f921"
             ]
            ],
            "type": "heatmap"
           }
          ],
          "heatmapgl": [
           {
            "colorbar": {
             "outlinewidth": 0,
             "ticks": ""
            },
            "colorscale": [
             [
              0,
              "#0d0887"
             ],
             [
              0.1111111111111111,
              "#46039f"
             ],
             [
              0.2222222222222222,
              "#7201a8"
             ],
             [
              0.3333333333333333,
              "#9c179e"
             ],
             [
              0.4444444444444444,
              "#bd3786"
             ],
             [
              0.5555555555555556,
              "#d8576b"
             ],
             [
              0.6666666666666666,
              "#ed7953"
             ],
             [
              0.7777777777777778,
              "#fb9f3a"
             ],
             [
              0.8888888888888888,
              "#fdca26"
             ],
             [
              1,
              "#f0f921"
             ]
            ],
            "type": "heatmapgl"
           }
          ],
          "histogram": [
           {
            "marker": {
             "pattern": {
              "fillmode": "overlay",
              "size": 10,
              "solidity": 0.2
             }
            },
            "type": "histogram"
           }
          ],
          "histogram2d": [
           {
            "colorbar": {
             "outlinewidth": 0,
             "ticks": ""
            },
            "colorscale": [
             [
              0,
              "#0d0887"
             ],
             [
              0.1111111111111111,
              "#46039f"
             ],
             [
              0.2222222222222222,
              "#7201a8"
             ],
             [
              0.3333333333333333,
              "#9c179e"
             ],
             [
              0.4444444444444444,
              "#bd3786"
             ],
             [
              0.5555555555555556,
              "#d8576b"
             ],
             [
              0.6666666666666666,
              "#ed7953"
             ],
             [
              0.7777777777777778,
              "#fb9f3a"
             ],
             [
              0.8888888888888888,
              "#fdca26"
             ],
             [
              1,
              "#f0f921"
             ]
            ],
            "type": "histogram2d"
           }
          ],
          "histogram2dcontour": [
           {
            "colorbar": {
             "outlinewidth": 0,
             "ticks": ""
            },
            "colorscale": [
             [
              0,
              "#0d0887"
             ],
             [
              0.1111111111111111,
              "#46039f"
             ],
             [
              0.2222222222222222,
              "#7201a8"
             ],
             [
              0.3333333333333333,
              "#9c179e"
             ],
             [
              0.4444444444444444,
              "#bd3786"
             ],
             [
              0.5555555555555556,
              "#d8576b"
             ],
             [
              0.6666666666666666,
              "#ed7953"
             ],
             [
              0.7777777777777778,
              "#fb9f3a"
             ],
             [
              0.8888888888888888,
              "#fdca26"
             ],
             [
              1,
              "#f0f921"
             ]
            ],
            "type": "histogram2dcontour"
           }
          ],
          "mesh3d": [
           {
            "colorbar": {
             "outlinewidth": 0,
             "ticks": ""
            },
            "type": "mesh3d"
           }
          ],
          "parcoords": [
           {
            "line": {
             "colorbar": {
              "outlinewidth": 0,
              "ticks": ""
             }
            },
            "type": "parcoords"
           }
          ],
          "pie": [
           {
            "automargin": true,
            "type": "pie"
           }
          ],
          "scatter": [
           {
            "marker": {
             "colorbar": {
              "outlinewidth": 0,
              "ticks": ""
             }
            },
            "type": "scatter"
           }
          ],
          "scatter3d": [
           {
            "line": {
             "colorbar": {
              "outlinewidth": 0,
              "ticks": ""
             }
            },
            "marker": {
             "colorbar": {
              "outlinewidth": 0,
              "ticks": ""
             }
            },
            "type": "scatter3d"
           }
          ],
          "scattercarpet": [
           {
            "marker": {
             "colorbar": {
              "outlinewidth": 0,
              "ticks": ""
             }
            },
            "type": "scattercarpet"
           }
          ],
          "scattergeo": [
           {
            "marker": {
             "colorbar": {
              "outlinewidth": 0,
              "ticks": ""
             }
            },
            "type": "scattergeo"
           }
          ],
          "scattergl": [
           {
            "marker": {
             "colorbar": {
              "outlinewidth": 0,
              "ticks": ""
             }
            },
            "type": "scattergl"
           }
          ],
          "scattermapbox": [
           {
            "marker": {
             "colorbar": {
              "outlinewidth": 0,
              "ticks": ""
             }
            },
            "type": "scattermapbox"
           }
          ],
          "scatterpolar": [
           {
            "marker": {
             "colorbar": {
              "outlinewidth": 0,
              "ticks": ""
             }
            },
            "type": "scatterpolar"
           }
          ],
          "scatterpolargl": [
           {
            "marker": {
             "colorbar": {
              "outlinewidth": 0,
              "ticks": ""
             }
            },
            "type": "scatterpolargl"
           }
          ],
          "scatterternary": [
           {
            "marker": {
             "colorbar": {
              "outlinewidth": 0,
              "ticks": ""
             }
            },
            "type": "scatterternary"
           }
          ],
          "surface": [
           {
            "colorbar": {
             "outlinewidth": 0,
             "ticks": ""
            },
            "colorscale": [
             [
              0,
              "#0d0887"
             ],
             [
              0.1111111111111111,
              "#46039f"
             ],
             [
              0.2222222222222222,
              "#7201a8"
             ],
             [
              0.3333333333333333,
              "#9c179e"
             ],
             [
              0.4444444444444444,
              "#bd3786"
             ],
             [
              0.5555555555555556,
              "#d8576b"
             ],
             [
              0.6666666666666666,
              "#ed7953"
             ],
             [
              0.7777777777777778,
              "#fb9f3a"
             ],
             [
              0.8888888888888888,
              "#fdca26"
             ],
             [
              1,
              "#f0f921"
             ]
            ],
            "type": "surface"
           }
          ],
          "table": [
           {
            "cells": {
             "fill": {
              "color": "#EBF0F8"
             },
             "line": {
              "color": "white"
             }
            },
            "header": {
             "fill": {
              "color": "#C8D4E3"
             },
             "line": {
              "color": "white"
             }
            },
            "type": "table"
           }
          ]
         },
         "layout": {
          "annotationdefaults": {
           "arrowcolor": "#2a3f5f",
           "arrowhead": 0,
           "arrowwidth": 1
          },
          "autotypenumbers": "strict",
          "coloraxis": {
           "colorbar": {
            "outlinewidth": 0,
            "ticks": ""
           }
          },
          "colorscale": {
           "diverging": [
            [
             0,
             "#8e0152"
            ],
            [
             0.1,
             "#c51b7d"
            ],
            [
             0.2,
             "#de77ae"
            ],
            [
             0.3,
             "#f1b6da"
            ],
            [
             0.4,
             "#fde0ef"
            ],
            [
             0.5,
             "#f7f7f7"
            ],
            [
             0.6,
             "#e6f5d0"
            ],
            [
             0.7,
             "#b8e186"
            ],
            [
             0.8,
             "#7fbc41"
            ],
            [
             0.9,
             "#4d9221"
            ],
            [
             1,
             "#276419"
            ]
           ],
           "sequential": [
            [
             0,
             "#0d0887"
            ],
            [
             0.1111111111111111,
             "#46039f"
            ],
            [
             0.2222222222222222,
             "#7201a8"
            ],
            [
             0.3333333333333333,
             "#9c179e"
            ],
            [
             0.4444444444444444,
             "#bd3786"
            ],
            [
             0.5555555555555556,
             "#d8576b"
            ],
            [
             0.6666666666666666,
             "#ed7953"
            ],
            [
             0.7777777777777778,
             "#fb9f3a"
            ],
            [
             0.8888888888888888,
             "#fdca26"
            ],
            [
             1,
             "#f0f921"
            ]
           ],
           "sequentialminus": [
            [
             0,
             "#0d0887"
            ],
            [
             0.1111111111111111,
             "#46039f"
            ],
            [
             0.2222222222222222,
             "#7201a8"
            ],
            [
             0.3333333333333333,
             "#9c179e"
            ],
            [
             0.4444444444444444,
             "#bd3786"
            ],
            [
             0.5555555555555556,
             "#d8576b"
            ],
            [
             0.6666666666666666,
             "#ed7953"
            ],
            [
             0.7777777777777778,
             "#fb9f3a"
            ],
            [
             0.8888888888888888,
             "#fdca26"
            ],
            [
             1,
             "#f0f921"
            ]
           ]
          },
          "colorway": [
           "#636efa",
           "#EF553B",
           "#00cc96",
           "#ab63fa",
           "#FFA15A",
           "#19d3f3",
           "#FF6692",
           "#B6E880",
           "#FF97FF",
           "#FECB52"
          ],
          "font": {
           "color": "#2a3f5f"
          },
          "geo": {
           "bgcolor": "white",
           "lakecolor": "white",
           "landcolor": "#E5ECF6",
           "showlakes": true,
           "showland": true,
           "subunitcolor": "white"
          },
          "hoverlabel": {
           "align": "left"
          },
          "hovermode": "closest",
          "mapbox": {
           "style": "light"
          },
          "paper_bgcolor": "white",
          "plot_bgcolor": "#E5ECF6",
          "polar": {
           "angularaxis": {
            "gridcolor": "white",
            "linecolor": "white",
            "ticks": ""
           },
           "bgcolor": "#E5ECF6",
           "radialaxis": {
            "gridcolor": "white",
            "linecolor": "white",
            "ticks": ""
           }
          },
          "scene": {
           "xaxis": {
            "backgroundcolor": "#E5ECF6",
            "gridcolor": "white",
            "gridwidth": 2,
            "linecolor": "white",
            "showbackground": true,
            "ticks": "",
            "zerolinecolor": "white"
           },
           "yaxis": {
            "backgroundcolor": "#E5ECF6",
            "gridcolor": "white",
            "gridwidth": 2,
            "linecolor": "white",
            "showbackground": true,
            "ticks": "",
            "zerolinecolor": "white"
           },
           "zaxis": {
            "backgroundcolor": "#E5ECF6",
            "gridcolor": "white",
            "gridwidth": 2,
            "linecolor": "white",
            "showbackground": true,
            "ticks": "",
            "zerolinecolor": "white"
           }
          },
          "shapedefaults": {
           "line": {
            "color": "#2a3f5f"
           }
          },
          "ternary": {
           "aaxis": {
            "gridcolor": "white",
            "linecolor": "white",
            "ticks": ""
           },
           "baxis": {
            "gridcolor": "white",
            "linecolor": "white",
            "ticks": ""
           },
           "bgcolor": "#E5ECF6",
           "caxis": {
            "gridcolor": "white",
            "linecolor": "white",
            "ticks": ""
           }
          },
          "title": {
           "x": 0.05
          },
          "xaxis": {
           "automargin": true,
           "gridcolor": "white",
           "linecolor": "white",
           "ticks": "",
           "title": {
            "standoff": 15
           },
           "zerolinecolor": "white",
           "zerolinewidth": 2
          },
          "yaxis": {
           "automargin": true,
           "gridcolor": "white",
           "linecolor": "white",
           "ticks": "",
           "title": {
            "standoff": 15
           },
           "zerolinecolor": "white",
           "zerolinewidth": 2
          }
         }
        },
        "title": {
         "text": "Distribution for S = (3,0) and N = 50"
        },
        "xaxis": {
         "range": [
          -9.999734386011127,
          -7.4835528299542915
         ],
         "title": {
          "text": "G/R"
         },
         "type": "linear"
        },
        "yaxis": {
         "autorange": true,
         "range": [
          -0.135342369280042,
          2.571505016320798
         ],
         "title": {
          "text": "Count"
         },
         "type": "log"
        }
       }
      },
      "image/png": "[encoded data removed]",
      "text/html": [
       "<div>                            <div id=\"9e3d3cc6-46fa-48f0-b38a-96792199f24f\" class=\"plotly-graph-div\" style=\"height:525px; width:100%;\"></div>            <script type=\"text/javascript\">                require([\"plotly\"], function(Plotly) {                    window.PLOTLYENV=window.PLOTLYENV || {};                                    if (document.getElementById(\"9e3d3cc6-46fa-48f0-b38a-96792199f24f\")) {                    Plotly.newPlot(                        \"9e3d3cc6-46fa-48f0-b38a-96792199f24f\",                        [{\"name\":\"MC\",\"opacity\":0.75,\"type\":\"histogram\",\"x\":[-9.999734386011127,-9.999734386011127,-9.999734386011127,-9.999734386011127,-9.999734386011127,-9.999734386011127,-9.999734386011127,-9.999734386011127,-9.999734386011127,-9.999734386011127,-9.999734386011127,-9.999734386011127,-9.95407986290278,-9.999734386011127,-9.999734386011127,-9.999734386011127,-9.999734386011127,-9.999734386011127,-9.799271960054593,-9.972884618245464,-9.999734386011127,-9.999734386011127,-9.999734386011127,-9.999068943523886,-9.999734386011127,-9.999245844254348,-9.999734386011127,-9.999734386011127,-9.999734386011127,-9.999734386011127,-9.999734386011127,-9.819344764049134,-9.999734386011127,-9.997837102444771,-9.999734386011127,-9.999734386011127,-9.999734386011127,-9.999734386011127,-9.999734386011127,-9.983988638227766,-9.999734386011127,-9.999734386011127,-9.999734386011127,-9.999734386011127,-9.999734386011127,-9.999734386011127,-9.999162049171497,-9.999734386011127,-9.999734386011127,-7.4835528299542915,-9.999734386011127,-9.999734386011127,-9.999734386011127,-9.999734386011127,-7.961677792262976,-9.999734386011127,-9.999734386011127,-9.533697258972625,-9.999734386011127,-9.999734386011127,-9.999734386011127,-9.999734386011127,-9.999734386011127,-9.999734386011127,-9.999734386011127,-9.999734386011127,-9.999734386011127,-9.999734386011127,-9.999734386011127,-9.999675360680266,-9.999734386011127,-7.4835528299542915,-9.999734386011127,-9.999734386011127,-9.999734386011127,-9.999734386011127,-9.999734386011127,-9.999734386011127,-9.999734386011127,-9.998965492804318,-9.999734386011127,-9.999734386011127,-9.999734386011127,-9.999734386011127,-9.999734386011127,-9.999734386011127,-9.999734386011127,-9.999734386011127,-9.999734386011127,-9.999734386011127,-9.999734386011127,-9.999734386011127,-9.999734386011127,-9.999734386011127,-9.999734386011127,-9.999734386011127,-9.999734386011127,-9.999734386011127,-9.999734386011127,-9.999734386011127,-9.975596156420918,-9.999734386011127,-9.999734386011127,-9.990545450987113,-9.999734386011127,-9.937009414132756,-9.999734386011127,-9.999734386011127,-9.999734386011127,-9.999734386011127,-9.999734386011127,-9.999734386011127,-9.694058771611939,-9.999734386011127,-9.999734386011127,-9.999734386011127,-9.999734386011127,-9.999734386011127,-9.999734386011127,-9.999734386011127,-9.999734386011127,-9.999734386011127,-9.999734386011127,-9.999734386011127,-9.999734386011127,-9.999734386011127,-9.999734386011127,-8.796391119553366,-7.7351975469588625,-9.999734386011127,-9.999734386011127,-9.999734386011127,-9.999734386011127,-9.999734386011127,-9.999734386011127,-9.999734386011127,-8.66265679950374,-9.999734386011127,-9.999734386011127,-9.999734386011127,-9.999734386011127,-9.999734386011127,-9.999734386011127,-9.999734386011127,-9.999734386011127,-9.999734386011127,-9.999734386011127,-9.999734386011127,-9.999734386011127,-9.999321259828914,-9.999734386011127,-8.165510013036679,-9.999734386011127,-9.999734386011127,-9.999734386011127,-9.999734386011127,-9.999734386011127,-9.999734386011127,-9.999734386011127,-9.999734386011127,-9.999734386011127,-9.999734386011127,-9.999734386011127,-9.999734386011127,-9.903992400751036,-9.999734386011127,-9.999734386011127,-9.999734386011127,-9.999734386011127,-9.999734386011127,-9.999734386011127,-9.999068943523886,-7.961677792262976,-9.999734386011127,-9.999734386011127,-9.999734386011127,-9.999734386011127,-9.999734386011127,-9.999734386011127,-9.983988638227766,-9.999734386011127,-9.999734386011127,-9.999734386011127,-9.999734386011127,-9.999734386011127,-7.4835528299542915,-9.999734386011127,-9.999734386011127,-9.776968844505104,-9.999734386011127,-9.999734386011127,-9.999734386011127,-9.999734386011127,-9.999734386011127,-9.999734386011127,-9.999734386011127,-9.991490905888403,-9.999734386011127,-9.999734386011127,-9.999734386011127,-9.999734386011127,-9.999734386011127,-9.999734386011127,-7.4835528299542915,-9.999734386011127,-9.999734386011127,-9.999734386011127,-9.999734386011127,-9.999734386011127,-9.999734386011127,-9.999734386011127,-9.999734386011127,-9.999734386011127,-9.999734386011127,-9.999734386011127,-9.999734386011127,-9.999734386011127,-9.999734386011127,-9.999734386011127,-9.999734386011127,-9.999734386011127,-9.999734386011127,-9.943308472719481,-9.999734386011127,-9.999734386011127,-9.999734386011127,-9.999734386011127,-9.999734386011127,-9.999734386011127,-9.999734386011127,-9.999734386011127,-9.999734386011127,-9.999734386011127,-9.999734386011127,-9.999734386011127,-8.66265679950374,-9.999734386011127,-9.999734386011127,-9.999734386011127,-9.998248052980266,-8.348959011733012,-9.999734386011127,-9.999734386011127,-9.999734386011127,-9.999734386011127,-9.999734386011127,-9.999734386011127,-9.999734386011127,-9.999734386011127,-7.961677792262976,-9.999734386011127,-9.360352892966562,-9.999734386011127,-9.999734386011127,-9.999734386011127,-9.972884618245464,-9.999734386011127,-9.972884618245464,-9.999734386011127,-7.7351975469588625,-9.999734386011127,-9.999734386011127,-9.999734386011127,-9.999734386011127,-9.999734386011127,-9.999734386011127,-9.999734386011127,-9.999734386011127,-9.999734386011127,-9.999734386011127,-9.999734386011127,-9.999734386011127,-9.999734386011127,-9.999734386011127,-9.999734386011127,-9.999734386011127,-9.999734386011127,-9.999734386011127,-9.999734386011127,-9.999734386011127,-9.998580922914016,-9.999734386011127,-9.99963928964474,-8.165510013036679,-9.999734386011127,-9.999734386011127,-9.999734386011127,-9.999734386011127,-9.999734386011127,-9.999734386011127,-9.999734386011127,-9.999734386011127,-9.999734386011127,-9.999734386011127,-9.025076806838227,-9.999734386011127,-9.999734386011127,-8.348959011733012,-7.4835528299542915,-9.999734386011127]},{\"name\":\"TD(0)\",\"opacity\":0.75,\"type\":\"histogram\",\"x\":[-7.651376043380097,-7.651376043380097,-7.651376043380097,-7.651376043380097,-7.651376043380097,-7.651376043380097,-7.651376043380097,-7.651376043380097,-7.651376043380097,-7.651376043380097,-7.651376043380097,-7.651376043380097,-7.651376043380097,-7.651376043380097,-7.651376043380097,-7.651376043380097,-7.651376043380097,-7.651376043380097,-7.651376043380097,-7.651376043380097,-7.651376043380097,-7.651376043380097,-7.651376043380097,-7.651376043380097,-7.651376043380097,-7.651376043380097,-7.651376043380097,-7.651376043380097,-7.651376043380097,-7.651376043380097,-7.651376043380097,-7.651376043380097,-7.651376043380097,-7.651376043380097,-7.651376043380097,-7.651376043380097,-7.651376043380097,-7.651376043380097,-7.651376043380097,-7.651376043380097,-7.651376043380097,-7.651376043380097,-7.715891593981981,-7.651376043380097,-7.651376043380097,-7.74404346648938,-7.651376043380097,-7.651376043380097,-7.715891593981981,-7.651376043380097,-7.651376043380097,-7.651376043380097,-7.651376043380097,-7.651376043380097,-7.74404346648938,-7.715891593981981,-7.651376043380097,-7.651376043380097,-7.651376043380097,-7.651376043380097,-7.651376043380097,-7.651376043380097,-7.651376043380097,-7.651376043380097,-7.651376043380097,-7.651376043380097,-7.651376043380097,-7.651376043380097,-7.651376043380097,-7.651376043380097,-7.651376043380097,-7.651376043380097,-7.651376043380097,-7.651376043380097,-7.651376043380097,-7.651376043380097,-7.651376043380097,-7.651376043380097,-7.651376043380097,-7.651376043380097,-7.651376043380097,-7.651376043380097,-7.651376043380097,-7.651376043380097,-7.651376043380097,-7.651376043380097,-7.651376043380097,-7.651376043380097,-7.651376043380097,-7.651376043380097,-7.651376043380097,-7.651376043380097,-7.651376043380097,-7.651376043380097,-7.651376043380097,-7.651376043380097,-7.651376043380097,-7.651376043380097,-7.651376043380097,-7.651376043380097]},{\"name\":\"N-step 4\",\"opacity\":0.75,\"type\":\"histogram\",\"x\":[-8.28785313562409,-8.28785313562409,-8.28785313562409,-8.28785313562409,-8.355407687070759,-8.28785313562409,-8.28785313562409,-8.334884972012865,-8.28785313562409,-8.28785313562409,-8.28785313562409,-8.28785313562409,-8.334884972012865,-8.252821818085486,-8.28785313562409,-8.28785313562409,-8.28785313562409,-8.32362255924565,-8.28785313562409,-8.28785313562409,-8.28785313562409,-8.252821818085486,-8.28785313562409,-8.28785313562409,-8.28785313562409,-8.28785313562409,-8.28785313562409,-8.28785313562409,-8.28785313562409,-8.28785313562409,-8.28785313562409,-8.28785313562409,-8.28785313562409,-8.32362255924565,-8.28785313562409,-8.210169323541546,-8.28785313562409,-8.28785313562409,-8.28785313562409,-8.28785313562409,-8.28785313562409,-8.28785313562409,-8.28785313562409,-8.28785313562409,-8.28785313562409,-8.28785313562409,-8.28785313562409,-8.28785313562409,-8.210169323541546,-8.28785313562409,-8.28785313562409,-8.210169323541546,-8.28785313562409,-8.28785313562409,-8.28785313562409,-8.28785313562409,-8.28785313562409,-8.28785313562409,-8.28785313562409,-8.334884972012865,-8.43150175429587,-8.28785313562409,-8.28785313562409,-8.28785313562409,-8.28785313562409,-8.263058914838442,-8.28785313562409,-8.28785313562409,-8.28785313562409,-8.28785313562409,-8.28785313562409,-8.28785313562409,-8.334884972012865,-8.43150175429587,-8.28785313562409,-8.28785313562409,-8.28785313562409,-8.28785313562409,-8.28785313562409,-8.43150175429587,-8.28785313562409,-8.28785313562409,-8.28785313562409,-8.28785313562409,-8.28785313562409,-8.28785313562409,-8.28785313562409,-8.28785313562409,-8.28785313562409,-8.28785313562409,-8.28785313562409,-8.28785313562409,-8.28785313562409,-8.28785313562409,-8.263058914838442,-8.28785313562409,-8.28785313562409,-8.28785313562409,-8.28785313562409,-8.210169323541546]}],                        {\"bargap\":0.2,\"bargroupgap\":0.1,\"barmode\":\"overlay\",\"showlegend\":true,\"template\":{\"data\":{\"bar\":[{\"error_x\":{\"color\":\"#2a3f5f\"},\"error_y\":{\"color\":\"#2a3f5f\"},\"marker\":{\"line\":{\"color\":\"#E5ECF6\",\"width\":0.5},\"pattern\":{\"fillmode\":\"overlay\",\"size\":10,\"solidity\":0.2}},\"type\":\"bar\"}],\"barpolar\":[{\"marker\":{\"line\":{\"color\":\"#E5ECF6\",\"width\":0.5},\"pattern\":{\"fillmode\":\"overlay\",\"size\":10,\"solidity\":0.2}},\"type\":\"barpolar\"}],\"carpet\":[{\"aaxis\":{\"endlinecolor\":\"#2a3f5f\",\"gridcolor\":\"white\",\"linecolor\":\"white\",\"minorgridcolor\":\"white\",\"startlinecolor\":\"#2a3f5f\"},\"baxis\":{\"endlinecolor\":\"#2a3f5f\",\"gridcolor\":\"white\",\"linecolor\":\"white\",\"minorgridcolor\":\"white\",\"startlinecolor\":\"#2a3f5f\"},\"type\":\"carpet\"}],\"choropleth\":[{\"colorbar\":{\"outlinewidth\":0,\"ticks\":\"\"},\"type\":\"choropleth\"}],\"contour\":[{\"colorbar\":{\"outlinewidth\":0,\"ticks\":\"\"},\"colorscale\":[[0.0,\"#0d0887\"],[0.1111111111111111,\"#46039f\"],[0.2222222222222222,\"#7201a8\"],[0.3333333333333333,\"#9c179e\"],[0.4444444444444444,\"#bd3786\"],[0.5555555555555556,\"#d8576b\"],[0.6666666666666666,\"#ed7953\"],[0.7777777777777778,\"#fb9f3a\"],[0.8888888888888888,\"#fdca26\"],[1.0,\"#f0f921\"]],\"type\":\"contour\"}],\"contourcarpet\":[{\"colorbar\":{\"outlinewidth\":0,\"ticks\":\"\"},\"type\":\"contourcarpet\"}],\"heatmap\":[{\"colorbar\":{\"outlinewidth\":0,\"ticks\":\"\"},\"colorscale\":[[0.0,\"#0d0887\"],[0.1111111111111111,\"#46039f\"],[0.2222222222222222,\"#7201a8\"],[0.3333333333333333,\"#9c179e\"],[0.4444444444444444,\"#bd3786\"],[0.5555555555555556,\"#d8576b\"],[0.6666666666666666,\"#ed7953\"],[0.7777777777777778,\"#fb9f3a\"],[0.8888888888888888,\"#fdca26\"],[1.0,\"#f0f921\"]],\"type\":\"heatmap\"}],\"heatmapgl\":[{\"colorbar\":{\"outlinewidth\":0,\"ticks\":\"\"},\"colorscale\":[[0.0,\"#0d0887\"],[0.1111111111111111,\"#46039f\"],[0.2222222222222222,\"#7201a8\"],[0.3333333333333333,\"#9c179e\"],[0.4444444444444444,\"#bd3786\"],[0.5555555555555556,\"#d8576b\"],[0.6666666666666666,\"#ed7953\"],[0.7777777777777778,\"#fb9f3a\"],[0.8888888888888888,\"#fdca26\"],[1.0,\"#f0f921\"]],\"type\":\"heatmapgl\"}],\"histogram\":[{\"marker\":{\"pattern\":{\"fillmode\":\"overlay\",\"size\":10,\"solidity\":0.2}},\"type\":\"histogram\"}],\"histogram2d\":[{\"colorbar\":{\"outlinewidth\":0,\"ticks\":\"\"},\"colorscale\":[[0.0,\"#0d0887\"],[0.1111111111111111,\"#46039f\"],[0.2222222222222222,\"#7201a8\"],[0.3333333333333333,\"#9c179e\"],[0.4444444444444444,\"#bd3786\"],[0.5555555555555556,\"#d8576b\"],[0.6666666666666666,\"#ed7953\"],[0.7777777777777778,\"#fb9f3a\"],[0.8888888888888888,\"#fdca26\"],[1.0,\"#f0f921\"]],\"type\":\"histogram2d\"}],\"histogram2dcontour\":[{\"colorbar\":{\"outlinewidth\":0,\"ticks\":\"\"},\"colorscale\":[[0.0,\"#0d0887\"],[0.1111111111111111,\"#46039f\"],[0.2222222222222222,\"#7201a8\"],[0.3333333333333333,\"#9c179e\"],[0.4444444444444444,\"#bd3786\"],[0.5555555555555556,\"#d8576b\"],[0.6666666666666666,\"#ed7953\"],[0.7777777777777778,\"#fb9f3a\"],[0.8888888888888888,\"#fdca26\"],[1.0,\"#f0f921\"]],\"type\":\"histogram2dcontour\"}],\"mesh3d\":[{\"colorbar\":{\"outlinewidth\":0,\"ticks\":\"\"},\"type\":\"mesh3d\"}],\"parcoords\":[{\"line\":{\"colorbar\":{\"outlinewidth\":0,\"ticks\":\"\"}},\"type\":\"parcoords\"}],\"pie\":[{\"automargin\":true,\"type\":\"pie\"}],\"scatter\":[{\"marker\":{\"colorbar\":{\"outlinewidth\":0,\"ticks\":\"\"}},\"type\":\"scatter\"}],\"scatter3d\":[{\"line\":{\"colorbar\":{\"outlinewidth\":0,\"ticks\":\"\"}},\"marker\":{\"colorbar\":{\"outlinewidth\":0,\"ticks\":\"\"}},\"type\":\"scatter3d\"}],\"scattercarpet\":[{\"marker\":{\"colorbar\":{\"outlinewidth\":0,\"ticks\":\"\"}},\"type\":\"scattercarpet\"}],\"scattergeo\":[{\"marker\":{\"colorbar\":{\"outlinewidth\":0,\"ticks\":\"\"}},\"type\":\"scattergeo\"}],\"scattergl\":[{\"marker\":{\"colorbar\":{\"outlinewidth\":0,\"ticks\":\"\"}},\"type\":\"scattergl\"}],\"scattermapbox\":[{\"marker\":{\"colorbar\":{\"outlinewidth\":0,\"ticks\":\"\"}},\"type\":\"scattermapbox\"}],\"scatterpolar\":[{\"marker\":{\"colorbar\":{\"outlinewidth\":0,\"ticks\":\"\"}},\"type\":\"scatterpolar\"}],\"scatterpolargl\":[{\"marker\":{\"colorbar\":{\"outlinewidth\":0,\"ticks\":\"\"}},\"type\":\"scatterpolargl\"}],\"scatterternary\":[{\"marker\":{\"colorbar\":{\"outlinewidth\":0,\"ticks\":\"\"}},\"type\":\"scatterternary\"}],\"surface\":[{\"colorbar\":{\"outlinewidth\":0,\"ticks\":\"\"},\"colorscale\":[[0.0,\"#0d0887\"],[0.1111111111111111,\"#46039f\"],[0.2222222222222222,\"#7201a8\"],[0.3333333333333333,\"#9c179e\"],[0.4444444444444444,\"#bd3786\"],[0.5555555555555556,\"#d8576b\"],[0.6666666666666666,\"#ed7953\"],[0.7777777777777778,\"#fb9f3a\"],[0.8888888888888888,\"#fdca26\"],[1.0,\"#f0f921\"]],\"type\":\"surface\"}],\"table\":[{\"cells\":{\"fill\":{\"color\":\"#EBF0F8\"},\"line\":{\"color\":\"white\"}},\"header\":{\"fill\":{\"color\":\"#C8D4E3\"},\"line\":{\"color\":\"white\"}},\"type\":\"table\"}]},\"layout\":{\"annotationdefaults\":{\"arrowcolor\":\"#2a3f5f\",\"arrowhead\":0,\"arrowwidth\":1},\"autotypenumbers\":\"strict\",\"coloraxis\":{\"colorbar\":{\"outlinewidth\":0,\"ticks\":\"\"}},\"colorscale\":{\"diverging\":[[0,\"#8e0152\"],[0.1,\"#c51b7d\"],[0.2,\"#de77ae\"],[0.3,\"#f1b6da\"],[0.4,\"#fde0ef\"],[0.5,\"#f7f7f7\"],[0.6,\"#e6f5d0\"],[0.7,\"#b8e186\"],[0.8,\"#7fbc41\"],[0.9,\"#4d9221\"],[1,\"#276419\"]],\"sequential\":[[0.0,\"#0d0887\"],[0.1111111111111111,\"#46039f\"],[0.2222222222222222,\"#7201a8\"],[0.3333333333333333,\"#9c179e\"],[0.4444444444444444,\"#bd3786\"],[0.5555555555555556,\"#d8576b\"],[0.6666666666666666,\"#ed7953\"],[0.7777777777777778,\"#fb9f3a\"],[0.8888888888888888,\"#fdca26\"],[1.0,\"#f0f921\"]],\"sequentialminus\":[[0.0,\"#0d0887\"],[0.1111111111111111,\"#46039f\"],[0.2222222222222222,\"#7201a8\"],[0.3333333333333333,\"#9c179e\"],[0.4444444444444444,\"#bd3786\"],[0.5555555555555556,\"#d8576b\"],[0.6666666666666666,\"#ed7953\"],[0.7777777777777778,\"#fb9f3a\"],[0.8888888888888888,\"#fdca26\"],[1.0,\"#f0f921\"]]},\"colorway\":[\"#636efa\",\"#EF553B\",\"#00cc96\",\"#ab63fa\",\"#FFA15A\",\"#19d3f3\",\"#FF6692\",\"#B6E880\",\"#FF97FF\",\"#FECB52\"],\"font\":{\"color\":\"#2a3f5f\"},\"geo\":{\"bgcolor\":\"white\",\"lakecolor\":\"white\",\"landcolor\":\"#E5ECF6\",\"showlakes\":true,\"showland\":true,\"subunitcolor\":\"white\"},\"hoverlabel\":{\"align\":\"left\"},\"hovermode\":\"closest\",\"mapbox\":{\"style\":\"light\"},\"paper_bgcolor\":\"white\",\"plot_bgcolor\":\"#E5ECF6\",\"polar\":{\"angularaxis\":{\"gridcolor\":\"white\",\"linecolor\":\"white\",\"ticks\":\"\"},\"bgcolor\":\"#E5ECF6\",\"radialaxis\":{\"gridcolor\":\"white\",\"linecolor\":\"white\",\"ticks\":\"\"}},\"scene\":{\"xaxis\":{\"backgroundcolor\":\"#E5ECF6\",\"gridcolor\":\"white\",\"gridwidth\":2,\"linecolor\":\"white\",\"showbackground\":true,\"ticks\":\"\",\"zerolinecolor\":\"white\"},\"yaxis\":{\"backgroundcolor\":\"#E5ECF6\",\"gridcolor\":\"white\",\"gridwidth\":2,\"linecolor\":\"white\",\"showbackground\":true,\"ticks\":\"\",\"zerolinecolor\":\"white\"},\"zaxis\":{\"backgroundcolor\":\"#E5ECF6\",\"gridcolor\":\"white\",\"gridwidth\":2,\"linecolor\":\"white\",\"showbackground\":true,\"ticks\":\"\",\"zerolinecolor\":\"white\"}},\"shapedefaults\":{\"line\":{\"color\":\"#2a3f5f\"}},\"ternary\":{\"aaxis\":{\"gridcolor\":\"white\",\"linecolor\":\"white\",\"ticks\":\"\"},\"baxis\":{\"gridcolor\":\"white\",\"linecolor\":\"white\",\"ticks\":\"\"},\"bgcolor\":\"#E5ECF6\",\"caxis\":{\"gridcolor\":\"white\",\"linecolor\":\"white\",\"ticks\":\"\"}},\"title\":{\"x\":0.05},\"xaxis\":{\"automargin\":true,\"gridcolor\":\"white\",\"linecolor\":\"white\",\"ticks\":\"\",\"title\":{\"standoff\":15},\"zerolinecolor\":\"white\",\"zerolinewidth\":2},\"yaxis\":{\"automargin\":true,\"gridcolor\":\"white\",\"linecolor\":\"white\",\"ticks\":\"\",\"title\":{\"standoff\":15},\"zerolinecolor\":\"white\",\"zerolinewidth\":2}}},\"title\":{\"text\":\"Distribution for S = (3,0) and N = 50\"},\"xaxis\":{\"range\":[-9.999734386011127,-7.4835528299542915],\"title\":{\"text\":\"G/R\"}},\"yaxis\":{\"title\":{\"text\":\"Count\"},\"type\":\"log\"}},                        {\"responsive\": true}                    ).then(function(){\n",
       "                            \n",
       "var gd = document.getElementById('9e3d3cc6-46fa-48f0-b38a-96792199f24f');\n",
       "var x = new MutationObserver(function (mutations, observer) {{\n",
       "        var display = window.getComputedStyle(gd).display;\n",
       "        if (!display || display === 'none') {{\n",
       "            console.log([gd, 'removed!']);\n",
       "            Plotly.purge(gd);\n",
       "            observer.disconnect();\n",
       "        }}\n",
       "}});\n",
       "\n",
       "// Listen for the removal of the full notebook cells\n",
       "var notebookContainer = gd.closest('#notebook-container');\n",
       "if (notebookContainer) {{\n",
       "    x.observe(notebookContainer, {childList: true});\n",
       "}}\n",
       "\n",
       "// Listen for the clearing of the current output cell\n",
       "var outputEl = gd.closest('.output');\n",
       "if (outputEl) {{\n",
       "    x.observe(outputEl, {childList: true});\n",
       "}}\n",
       "\n",
       "                        })                };                });            </script>        </div>"
      ]
     },
     "metadata": {},
     "output_type": "display_data"
    }
   ],
   "source": [
    "agent = Agent()\n",
    "agent.SARSA(N=100)\n",
    "plot_valuemap(agent.q)\n",
    "\n",
    "minimum = +np.Inf\n",
    "maximum = -np.Inf\n",
    "\n",
    "fig = go.Figure()\n",
    "\n",
    "print(\"Monte Carlo\")\n",
    "agent.MC()\n",
    "fig.add_trace(go.Histogram(x=agent.S, name='MC'))\n",
    "minimum = min(min(agent.S), minimum)\n",
    "maximum = max(max(agent.S), maximum)\n",
    "agent.empty_s()\n",
    "\n",
    "print(\"TD(0)\")\n",
    "agent.nstepSARSA(n=1)\n",
    "fig.add_trace(go.Histogram(x=agent.S, name='TD(0)'))\n",
    "minimum = min(min(agent.S), minimum)\n",
    "maximum = max(max(agent.S), maximum)\n",
    "agent.empty_s()\n",
    "\n",
    "print(\"N-step 4\")\n",
    "agent.nstepSARSA(n=4)\n",
    "fig.add_trace(go.Histogram(x=agent.S, name='N-step 4'))\n",
    "minimum = min(min(agent.S), minimum)\n",
    "maximum = max(max(agent.S), maximum)\n",
    "agent.empty_s()\n",
    "\n",
    "\n",
    "fig.update_layout(\n",
    "    title_text='Distribution for S = (3,0) and N = 50', # title of plot\n",
    "    xaxis_title_text='G/R', # xaxis label\n",
    "    yaxis_title_text='Count', # yaxis label\n",
    "    bargap=0.2, # gap between bars of adjacent location coordinates\n",
    "    bargroupgap=0.1, # gap between bars of the same location coordinates\n",
    "    showlegend=True,\n",
    "    barmode='overlay',\n",
    "    xaxis_range=[minimum,maximum]\n",
    "\n",
    ")\n",
    "\n",
    "# Reduce opacity to see both histograms\n",
    "fig.update_traces(opacity=0.75)\n",
    "fig.update_yaxes(type=\"log\")\n",
    "fig.show()"
   ]
  },
  {
   "cell_type": "code",
   "execution_count": null,
   "id": "capital-significance",
   "metadata": {},
   "outputs": [],
   "source": []
  }
 ],
 "metadata": {
  "kernelspec": {
   "display_name": "Python 3",
   "language": "python",
   "name": "python3"
  },
  "language_info": {
   "codemirror_mode": {
    "name": "ipython",
    "version": 3
   },
   "file_extension": ".py",
   "mimetype": "text/x-python",
   "name": "python",
   "nbconvert_exporter": "python",
   "pygments_lexer": "ipython3",
   "version": "3.7.4"
  }
 },
 "nbformat": 4,
 "nbformat_minor": 5
}
