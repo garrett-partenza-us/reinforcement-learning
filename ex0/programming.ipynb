{
 "cells": [
  {
   "cell_type": "code",
   "execution_count": 140,
   "id": "industrial-education",
   "metadata": {},
   "outputs": [],
   "source": [
    "import numpy as np\n",
    "from IPython.display import clear_output\n",
    "import time\n",
    "import random\n",
    "import matplotlib.pyplot as plt"
   ]
  },
  {
   "cell_type": "code",
   "execution_count": 141,
   "id": "front-burner",
   "metadata": {},
   "outputs": [],
   "source": [
    "class Environment:\n",
    "    \n",
    "    def __init__(self, rows, cols, walls):\n",
    "        \n",
    "        self.rows = rows\n",
    "        self.cols = cols\n",
    "        self.walls = walls\n",
    "        self.x = 0\n",
    "        self.y = 0\n",
    "        self.x_prev = 0\n",
    "        self.y_prev = 0\n",
    "        self.bank = 0\n",
    "        \n",
    "    def draw(self):\n",
    "        for row in range(self.rows):\n",
    "            for col in range(self.cols):\n",
    "                if ((self.rows-row-1, col)) in self.walls:\n",
    "                    print(\"{}   \".format(\"1\"), end=\"\")\n",
    "                elif ((self.rows-row-1, col)) == (self.rows-1, self.cols-1):\n",
    "                    print(\"{}   \".format(\"F\"), end=\"\")\n",
    "                elif ((self.rows-row-1, col)) == (self.x, self.y):\n",
    "                    print(\"{}   \".format(\"P\"), end=\"\")\n",
    "                else:\n",
    "                    print(\"{}   \".format(\"0\"), end=\"\")\n",
    "            print(\"\\n\")\n",
    "                        \n",
    "    def step(self, action):\n",
    "        slips = np.random.choice([True, False], p=[0.2, 0.8])\n",
    "        self.x_prev=self.x\n",
    "        self.y_prev=self.y\n",
    "        if action == \"LEFT\":\n",
    "            if slips:\n",
    "                self.x=self.x+np.random.choice([1, -1], p=[0.5, 0.5])\n",
    "            else:\n",
    "                self.y=self.y-1\n",
    "            self.correct()\n",
    "            return self.reward()\n",
    "        elif action == \"RIGHT\":\n",
    "            if slips:\n",
    "                self.x=self.x+np.random.choice([1, -1], p=[0.5, 0.5])\n",
    "            else:\n",
    "                self.y=self.y+1\n",
    "            self.correct()\n",
    "            return self.reward()\n",
    "        elif action == \"UP\":\n",
    "            if slips:\n",
    "                self.y=self.y+np.random.choice([1, -1], p=[0.5, 0.5])\n",
    "            else:\n",
    "                self.x=self.x+1\n",
    "            self.correct()\n",
    "            return self.reward()\n",
    "        elif action == \"DOWN\":\n",
    "            if slips:\n",
    "                self.y=self.y+np.random.choice([1, -1], p=[0.5, 0.5])\n",
    "            else:\n",
    "                self.x=self.x-1\n",
    "            self.correct()\n",
    "            return self.reward()\n",
    "        \n",
    "    def reward(self):\n",
    "        if ((self.rows-self.x-1, self.y)) == (self.rows-1, self.cols-1):\n",
    "            self.bank+=1\n",
    "            self.restart()\n",
    "            return 1\n",
    "        else:\n",
    "            return 0\n",
    "        \n",
    "    def correct(self):\n",
    "        if self.x<0:\n",
    "            self.x=self.x_prev\n",
    "        elif self.x==self.rows:\n",
    "            self.x=self.x_prev\n",
    "        elif self.y<0:\n",
    "            self.y=self.y_prev\n",
    "        elif self.y==self.cols:\n",
    "            self.y=self.y_prev\n",
    "        elif ((self.x, self.y)) in self.walls:\n",
    "            self.x=self.x_prev\n",
    "            self.y=self.y_prev\n",
    "            \n",
    "    def restart(self):\n",
    "        self.x = 0\n",
    "        self.y = 0\n",
    "        self.x_prev = 0\n",
    "        self.y_prev = 0\n",
    "        \n",
    "    def reset(self):\n",
    "        self.restart()\n",
    "        self.bank = 0"
   ]
  },
  {
   "cell_type": "code",
   "execution_count": 142,
   "id": "planned-nowhere",
   "metadata": {},
   "outputs": [],
   "source": [
    "ROWS = 11\n",
    "COLS = 11\n",
    "WALLS = [\n",
    "    (5, 0),\n",
    "    (5, 2),\n",
    "    (5, 3),\n",
    "    (5, 4),\n",
    "    (5, 5),\n",
    "    (4, 5),\n",
    "    (4, 6),\n",
    "    (4, 7),\n",
    "    (4, 9),\n",
    "    (4, 10),\n",
    "    (0, 5),\n",
    "    (2, 5),\n",
    "    (3, 5),\n",
    "    (6, 5),\n",
    "    (7, 5),\n",
    "    (9, 5),\n",
    "    (10, 5),\n",
    "]\n",
    "\n",
    "environment = Environment(rows=ROWS, cols=COLS, walls=WALLS)"
   ]
  },
  {
   "cell_type": "code",
   "execution_count": 143,
   "id": "formed-craps",
   "metadata": {},
   "outputs": [],
   "source": [
    "def run_interactive():\n",
    "    while True:\n",
    "        clear_output(wait=True)\n",
    "        environment.draw()\n",
    "        action = input()\n",
    "        environment.step(action)"
   ]
  },
  {
   "cell_type": "code",
   "execution_count": 144,
   "id": "solid-tyler",
   "metadata": {},
   "outputs": [],
   "source": [
    "def run_random():\n",
    "    environment.reset()\n",
    "    rewards = []\n",
    "    for trial in range(10):\n",
    "        temp = []\n",
    "        for step in range(10**4):\n",
    "            environment.step(random.choice([\"RIGHT\", \"LEFT\", \"UP\", \"DOWN\"]))\n",
    "            temp.append(environment.bank)\n",
    "        rewards.append(temp)\n",
    "        environment.reset()\n",
    "    return rewards"
   ]
  },
  {
   "cell_type": "code",
   "execution_count": 145,
   "id": "infinite-riverside",
   "metadata": {},
   "outputs": [],
   "source": [
    "def run_better():\n",
    "    environment.reset()\n",
    "    rewards = []\n",
    "    for trial in range(10):\n",
    "        temp = []\n",
    "        for step in range(10**4):\n",
    "            environment.step(np.random.choice([\"RIGHT\", \"LEFT\", \"UP\", \"DOWN\"], p=[0.4, 0.2, 0.2, 0.2]))\n",
    "            temp.append(environment.bank)\n",
    "        rewards.append(temp)\n",
    "        environment.reset()\n",
    "    return rewards"
   ]
  },
  {
   "cell_type": "code",
   "execution_count": 146,
   "id": "abandoned-flood",
   "metadata": {},
   "outputs": [],
   "source": [
    "def run_worse():\n",
    "    environment.reset()\n",
    "    rewards = []\n",
    "    for trial in range(10):\n",
    "        temp = []\n",
    "        for step in range(10**4):\n",
    "            environment.step(np.random.choice([\"RIGHT\", \"LEFT\", \"UP\", \"DOWN\"], p=[0.2, 0.4, 0.2, 0.2]))\n",
    "            temp.append(environment.bank)\n",
    "        rewards.append(temp)\n",
    "        environment.reset()\n",
    "    return rewards"
   ]
  },
  {
   "cell_type": "code",
   "execution_count": 157,
   "id": "cloudy-witness",
   "metadata": {},
   "outputs": [
    {
     "data": {
      "image/png": "[encoded data removed]",
      "text/plain": [
       "<Figure size 432x288 with 1 Axes>"
      ]
     },
     "metadata": {
      "needs_background": "light"
     },
     "output_type": "display_data"
    },
    {
     "data": {
      "text/plain": [
       "<Figure size 1440x720 with 0 Axes>"
      ]
     },
     "metadata": {},
     "output_type": "display_data"
    }
   ],
   "source": [
    "stochastic = run_random()\n",
    "for sums in stochastic:\n",
    "    plt.plot(sums, \"--\", alpha=0.3, color=\"black\")\n",
    "plt.plot(np.average(stochastic, axis=0), label=\"stochastic\", color=\"black\")\n",
    "\n",
    "better = run_better()\n",
    "for sums in better:\n",
    "    plt.plot(sums, \"--\", alpha=0.3, color=\"green\")\n",
    "plt.plot(np.average(better, axis=0), label=\"better\", color=\"green\")\n",
    "\n",
    "worse = run_worse()\n",
    "for sums in worse:\n",
    "    plt.plot(sums, \"--\", alpha=0.3, color=\"blue\")\n",
    "plt.plot(np.average(worse, axis=0), label=\"worse\", color=\"blue\")\n",
    "\n",
    "plt.legend(loc=\"right\")\n",
    "\n",
    "plt.show()"
   ]
  },
  {
   "cell_type": "code",
   "execution_count": null,
   "id": "superb-seven",
   "metadata": {},
   "outputs": [],
   "source": []
  }
 ],
 "metadata": {
  "kernelspec": {
   "display_name": "Python 3",
   "language": "python",
   "name": "python3"
  },
  "language_info": {
   "codemirror_mode": {
    "name": "ipython",
    "version": 3
   },
   "file_extension": ".py",
   "mimetype": "text/x-python",
   "name": "python",
   "nbconvert_exporter": "python",
   "pygments_lexer": "ipython3",
   "version": "3.7.4"
  }
 },
 "nbformat": 4,
 "nbformat_minor": 5
}
